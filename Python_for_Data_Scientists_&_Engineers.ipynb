{
  "nbformat": 4,
  "nbformat_minor": 0,
  "metadata": {
    "colab": {
      "name": "Python for Data Scientists & Engineers.ipynb",
      "provenance": [],
      "authorship_tag": "ABX9TyP14d8zumQFL8X1jybZ8h4T",
      "include_colab_link": true
    },
    "kernelspec": {
      "name": "python3",
      "display_name": "Python 3"
    }
  },
  "cells": [
    {
      "cell_type": "markdown",
      "metadata": {
        "id": "view-in-github",
        "colab_type": "text"
      },
      "source": [
        "<a href=\"https://colab.research.google.com/github/abernauer/Python-for-Data-Scientists-and-Engineers/blob/master/Python_for_Data_Scientists_%26_Engineers.ipynb\" target=\"_parent\"><img src=\"https://colab.research.google.com/assets/colab-badge.svg\" alt=\"Open In Colab\"/></a>"
      ]
    },
    {
      "cell_type": "markdown",
      "metadata": {
        "id": "NFDdT17BWZAH",
        "colab_type": "text"
      },
      "source": [
        "# Variables"
      ]
    },
    {
      "cell_type": "code",
      "metadata": {
        "id": "Lyf5KmEMYRtH",
        "colab_type": "code",
        "colab": {}
      },
      "source": [
        "import this"
      ],
      "execution_count": 58,
      "outputs": []
    },
    {
      "cell_type": "markdown",
      "metadata": {
        "id": "YjiEWSC-Yi1R",
        "colab_type": "text"
      },
      "source": [
        "Notes on the zen of Python:\n",
        "* Code that is readable is best\n",
        "* Python is going to do what you said\n",
        "* Python won't guess what you want to do\n",
        "* Preferably there is only way to do something in Python, you should do it that way \n"
      ]
    },
    {
      "cell_type": "code",
      "metadata": {
        "id": "-vR_C_h4aV2U",
        "colab_type": "code",
        "colab": {}
      },
      "source": [
        "status = 'off'"
      ],
      "execution_count": 59,
      "outputs": []
    },
    {
      "cell_type": "code",
      "metadata": {
        "id": "AxVgIm1QadyH",
        "colab_type": "code",
        "colab": {}
      },
      "source": [
        "# variables don't have type\n",
        "# a letter is a bad variable name\n",
        "\n",
        "b = 400\n",
        "b = '400'"
      ],
      "execution_count": 60,
      "outputs": []
    },
    {
      "cell_type": "markdown",
      "metadata": {
        "id": "NC_G-iMEae3m",
        "colab_type": "text"
      },
      "source": [
        "Everything in Python is an object that has:\n",
        "* an identity (id)\n",
        "* a type (type). Determines what operations object can perform.\n",
        "* a value (mutable or immutable)\n",
        "* reference count"
      ]
    },
    {
      "cell_type": "code",
      "metadata": {
        "id": "ry0ttEzrb4k6",
        "colab_type": "code",
        "colab": {
          "base_uri": "https://localhost:8080/",
          "height": 35
        },
        "outputId": "f49f1ab4-1f1e-4366-9c29-24db959ac723"
      },
      "source": [
        "id(b)"
      ],
      "execution_count": 61,
      "outputs": [
        {
          "output_type": "execute_result",
          "data": {
            "text/plain": [
              "140707338392104"
            ]
          },
          "metadata": {
            "tags": []
          },
          "execution_count": 61
        }
      ]
    },
    {
      "cell_type": "code",
      "metadata": {
        "id": "C05jDi_scUmq",
        "colab_type": "code",
        "colab": {
          "base_uri": "https://localhost:8080/",
          "height": 35
        },
        "outputId": "5fc5626d-b3bb-426b-d1df-f8f06a61826d"
      },
      "source": [
        "type(b)"
      ],
      "execution_count": 62,
      "outputs": [
        {
          "output_type": "execute_result",
          "data": {
            "text/plain": [
              "str"
            ]
          },
          "metadata": {
            "tags": []
          },
          "execution_count": 62
        }
      ]
    },
    {
      "cell_type": "code",
      "metadata": {
        "id": "kFKdtmqWdtHY",
        "colab_type": "code",
        "colab": {
          "base_uri": "https://localhost:8080/",
          "height": 35
        },
        "outputId": "bab54c97-32dc-4972-eacf-7689410868ee"
      },
      "source": [
        "b"
      ],
      "execution_count": 63,
      "outputs": [
        {
          "output_type": "execute_result",
          "data": {
            "application/vnd.google.colaboratory.intrinsic+json": {
              "type": "string"
            },
            "text/plain": [
              "'400'"
            ]
          },
          "metadata": {
            "tags": []
          },
          "execution_count": 63
        }
      ]
    },
    {
      "cell_type": "code",
      "metadata": {
        "id": "5c2z4QGReA_h",
        "colab_type": "code",
        "colab": {
          "base_uri": "https://localhost:8080/",
          "height": 35
        },
        "outputId": "fcf7e9de-7c36-4dc6-81ee-b20ba81955d5"
      },
      "source": [
        "import sys\n",
        "sys.getrefcount(b)"
      ],
      "execution_count": 64,
      "outputs": [
        {
          "output_type": "execute_result",
          "data": {
            "text/plain": [
              "18"
            ]
          },
          "metadata": {
            "tags": []
          },
          "execution_count": 64
        }
      ]
    },
    {
      "cell_type": "code",
      "metadata": {
        "id": "2L4L719CecFF",
        "colab_type": "code",
        "colab": {
          "base_uri": "https://localhost:8080/",
          "height": 35
        },
        "outputId": "be713e72-83ce-4801-87be-117c6a74cfee"
      },
      "source": [
        "# built-in \"literals\"\n",
        "# string\n",
        "name = \"andrew \\N{GRINNING FACE}\" # literal\n",
        "age_string = str(25) # using str constructor\n",
        "name"
      ],
      "execution_count": 65,
      "outputs": [
        {
          "output_type": "execute_result",
          "data": {
            "application/vnd.google.colaboratory.intrinsic+json": {
              "type": "string"
            },
            "text/plain": [
              "'andrew 😀'"
            ]
          },
          "metadata": {
            "tags": []
          },
          "execution_count": 65
        }
      ]
    },
    {
      "cell_type": "code",
      "metadata": {
        "id": "SES1Xm3pfCif",
        "colab_type": "code",
        "colab": {}
      },
      "source": [
        "# number literals (constructor in parens)\n",
        "age = 25 # integer literal (int)\n",
        "cost =  5.5 # float literal (float)\n",
        "loc = 1 + 0j # complex literal (complex)"
      ],
      "execution_count": 66,
      "outputs": []
    },
    {
      "cell_type": "code",
      "metadata": {
        "id": "pXllec9divUd",
        "colab_type": "code",
        "colab": {}
      },
      "source": [
        "# list literal \n",
        "names = [name, 'suzy', 'fred']\n",
        "characters = list('aeiou') # constructor"
      ],
      "execution_count": 67,
      "outputs": []
    },
    {
      "cell_type": "code",
      "metadata": {
        "id": "86odxOQxjEeS",
        "colab_type": "code",
        "colab": {
          "base_uri": "https://localhost:8080/",
          "height": 35
        },
        "outputId": "e69e4136-695c-468d-a93c-cfb14f6d1a76"
      },
      "source": [
        "characters"
      ],
      "execution_count": 68,
      "outputs": [
        {
          "output_type": "execute_result",
          "data": {
            "text/plain": [
              "['a', 'e', 'i', 'o', 'u']"
            ]
          },
          "metadata": {
            "tags": []
          },
          "execution_count": 68
        }
      ]
    },
    {
      "cell_type": "code",
      "metadata": {
        "id": "2t4VzvEtjQ3F",
        "colab_type": "code",
        "colab": {}
      },
      "source": [
        "# tuple literal \n",
        "person = ('fred', 42, '123-432-0943', '123 North Street')\n",
        "person2 = tuple(['susan', 43, '213-123-0987', '789 West Ave'])"
      ],
      "execution_count": 69,
      "outputs": []
    },
    {
      "cell_type": "code",
      "metadata": {
        "id": "gW4pZj90j5f8",
        "colab_type": "code",
        "colab": {
          "base_uri": "https://localhost:8080/",
          "height": 35
        },
        "outputId": "f2896ed5-1b5b-4fd6-df3d-445d90569d9a"
      },
      "source": [
        "person2"
      ],
      "execution_count": 70,
      "outputs": [
        {
          "output_type": "execute_result",
          "data": {
            "text/plain": [
              "('susan', 43, '213-123-0987', '789 West Ave')"
            ]
          },
          "metadata": {
            "tags": []
          },
          "execution_count": 70
        }
      ]
    },
    {
      "cell_type": "code",
      "metadata": {
        "id": "CnTSs_V_kPAo",
        "colab_type": "code",
        "colab": {}
      },
      "source": [
        "# dictionary\n",
        "types = {'name' : 'string', 'age' : 'int'}\n",
        "ages = dict(zip(['fred', 'suzy'], [20, 21]))\n",
        "types2 = dict(name='string', age='int')"
      ],
      "execution_count": 71,
      "outputs": []
    },
    {
      "cell_type": "code",
      "metadata": {
        "id": "EiIHxSsqlWg5",
        "colab_type": "code",
        "colab": {
          "base_uri": "https://localhost:8080/",
          "height": 35
        },
        "outputId": "352e5f63-939d-424e-e138-e946d3146e55"
      },
      "source": [
        "ages"
      ],
      "execution_count": 72,
      "outputs": [
        {
          "output_type": "execute_result",
          "data": {
            "text/plain": [
              "{'fred': 20, 'suzy': 21}"
            ]
          },
          "metadata": {
            "tags": []
          },
          "execution_count": 72
        }
      ]
    },
    {
      "cell_type": "code",
      "metadata": {
        "id": "PlZiCpv8lZXK",
        "colab_type": "code",
        "colab": {
          "base_uri": "https://localhost:8080/",
          "height": 35
        },
        "outputId": "41ee9865-a00c-4fa4-a488-7ca54b2fb411"
      },
      "source": [
        "types2"
      ],
      "execution_count": 73,
      "outputs": [
        {
          "output_type": "execute_result",
          "data": {
            "text/plain": [
              "{'age': 'int', 'name': 'string'}"
            ]
          },
          "metadata": {
            "tags": []
          },
          "execution_count": 73
        }
      ]
    },
    {
      "cell_type": "code",
      "metadata": {
        "id": "JvAw5100lchf",
        "colab_type": "code",
        "colab": {
          "base_uri": "https://localhost:8080/",
          "height": 35
        },
        "outputId": "65a1c997-0369-4cb1-bbb4-933c408314e1"
      },
      "source": [
        "# set \n",
        "digits = (0, 1, 2, 3, 4, 5, 6, 7, 8, 9)\n",
        "unique_chars = set('lorem ipsum dolor')\n",
        "unique_chars"
      ],
      "execution_count": 74,
      "outputs": [
        {
          "output_type": "execute_result",
          "data": {
            "text/plain": [
              "{' ', 'd', 'e', 'i', 'l', 'm', 'o', 'p', 'r', 's', 'u'}"
            ]
          },
          "metadata": {
            "tags": []
          },
          "execution_count": 74
        }
      ]
    },
    {
      "cell_type": "code",
      "metadata": {
        "id": "DJCiwf1lmCcr",
        "colab_type": "code",
        "colab": {
          "base_uri": "https://localhost:8080/",
          "height": 55
        },
        "outputId": "af1a879d-b551-4ed5-a731-cab4e8c93637"
      },
      "source": [
        "print(dir(__builtin__))"
      ],
      "execution_count": 75,
      "outputs": [
        {
          "output_type": "stream",
          "text": [
            "['ArithmeticError', 'AssertionError', 'AttributeError', 'BaseException', 'BlockingIOError', 'BrokenPipeError', 'BufferError', 'BytesWarning', 'ChildProcessError', 'ConnectionAbortedError', 'ConnectionError', 'ConnectionRefusedError', 'ConnectionResetError', 'DeprecationWarning', 'EOFError', 'Ellipsis', 'EnvironmentError', 'Exception', 'False', 'FileExistsError', 'FileNotFoundError', 'FloatingPointError', 'FutureWarning', 'GeneratorExit', 'IOError', 'ImportError', 'ImportWarning', 'IndentationError', 'IndexError', 'InterruptedError', 'IsADirectoryError', 'KeyError', 'KeyboardInterrupt', 'LookupError', 'MemoryError', 'ModuleNotFoundError', 'NameError', 'None', 'NotADirectoryError', 'NotImplemented', 'NotImplementedError', 'OSError', 'OverflowError', 'PendingDeprecationWarning', 'PermissionError', 'ProcessLookupError', 'RecursionError', 'ReferenceError', 'ResourceWarning', 'RuntimeError', 'RuntimeWarning', 'StopAsyncIteration', 'StopIteration', 'SyntaxError', 'SyntaxWarning', 'SystemError', 'SystemExit', 'TabError', 'TimeoutError', 'True', 'TypeError', 'UnboundLocalError', 'UnicodeDecodeError', 'UnicodeEncodeError', 'UnicodeError', 'UnicodeTranslateError', 'UnicodeWarning', 'UserWarning', 'ValueError', 'Warning', 'ZeroDivisionError', '__IPYTHON__', '__build_class__', '__debug__', '__doc__', '__import__', '__loader__', '__name__', '__package__', '__spec__', 'abs', 'all', 'any', 'ascii', 'bin', 'bool', 'bytearray', 'bytes', 'callable', 'chr', 'classmethod', 'compile', 'complex', 'copyright', 'credits', 'delattr', 'dict', 'dir', 'display', 'divmod', 'dreload', 'enumerate', 'eval', 'exec', 'filter', 'float', 'format', 'frozenset', 'get_ipython', 'getattr', 'globals', 'hasattr', 'hash', 'help', 'hex', 'id', 'input', 'int', 'isinstance', 'issubclass', 'iter', 'len', 'license', 'list', 'locals', 'map', 'max', 'memoryview', 'min', 'next', 'object', 'oct', 'open', 'ord', 'pow', 'print', 'property', 'range', 'repr', 'reversed', 'round', 'set', 'setattr', 'slice', 'sorted', 'staticmethod', 'str', 'sum', 'super', 'tuple', 'type', 'vars', 'zip']\n"
          ],
          "name": "stdout"
        }
      ]
    },
    {
      "cell_type": "markdown",
      "metadata": {
        "id": "q74gPmyPmQP_",
        "colab_type": "text"
      },
      "source": [
        "These are all in the built in namespace."
      ]
    },
    {
      "cell_type": "markdown",
      "metadata": {
        "id": "DIi1SYlTmaRz",
        "colab_type": "text"
      },
      "source": [
        "Lookup hierarchy:\n",
        "* Local- function/method\n",
        "* Enclosed - nested function/method\n",
        "* Global\n",
        "* Builtin\n",
        "* Name error!\n"
      ]
    },
    {
      "cell_type": "code",
      "metadata": {
        "id": "vZf4zqVwm2gI",
        "colab_type": "code",
        "colab": {
          "base_uri": "https://localhost:8080/",
          "height": 190
        },
        "outputId": "11111c04-3440-4609-8c13-76c468441716"
      },
      "source": [
        "# name error\n",
        "missing"
      ],
      "execution_count": 76,
      "outputs": [
        {
          "output_type": "error",
          "ename": "NameError",
          "evalue": "ignored",
          "traceback": [
            "\u001b[0;31m---------------------------------------------------------------------------\u001b[0m",
            "\u001b[0;31mNameError\u001b[0m                                 Traceback (most recent call last)",
            "\u001b[0;32m<ipython-input-76-8d62f248ea99>\u001b[0m in \u001b[0;36m<module>\u001b[0;34m()\u001b[0m\n\u001b[1;32m      1\u001b[0m \u001b[0;31m# name error\u001b[0m\u001b[0;34m\u001b[0m\u001b[0;34m\u001b[0m\u001b[0;34m\u001b[0m\u001b[0m\n\u001b[0;32m----> 2\u001b[0;31m \u001b[0mmissing\u001b[0m\u001b[0;34m\u001b[0m\u001b[0;34m\u001b[0m\u001b[0m\n\u001b[0m",
            "\u001b[0;31mNameError\u001b[0m: name 'missing' is not defined"
          ]
        }
      ]
    },
    {
      "cell_type": "markdown",
      "metadata": {
        "id": "Jp_3Kd-fm8xU",
        "colab_type": "text"
      },
      "source": [
        "naming \n",
        "* lowercase\n",
        "* underscore_between_words\n",
        "* don't start with numbers\n",
        "* don't use names that are reserved or built in"
      ]
    },
    {
      "cell_type": "markdown",
      "metadata": {
        "id": "XOO-Yu1ZnS_s",
        "colab_type": "text"
      },
      "source": [
        "#Math"
      ]
    },
    {
      "cell_type": "code",
      "metadata": {
        "id": "su3fG_E4t24j",
        "colab_type": "code",
        "colab": {}
      },
      "source": [
        "# +,-,*,/\n",
        "42 + 10"
      ],
      "execution_count": null,
      "outputs": []
    },
    {
      "cell_type": "code",
      "metadata": {
        "id": "bdEHfkpGuBo1",
        "colab_type": "code",
        "colab": {}
      },
      "source": [
        "42 ** 100"
      ],
      "execution_count": null,
      "outputs": []
    },
    {
      "cell_type": "markdown",
      "metadata": {
        "id": "B5uUMprtuKIu",
        "colab_type": "text"
      },
      "source": [
        "** power operator"
      ]
    },
    {
      "cell_type": "code",
      "metadata": {
        "id": "J2FlqtoAuOEZ",
        "colab_type": "code",
        "colab": {}
      },
      "source": [
        "57 % 2"
      ],
      "execution_count": null,
      "outputs": []
    },
    {
      "cell_type": "code",
      "metadata": {
        "id": "cKBXzxhQuUQQ",
        "colab_type": "code",
        "colab": {}
      },
      "source": [
        "# number \"tower\" int, float, complex\n",
        "3 + 4.5"
      ],
      "execution_count": null,
      "outputs": []
    },
    {
      "cell_type": "code",
      "metadata": {
        "id": "XQZWJA7xunrC",
        "colab_type": "code",
        "colab": {}
      },
      "source": [
        "1 - (2+4j)"
      ],
      "execution_count": null,
      "outputs": []
    },
    {
      "cell_type": "code",
      "metadata": {
        "id": "CG8J49uMuv8O",
        "colab_type": "code",
        "colab": {}
      },
      "source": [
        "# the secret life of Python objects\n",
        "print(dir(42))"
      ],
      "execution_count": null,
      "outputs": []
    },
    {
      "cell_type": "markdown",
      "metadata": {
        "id": "QO68TxoPvO5w",
        "colab_type": "text"
      },
      "source": [
        "List of dunder methods or attributes of 42."
      ]
    },
    {
      "cell_type": "code",
      "metadata": {
        "id": "mLacsj5GvBnX",
        "colab_type": "code",
        "colab": {}
      },
      "source": [
        "help((42).bit_length)"
      ],
      "execution_count": null,
      "outputs": []
    },
    {
      "cell_type": "code",
      "metadata": {
        "id": "7p0TXWjhwDNR",
        "colab_type": "code",
        "colab": {}
      },
      "source": [
        "42.bit_length()"
      ],
      "execution_count": null,
      "outputs": []
    },
    {
      "cell_type": "code",
      "metadata": {
        "id": "K26K3W05wP6n",
        "colab_type": "code",
        "colab": {}
      },
      "source": [
        "(42).bit_length()"
      ],
      "execution_count": null,
      "outputs": []
    },
    {
      "cell_type": "code",
      "metadata": {
        "id": "bcjaAvmJwVJq",
        "colab_type": "code",
        "colab": {}
      },
      "source": [
        "bin(42)"
      ],
      "execution_count": null,
      "outputs": []
    },
    {
      "cell_type": "code",
      "metadata": {
        "id": "7TwWujiHwc8E",
        "colab_type": "code",
        "colab": {}
      },
      "source": [
        "42 + 10 # calling or dispatching dunder add method"
      ],
      "execution_count": null,
      "outputs": []
    },
    {
      "cell_type": "code",
      "metadata": {
        "id": "k3YpttpNw0a5",
        "colab_type": "code",
        "colab": {}
      },
      "source": [
        "# Python does this for us \n",
        "(42).__add__(10)"
      ],
      "execution_count": null,
      "outputs": []
    },
    {
      "cell_type": "markdown",
      "metadata": {
        "id": "jhnfgZ9MxlIB",
        "colab_type": "text"
      },
      "source": [
        "#Getting Help"
      ]
    },
    {
      "cell_type": "markdown",
      "metadata": {
        "id": "pn6i7Ez5xxNz",
        "colab_type": "text"
      },
      "source": [
        "? is not built in, but a feature of Juypter for getting help"
      ]
    },
    {
      "cell_type": "code",
      "metadata": {
        "id": "wYgFsZL5xsRG",
        "colab_type": "code",
        "colab": {}
      },
      "source": [
        "len?"
      ],
      "execution_count": null,
      "outputs": []
    },
    {
      "cell_type": "code",
      "metadata": {
        "id": "BigCDZzsx6Xy",
        "colab_type": "code",
        "colab": {}
      },
      "source": [
        "def adder(x, y):\n",
        "    \"Adds two values\"\n",
        "    return x + y"
      ],
      "execution_count": null,
      "outputs": []
    },
    {
      "cell_type": "code",
      "metadata": {
        "id": "eSR10PWoyGxT",
        "colab_type": "code",
        "colab": {}
      },
      "source": [
        "adder?"
      ],
      "execution_count": null,
      "outputs": []
    },
    {
      "cell_type": "markdown",
      "metadata": {
        "id": "wsWXjrypyOg7",
        "colab_type": "text"
      },
      "source": [
        "?? Shows source code"
      ]
    },
    {
      "cell_type": "code",
      "metadata": {
        "id": "odk8DS5LyMtO",
        "colab_type": "code",
        "colab": {}
      },
      "source": [
        "adder??"
      ],
      "execution_count": null,
      "outputs": []
    },
    {
      "cell_type": "code",
      "metadata": {
        "id": "LnyFHbz7ynKe",
        "colab_type": "code",
        "colab": {}
      },
      "source": [
        "help(adder)"
      ],
      "execution_count": null,
      "outputs": []
    },
    {
      "cell_type": "code",
      "metadata": {
        "id": "zySADVB7ytrp",
        "colab_type": "code",
        "colab": {}
      },
      "source": [
        "# hit enter alone to exit help\n",
        "help()"
      ],
      "execution_count": null,
      "outputs": []
    },
    {
      "cell_type": "markdown",
      "metadata": {
        "id": "-rhyDC71zMTc",
        "colab_type": "text"
      },
      "source": [
        "dir function will list the attributes of an object"
      ]
    },
    {
      "cell_type": "markdown",
      "metadata": {
        "id": "hm1E3yWWz1yt",
        "colab_type": "text"
      },
      "source": [
        "#Strings & Unicode"
      ]
    },
    {
      "cell_type": "code",
      "metadata": {
        "id": "sGXHqcMJz7XY",
        "colab_type": "code",
        "colab": {}
      },
      "source": [
        "name = 'paul'"
      ],
      "execution_count": null,
      "outputs": []
    },
    {
      "cell_type": "code",
      "metadata": {
        "id": "m3YFzcxl0BGL",
        "colab_type": "code",
        "colab": {}
      },
      "source": [
        "print(dir(name))"
      ],
      "execution_count": null,
      "outputs": []
    },
    {
      "cell_type": "code",
      "metadata": {
        "id": "mmGafER20FK_",
        "colab_type": "code",
        "colab": {}
      },
      "source": [
        "name.upper?"
      ],
      "execution_count": null,
      "outputs": []
    },
    {
      "cell_type": "code",
      "metadata": {
        "id": "mDQSCPQt0Ltk",
        "colab_type": "code",
        "colab": {}
      },
      "source": [
        "name.upper()"
      ],
      "execution_count": null,
      "outputs": []
    },
    {
      "cell_type": "code",
      "metadata": {
        "id": "F_2FpJbe0QA5",
        "colab_type": "code",
        "colab": {}
      },
      "source": [
        "name.title()"
      ],
      "execution_count": null,
      "outputs": []
    },
    {
      "cell_type": "code",
      "metadata": {
        "id": "7IU1W6hF0VLD",
        "colab_type": "code",
        "colab": {}
      },
      "source": [
        "name.find('au')"
      ],
      "execution_count": null,
      "outputs": []
    },
    {
      "cell_type": "code",
      "metadata": {
        "id": "HdX2twKx0blr",
        "colab_type": "code",
        "colab": {}
      },
      "source": [
        "name[0]"
      ],
      "execution_count": null,
      "outputs": []
    },
    {
      "cell_type": "markdown",
      "metadata": {
        "id": "wFMI9luQ0gu3",
        "colab_type": "text"
      },
      "source": [
        "Retreiving value at index zero in name"
      ]
    },
    {
      "cell_type": "code",
      "metadata": {
        "id": "0fFhjGrQ0q0w",
        "colab_type": "code",
        "colab": {}
      },
      "source": [
        "name[-1]"
      ],
      "execution_count": null,
      "outputs": []
    },
    {
      "cell_type": "markdown",
      "metadata": {
        "id": "r4EzW6aB0zYw",
        "colab_type": "text"
      },
      "source": [
        "Shorthand for the following"
      ]
    },
    {
      "cell_type": "code",
      "metadata": {
        "id": "jKsE7rOg03vk",
        "colab_type": "code",
        "colab": {}
      },
      "source": [
        "name[len(name) - 1]"
      ],
      "execution_count": null,
      "outputs": []
    },
    {
      "cell_type": "markdown",
      "metadata": {
        "id": "XMQAZThk1AFH",
        "colab_type": "text"
      },
      "source": [
        "Use negative indexing if you want something at the end."
      ]
    },
    {
      "cell_type": "code",
      "metadata": {
        "id": "nnqkSZTa1G1O",
        "colab_type": "code",
        "colab": {}
      },
      "source": [
        "?len"
      ],
      "execution_count": null,
      "outputs": []
    },
    {
      "cell_type": "code",
      "metadata": {
        "id": "j-kBg6rK1h5n",
        "colab_type": "code",
        "colab": {}
      },
      "source": [
        "greeting = 'Hello \\N{GRINNING FACE} \\U0001f600 😀'\n",
        "greeting"
      ],
      "execution_count": null,
      "outputs": []
    },
    {
      "cell_type": "markdown",
      "metadata": {
        "id": "X8cKv1tv2dO6",
        "colab_type": "text"
      },
      "source": [
        "Unicode is not UTF8. Unicode is a mapping to names or characters. UTF8 is an encoding."
      ]
    },
    {
      "cell_type": "code",
      "metadata": {
        "id": "vjamCeW92ygI",
        "colab_type": "code",
        "colab": {}
      },
      "source": [
        "# bytestring\n",
        "greeting.encode('utf8')"
      ],
      "execution_count": null,
      "outputs": []
    },
    {
      "cell_type": "markdown",
      "metadata": {
        "id": "Le-xrpVV29j7",
        "colab_type": "text"
      },
      "source": [
        "The b inticates it's a bytestring a sequence of digits or characters"
      ]
    },
    {
      "cell_type": "code",
      "metadata": {
        "id": "5cPnPOEg3O7e",
        "colab_type": "code",
        "colab": {}
      },
      "source": [
        "greeting.encode('utf8').decode('utf8')"
      ],
      "execution_count": null,
      "outputs": []
    },
    {
      "cell_type": "code",
      "metadata": {
        "id": "S6pKbhGS3eIx",
        "colab_type": "code",
        "colab": {}
      },
      "source": [
        "paragraph = \"\"\"Greetings,\n",
        "Thank you for attending tonight.\n",
        "Long-winded talk.\n",
        "Goodbye!\"\"\""
      ],
      "execution_count": null,
      "outputs": []
    },
    {
      "cell_type": "markdown",
      "metadata": {
        "id": "OPM5QWx23ty8",
        "colab_type": "text"
      },
      "source": [
        "Triple quotes allow for new lines in Python. \"\"\" typically used in docustrings.\n",
        "\n",
        "\n"
      ]
    },
    {
      "cell_type": "code",
      "metadata": {
        "id": "ck4luhZV3x86",
        "colab_type": "code",
        "colab": {}
      },
      "source": [
        "paragraph"
      ],
      "execution_count": null,
      "outputs": []
    },
    {
      "cell_type": "code",
      "metadata": {
        "id": "TFck_rp239Ot",
        "colab_type": "code",
        "colab": {}
      },
      "source": [
        "# F-strings (Python 3.6+)\n",
        "minutes = 36 \n",
        "paragraph = f\"\"\"Greetings {name.title()},\n",
        "Thank you for attending tonight.\n",
        "We will be here for {minutes/60:.2f} hours\n",
        "Long-winded talk.\n",
        "Goodbye {name}!\"\"\"\n",
        "print(paragraph)"
      ],
      "execution_count": null,
      "outputs": []
    },
    {
      "cell_type": "markdown",
      "metadata": {
        "id": "VCY1YV3gkevy",
        "colab_type": "text"
      },
      "source": [
        "#Files\n"
      ]
    },
    {
      "cell_type": "markdown",
      "metadata": {
        "id": "OpbVj-7Joknw",
        "colab_type": "text"
      },
      "source": [
        "Old way to write to file with output stream:"
      ]
    },
    {
      "cell_type": "code",
      "metadata": {
        "id": "y2NdoaEvkixm",
        "colab_type": "code",
        "colab": {}
      },
      "source": [
        "fout = open('names.csv', mode='w', encoding='utf8')\n",
        "fout.write('name, age\\n')\n",
        "fout.write('jeff, 30\\n')\n",
        "fout.write('linda, 29\\n')\n",
        "fout.close()"
      ],
      "execution_count": null,
      "outputs": []
    },
    {
      "cell_type": "markdown",
      "metadata": {
        "id": "RPKgSir0ovFr",
        "colab_type": "text"
      },
      "source": [
        "Modern approach:"
      ]
    },
    {
      "cell_type": "code",
      "metadata": {
        "id": "EFk005nJoxE9",
        "colab_type": "code",
        "colab": {}
      },
      "source": [
        "# context manager also used in plotting and setting pandas parameters\n",
        "with open('names.csv', mode='w', encoding='utf8') as fout:\n",
        "    fout.write('name, age\\n')\n",
        "    fout.write('jeff, 30\\n')\n",
        "    fout.write('linda, 29\\n')\n",
        "# file is automatically closed when we dedent\n",
        "fout.write('bad,42\\n')"
      ],
      "execution_count": null,
      "outputs": []
    },
    {
      "cell_type": "code",
      "metadata": {
        "id": "6IekgoIGqHCM",
        "colab_type": "code",
        "colab": {}
      },
      "source": [
        "print(dir(fout))"
      ],
      "execution_count": null,
      "outputs": []
    },
    {
      "cell_type": "code",
      "metadata": {
        "id": "sB4bBebGqSDL",
        "colab_type": "code",
        "colab": {}
      },
      "source": [
        "help(fout.write)"
      ],
      "execution_count": null,
      "outputs": []
    },
    {
      "cell_type": "code",
      "metadata": {
        "id": "IYdG4RS7qeB7",
        "colab_type": "code",
        "colab": {}
      },
      "source": [
        "fout.write?"
      ],
      "execution_count": null,
      "outputs": []
    },
    {
      "cell_type": "code",
      "metadata": {
        "id": "Vj80CP3Aq05m",
        "colab_type": "code",
        "colab": {}
      },
      "source": [
        "with open('names.csv', encoding='utf8') as fin:\n",
        "    data = fin.read()\n",
        "data"
      ],
      "execution_count": null,
      "outputs": []
    },
    {
      "cell_type": "markdown",
      "metadata": {
        "id": "6X3SXekpsLn3",
        "colab_type": "text"
      },
      "source": [
        "Read the file as binary:"
      ]
    },
    {
      "cell_type": "code",
      "metadata": {
        "id": "CINsXGitsTbc",
        "colab_type": "code",
        "colab": {}
      },
      "source": [
        "with open('names.csv', mode='rb') as fin:\n",
        "    one_byte = fin.read(1)\n",
        "    ten_bytes = fin.read(10)\n",
        "one_byte"
      ],
      "execution_count": null,
      "outputs": []
    },
    {
      "cell_type": "code",
      "metadata": {
        "id": "efA23ozAs1GQ",
        "colab_type": "code",
        "colab": {}
      },
      "source": [
        "ten_bytes.decode('utf8')"
      ],
      "execution_count": null,
      "outputs": []
    },
    {
      "cell_type": "code",
      "metadata": {
        "id": "8UeeSLlMtBBB",
        "colab_type": "code",
        "colab": {}
      },
      "source": [
        "# careful with encoding\n",
        "with open('unigreeting.txt', 'w', encoding='utf8') as fout:\n",
        "    fout.write('Hello \\N{GRINNING FACE}')"
      ],
      "execution_count": null,
      "outputs": []
    },
    {
      "cell_type": "code",
      "metadata": {
        "id": "6eTst_CJtjz9",
        "colab_type": "code",
        "colab": {}
      },
      "source": [
        "greeting = open('unigreeting.txt', 'r', encoding='utf8').read()\n",
        "greeting"
      ],
      "execution_count": null,
      "outputs": []
    },
    {
      "cell_type": "code",
      "metadata": {
        "id": "NIZ9T0hruGW-",
        "colab_type": "code",
        "colab": {}
      },
      "source": [
        "greeting = open('unigreeting.txt', 'r', encoding='windows_1252').read()\n",
        "greeting"
      ],
      "execution_count": null,
      "outputs": []
    },
    {
      "cell_type": "code",
      "metadata": {
        "id": "beOCqyRLuUGG",
        "colab_type": "code",
        "colab": {}
      },
      "source": [
        "greeting = open('unigreeting.txt', 'r', encoding='ascii').read()\n",
        "greeting"
      ],
      "execution_count": null,
      "outputs": []
    },
    {
      "cell_type": "code",
      "metadata": {
        "id": "JYngePycuk_f",
        "colab_type": "code",
        "colab": {}
      },
      "source": [
        "greeting.encode('windows_1252')"
      ],
      "execution_count": null,
      "outputs": []
    },
    {
      "cell_type": "code",
      "metadata": {
        "id": "0eESihIRur4C",
        "colab_type": "code",
        "colab": {}
      },
      "source": [
        "greeting.encode('windows_1252').decode('utf8')"
      ],
      "execution_count": null,
      "outputs": []
    },
    {
      "cell_type": "code",
      "metadata": {
        "id": "EBa3UkUuu4cZ",
        "colab_type": "code",
        "colab": {}
      },
      "source": [
        "import encodings\n",
        "print(sorted(encodings.aliases.aliases))"
      ],
      "execution_count": null,
      "outputs": []
    },
    {
      "cell_type": "markdown",
      "metadata": {
        "id": "eG_DhG0HvscW",
        "colab_type": "text"
      },
      "source": [
        "#Lists"
      ]
    },
    {
      "cell_type": "markdown",
      "metadata": {
        "id": "c6xF7GP1v5R8",
        "colab_type": "text"
      },
      "source": [
        "Typically, lists have items of the same type and they're mutable."
      ]
    },
    {
      "cell_type": "code",
      "metadata": {
        "id": "07SnA-yKvrmE",
        "colab_type": "code",
        "colab": {}
      },
      "source": [
        "names = ['john', 'paul', 'george']"
      ],
      "execution_count": null,
      "outputs": []
    },
    {
      "cell_type": "code",
      "metadata": {
        "id": "pbl7ST6PwXRX",
        "colab_type": "code",
        "colab": {}
      },
      "source": [
        "print(dir(names))"
      ],
      "execution_count": null,
      "outputs": []
    },
    {
      "cell_type": "code",
      "metadata": {
        "id": "6mXm0XuJwgHg",
        "colab_type": "code",
        "colab": {}
      },
      "source": [
        "names.append?"
      ],
      "execution_count": null,
      "outputs": []
    },
    {
      "cell_type": "markdown",
      "metadata": {
        "id": "cyElIu4UwmNg",
        "colab_type": "text"
      },
      "source": [
        "Append mutates the list in place and doesn't return a new list."
      ]
    },
    {
      "cell_type": "code",
      "metadata": {
        "id": "hPixRkJZw3D9",
        "colab_type": "code",
        "colab": {}
      },
      "source": [
        "names.append('ringo')"
      ],
      "execution_count": null,
      "outputs": []
    },
    {
      "cell_type": "code",
      "metadata": {
        "id": "ls5BYLpkw6E4",
        "colab_type": "code",
        "colab": {}
      },
      "source": [
        "names"
      ],
      "execution_count": null,
      "outputs": []
    },
    {
      "cell_type": "code",
      "metadata": {
        "id": "CMlWQgMzxiT7",
        "colab_type": "code",
        "colab": {}
      },
      "source": [
        "names.index('paul')"
      ],
      "execution_count": null,
      "outputs": []
    },
    {
      "cell_type": "code",
      "metadata": {
        "id": "kZc0HarTxnDI",
        "colab_type": "code",
        "colab": {}
      },
      "source": [
        "names[1]"
      ],
      "execution_count": null,
      "outputs": []
    },
    {
      "cell_type": "code",
      "metadata": {
        "id": "pB-DvQq3xroa",
        "colab_type": "code",
        "colab": {}
      },
      "source": [
        "names.__getitem__(1)"
      ],
      "execution_count": null,
      "outputs": []
    },
    {
      "cell_type": "code",
      "metadata": {
        "id": "IWAakTwOx3vx",
        "colab_type": "code",
        "colab": {}
      },
      "source": [
        "names[1] = 'Paul'"
      ],
      "execution_count": null,
      "outputs": []
    },
    {
      "cell_type": "code",
      "metadata": {
        "id": "yPAciIFSx_ZH",
        "colab_type": "code",
        "colab": {}
      },
      "source": [
        "names"
      ],
      "execution_count": null,
      "outputs": []
    },
    {
      "cell_type": "code",
      "metadata": {
        "id": "udWt8aLKyO40",
        "colab_type": "code",
        "colab": {}
      },
      "source": [
        "'paul' in names"
      ],
      "execution_count": null,
      "outputs": []
    },
    {
      "cell_type": "code",
      "metadata": {
        "id": "osSl4HwhyXvd",
        "colab_type": "code",
        "colab": {}
      },
      "source": [
        "names.__contains__('paul')"
      ],
      "execution_count": null,
      "outputs": []
    },
    {
      "cell_type": "markdown",
      "metadata": {
        "id": "YNwRbbnkyjPg",
        "colab_type": "text"
      },
      "source": [
        "Lists generally hold things of the same type. In Python, lists are mutable."
      ]
    },
    {
      "cell_type": "markdown",
      "metadata": {
        "id": "n58BfIXpzLCX",
        "colab_type": "text"
      },
      "source": [
        "# Slicing"
      ]
    },
    {
      "cell_type": "markdown",
      "metadata": {
        "id": "B3PmioD-zW15",
        "colab_type": "text"
      },
      "source": [
        "Numpy and Pandas use slicing extensively."
      ]
    },
    {
      "cell_type": "code",
      "metadata": {
        "id": "Agb2Z_GTzTzC",
        "colab_type": "code",
        "colab": {}
      },
      "source": [
        "names"
      ],
      "execution_count": null,
      "outputs": []
    },
    {
      "cell_type": "code",
      "metadata": {
        "id": "YQMV4ozfzgSm",
        "colab_type": "code",
        "colab": {}
      },
      "source": [
        "# literal\n",
        "last = ['lennon', 'mccartney', 'harrison', 'starr']"
      ],
      "execution_count": null,
      "outputs": []
    },
    {
      "cell_type": "code",
      "metadata": {
        "id": "drmez8OCzwWw",
        "colab_type": "code",
        "colab": {}
      },
      "source": [
        "enumerate(names)"
      ],
      "execution_count": null,
      "outputs": []
    },
    {
      "cell_type": "code",
      "metadata": {
        "id": "dz385w1Xz1Kp",
        "colab_type": "code",
        "colab": {}
      },
      "source": [
        "# index values - using constructor\n",
        "list(enumerate(names))"
      ],
      "execution_count": null,
      "outputs": []
    },
    {
      "cell_type": "code",
      "metadata": {
        "id": "UCUx2vBy0Frz",
        "colab_type": "code",
        "colab": {}
      },
      "source": [
        "# negative index values\n",
        "list((i - len(names), n) for i, n in enumerate(names))"
      ],
      "execution_count": null,
      "outputs": []
    },
    {
      "cell_type": "code",
      "metadata": {
        "id": "LR3hnMdF0hmk",
        "colab_type": "code",
        "colab": {}
      },
      "source": [
        "names[0]"
      ],
      "execution_count": null,
      "outputs": []
    },
    {
      "cell_type": "code",
      "metadata": {
        "id": "dmbEy--Y0jcp",
        "colab_type": "code",
        "colab": {}
      },
      "source": [
        "names[-1]"
      ],
      "execution_count": null,
      "outputs": []
    },
    {
      "cell_type": "code",
      "metadata": {
        "id": "jjpE5M6j0ndJ",
        "colab_type": "code",
        "colab": {}
      },
      "source": [
        "# half-open interval\n",
        "# - includes start index but not end\n",
        "# - length = end - start\n",
        "names[0:3]"
      ],
      "execution_count": null,
      "outputs": []
    },
    {
      "cell_type": "markdown",
      "metadata": {
        "id": "5OzFyvlL1H1S",
        "colab_type": "text"
      },
      "source": [
        "Uses half open interval. Makes writing parallel implementations easier."
      ]
    },
    {
      "cell_type": "code",
      "metadata": {
        "id": "IeiqSCnV1nWZ",
        "colab_type": "code",
        "colab": {}
      },
      "source": [
        "names[:3]"
      ],
      "execution_count": null,
      "outputs": []
    },
    {
      "cell_type": "code",
      "metadata": {
        "id": "cxlnMtv51s6E",
        "colab_type": "code",
        "colab": {}
      },
      "source": [
        "names"
      ],
      "execution_count": null,
      "outputs": []
    },
    {
      "cell_type": "code",
      "metadata": {
        "id": "plkSgPZo1wBi",
        "colab_type": "code",
        "colab": {}
      },
      "source": [
        "names[2:]"
      ],
      "execution_count": null,
      "outputs": []
    },
    {
      "cell_type": "code",
      "metadata": {
        "id": "Qcjx1khL11c0",
        "colab_type": "code",
        "colab": {}
      },
      "source": [
        "names[-2:]"
      ],
      "execution_count": null,
      "outputs": []
    },
    {
      "cell_type": "code",
      "metadata": {
        "id": "CpFth3QF18bv",
        "colab_type": "code",
        "colab": {}
      },
      "source": [
        "# create a copy\n",
        "names2 = names[:]"
      ],
      "execution_count": null,
      "outputs": []
    },
    {
      "cell_type": "code",
      "metadata": {
        "id": "ZxAJNTWh2DXT",
        "colab_type": "code",
        "colab": {}
      },
      "source": [
        "id(names2)"
      ],
      "execution_count": null,
      "outputs": []
    },
    {
      "cell_type": "code",
      "metadata": {
        "id": "L-oq9FSy2HNT",
        "colab_type": "code",
        "colab": {}
      },
      "source": [
        "id(names)"
      ],
      "execution_count": null,
      "outputs": []
    },
    {
      "cell_type": "code",
      "metadata": {
        "id": "5aQfYNy_2LQ_",
        "colab_type": "code",
        "colab": {}
      },
      "source": [
        "names[0] is names2[0]"
      ],
      "execution_count": null,
      "outputs": []
    },
    {
      "cell_type": "code",
      "metadata": {
        "id": "9cKH4ir_2SMQ",
        "colab_type": "code",
        "colab": {}
      },
      "source": [
        "names == names2"
      ],
      "execution_count": null,
      "outputs": []
    },
    {
      "cell_type": "code",
      "metadata": {
        "id": "6zkJWOSx2Wzm",
        "colab_type": "code",
        "colab": {}
      },
      "source": [
        "names is names2"
      ],
      "execution_count": null,
      "outputs": []
    },
    {
      "cell_type": "code",
      "metadata": {
        "id": "MPNhLF2E2go_",
        "colab_type": "code",
        "colab": {}
      },
      "source": [
        "names[::-1]"
      ],
      "execution_count": null,
      "outputs": []
    },
    {
      "cell_type": "code",
      "metadata": {
        "id": "eEcHtI3O2m_c",
        "colab_type": "code",
        "colab": {}
      },
      "source": [
        "list(range(10))"
      ],
      "execution_count": null,
      "outputs": []
    },
    {
      "cell_type": "code",
      "metadata": {
        "id": "_tcdJoeD2sXg",
        "colab_type": "code",
        "colab": {}
      },
      "source": [
        "list(range(10))[::3]"
      ],
      "execution_count": null,
      "outputs": []
    },
    {
      "cell_type": "markdown",
      "metadata": {
        "id": "EDpqLqMg23oi",
        "colab_type": "text"
      },
      "source": [
        "Step or the stride in slice."
      ]
    },
    {
      "cell_type": "code",
      "metadata": {
        "id": "K_p6KvVH2_wz",
        "colab_type": "code",
        "colab": {}
      },
      "source": [
        "# also works with strings\n",
        "filename = 'resume.pdf'\n",
        "filename[:4]"
      ],
      "execution_count": null,
      "outputs": []
    },
    {
      "cell_type": "code",
      "metadata": {
        "id": "UjpevNmm3XOp",
        "colab_type": "code",
        "colab": {}
      },
      "source": [
        "filename[4]"
      ],
      "execution_count": null,
      "outputs": []
    },
    {
      "cell_type": "code",
      "metadata": {
        "id": "p4TsZdPU3ala",
        "colab_type": "code",
        "colab": {}
      },
      "source": [
        "filename[-3:]"
      ],
      "execution_count": null,
      "outputs": []
    },
    {
      "cell_type": "code",
      "metadata": {
        "id": "Rz1FlTRA3jK7",
        "colab_type": "code",
        "colab": {}
      },
      "source": [
        "filename[::-1]"
      ],
      "execution_count": null,
      "outputs": []
    },
    {
      "cell_type": "markdown",
      "metadata": {
        "id": "wUGeAOyp4WBk",
        "colab_type": "text"
      },
      "source": [
        "#Dictionaries"
      ]
    },
    {
      "cell_type": "markdown",
      "metadata": {
        "id": "EYvthWGg4cPT",
        "colab_type": "text"
      },
      "source": [
        "By word can look up a definition. Maps key:value pairs. Mod 30 operation tells you what bucket something falls in. It's an order one operation. Dictionaries are good for mapping operation aka changing column names."
      ]
    },
    {
      "cell_type": "code",
      "metadata": {
        "id": "uIL5iT_t4s60",
        "colab_type": "code",
        "colab": {}
      },
      "source": [
        "hash('name') % 30"
      ],
      "execution_count": null,
      "outputs": []
    },
    {
      "cell_type": "code",
      "metadata": {
        "id": "BJXlnTm26rGo",
        "colab_type": "code",
        "colab": {}
      },
      "source": [
        "hash('name')"
      ],
      "execution_count": null,
      "outputs": []
    },
    {
      "cell_type": "code",
      "metadata": {
        "id": "xdDFDg-y6ukb",
        "colab_type": "code",
        "colab": {}
      },
      "source": [
        "hash([])"
      ],
      "execution_count": null,
      "outputs": []
    },
    {
      "cell_type": "markdown",
      "metadata": {
        "id": "ZbvzwV9F6AdM",
        "colab_type": "text"
      },
      "source": [
        "Example usage telling pandas the types of columns."
      ]
    },
    {
      "cell_type": "code",
      "metadata": {
        "id": "0YNJ_H8q4VQA",
        "colab_type": "code",
        "colab": {}
      },
      "source": [
        "# literal \n",
        "types = {'name': str, 'age': int, 'address': str}"
      ],
      "execution_count": null,
      "outputs": []
    },
    {
      "cell_type": "markdown",
      "metadata": {
        "id": "V1JBi74r6akc",
        "colab_type": "text"
      },
      "source": [
        "Usings the constructor you need to pass valid literals."
      ]
    },
    {
      "cell_type": "code",
      "metadata": {
        "id": "8lTrDi8b6Hfv",
        "colab_type": "code",
        "colab": {}
      },
      "source": [
        "# constructor\n",
        "types2 = dict(name=str, age=int, address=str)"
      ],
      "execution_count": null,
      "outputs": []
    },
    {
      "cell_type": "code",
      "metadata": {
        "id": "rCPXH_HJ60BQ",
        "colab_type": "code",
        "colab": {}
      },
      "source": [
        "# index access\n",
        "types['name']"
      ],
      "execution_count": null,
      "outputs": []
    },
    {
      "cell_type": "markdown",
      "metadata": {
        "id": "tpygwdOu7W-H",
        "colab_type": "text"
      },
      "source": [
        "Dictionaries like lists are mutable."
      ]
    },
    {
      "cell_type": "code",
      "metadata": {
        "id": "KPZboLYl7Gc8",
        "colab_type": "code",
        "colab": {}
      },
      "source": [
        "# index assignment \n",
        "types['language'] = str"
      ],
      "execution_count": null,
      "outputs": []
    },
    {
      "cell_type": "code",
      "metadata": {
        "id": "gVkF8gdW7dyI",
        "colab_type": "code",
        "colab": {}
      },
      "source": [
        "types"
      ],
      "execution_count": null,
      "outputs": []
    },
    {
      "cell_type": "code",
      "metadata": {
        "id": "zp4HK5kX7g_w",
        "colab_type": "code",
        "colab": {}
      },
      "source": [
        "types['food']"
      ],
      "execution_count": null,
      "outputs": []
    },
    {
      "cell_type": "code",
      "metadata": {
        "id": "7jCWMtYF7m2G",
        "colab_type": "code",
        "colab": {}
      },
      "source": [
        "types.get('food', 'missing')"
      ],
      "execution_count": null,
      "outputs": []
    },
    {
      "cell_type": "code",
      "metadata": {
        "id": "yWihWl1g7rav",
        "colab_type": "code",
        "colab": {}
      },
      "source": [
        "types.get?"
      ],
      "execution_count": null,
      "outputs": []
    },
    {
      "cell_type": "code",
      "metadata": {
        "id": "QCOfkXeC7yFa",
        "colab_type": "code",
        "colab": {}
      },
      "source": [
        "print(dir(types))"
      ],
      "execution_count": null,
      "outputs": []
    },
    {
      "cell_type": "code",
      "metadata": {
        "id": "Eg8cj2Nb74pB",
        "colab_type": "code",
        "colab": {}
      },
      "source": [
        "'food' in types"
      ],
      "execution_count": null,
      "outputs": []
    },
    {
      "cell_type": "markdown",
      "metadata": {
        "id": "ihAuJ4299FZb",
        "colab_type": "text"
      },
      "source": [
        "#Loopings & Comprehensions\n"
      ]
    },
    {
      "cell_type": "code",
      "metadata": {
        "id": "TwrQG5B49N4_",
        "colab_type": "code",
        "colab": {}
      },
      "source": [
        "for name in names:\n",
        "    print(name)"
      ],
      "execution_count": null,
      "outputs": []
    },
    {
      "cell_type": "code",
      "metadata": {
        "colab_type": "code",
        "id": "yGzroFuz9a8L",
        "colab": {}
      },
      "source": [
        "for name in names:\n",
        "    print(name.title())"
      ],
      "execution_count": null,
      "outputs": []
    },
    {
      "cell_type": "markdown",
      "metadata": {
        "id": "DNAgfmpx-KRz",
        "colab_type": "text"
      },
      "source": [
        "Code smell in Python:"
      ]
    },
    {
      "cell_type": "code",
      "metadata": {
        "id": "DAo-zgga9aBf",
        "colab_type": "code",
        "colab": {}
      },
      "source": [
        "names2 = []\n",
        "for name in names:\n",
        "    names2.append(name.title())\n",
        "names2"
      ],
      "execution_count": null,
      "outputs": []
    },
    {
      "cell_type": "markdown",
      "metadata": {
        "id": "mvj_ha9j-lW0",
        "colab_type": "text"
      },
      "source": [
        "To convert to a list comprehension, nest the for statement in your list without the : and add your fuction call or method."
      ]
    },
    {
      "cell_type": "markdown",
      "metadata": {
        "id": "tBER0O5x9_ZU",
        "colab_type": "text"
      },
      "source": [
        "List comprehensions are syntactic sugar."
      ]
    },
    {
      "cell_type": "code",
      "metadata": {
        "id": "m2FK64hk9yPP",
        "colab_type": "code",
        "colab": {}
      },
      "source": [
        "names2 = [name.title() for name in names]\n",
        "names2"
      ],
      "execution_count": null,
      "outputs": []
    },
    {
      "cell_type": "code",
      "metadata": {
        "id": "HLhZXFqH_BJJ",
        "colab_type": "code",
        "colab": {}
      },
      "source": [
        "types"
      ],
      "execution_count": null,
      "outputs": []
    },
    {
      "cell_type": "markdown",
      "metadata": {
        "id": "sq59szer_Jib",
        "colab_type": "text"
      },
      "source": [
        "When loop over a dictionary you loop over the keys. A dictionary is ordered in Python 3.6 and above."
      ]
    },
    {
      "cell_type": "code",
      "metadata": {
        "id": "z6H3iCf7_Aeo",
        "colab_type": "code",
        "colab": {}
      },
      "source": [
        "for t in types:\n",
        "    print(t)"
      ],
      "execution_count": null,
      "outputs": []
    },
    {
      "cell_type": "markdown",
      "metadata": {
        "id": "PQ_46UD__sxH",
        "colab_type": "text"
      },
      "source": [
        "Code smell again."
      ]
    },
    {
      "cell_type": "code",
      "metadata": {
        "id": "8N-imwS2_h67",
        "colab_type": "code",
        "colab": {}
      },
      "source": [
        "new_names = {}\n",
        "for t in types:\n",
        "    new_names[t] = t.title()\n",
        "new_names"
      ],
      "execution_count": null,
      "outputs": []
    },
    {
      "cell_type": "code",
      "metadata": {
        "id": "ZRpIgywF_zcJ",
        "colab_type": "code",
        "colab": {}
      },
      "source": [
        "new_names = {t: t.title() for t in types}\n",
        "new_names"
      ],
      "execution_count": null,
      "outputs": []
    },
    {
      "cell_type": "markdown",
      "metadata": {
        "id": "7FVLy_yaAJzu",
        "colab_type": "text"
      },
      "source": [
        "#Functions and Lambdas"
      ]
    },
    {
      "cell_type": "markdown",
      "metadata": {
        "id": "0O6mmqNLBScY",
        "colab_type": "text"
      },
      "source": [
        "Everything following the colon is indented and considered a block."
      ]
    },
    {
      "cell_type": "code",
      "metadata": {
        "id": "uVISP6zAAzxR",
        "colab_type": "code",
        "colab": {}
      },
      "source": [
        "def add(x, y):\n",
        "  \"\"\"This adds two values\n",
        "  >>> add(2, 4)\n",
        "  6\n",
        "  \"\"\"\n",
        "  return x + y"
      ],
      "execution_count": null,
      "outputs": []
    },
    {
      "cell_type": "code",
      "metadata": {
        "id": "g4qGPRM1Bib1",
        "colab_type": "code",
        "colab": {}
      },
      "source": [
        "add(2, 4)"
      ],
      "execution_count": null,
      "outputs": []
    },
    {
      "cell_type": "code",
      "metadata": {
        "id": "GkYFnJ14Bnwm",
        "colab_type": "code",
        "colab": {}
      },
      "source": [
        "add"
      ],
      "execution_count": null,
      "outputs": []
    },
    {
      "cell_type": "code",
      "metadata": {
        "id": "V1PT_1JoBtbR",
        "colab_type": "code",
        "colab": {}
      },
      "source": [
        "help(add)"
      ],
      "execution_count": null,
      "outputs": []
    },
    {
      "cell_type": "code",
      "metadata": {
        "id": "LEDxWfPOB1xg",
        "colab_type": "code",
        "colab": {}
      },
      "source": [
        "add?"
      ],
      "execution_count": null,
      "outputs": []
    },
    {
      "cell_type": "code",
      "metadata": {
        "id": "D-aTdFEFCEkx",
        "colab_type": "code",
        "colab": {}
      },
      "source": [
        "add??"
      ],
      "execution_count": null,
      "outputs": []
    },
    {
      "cell_type": "markdown",
      "metadata": {
        "id": "SUNS0N4mCwT7",
        "colab_type": "text"
      },
      "source": [
        "Only on else available at the end of the conditional."
      ]
    },
    {
      "cell_type": "code",
      "metadata": {
        "id": "Bwc5uEMiCNgh",
        "colab_type": "code",
        "colab": {}
      },
      "source": [
        "# conditional aside\n",
        "if name == 'paul':\n",
        "    last = 'mccartney'\n",
        "elif name == 'john':\n",
        "    last = 'lennon'\n",
        "else:\n",
        "    last = 'doe'"
      ],
      "execution_count": null,
      "outputs": []
    },
    {
      "cell_type": "code",
      "metadata": {
        "id": "LNtSY0BeC1fC",
        "colab_type": "code",
        "colab": {}
      },
      "source": [
        "name, last"
      ],
      "execution_count": null,
      "outputs": []
    },
    {
      "cell_type": "code",
      "metadata": {
        "id": "Gc1jekJ2C-VN",
        "colab_type": "code",
        "colab": {}
      },
      "source": [
        "def median(values):\n",
        "    \"\"\"\n",
        "    Return the middle value  (if odd)\n",
        "    or the average of the two middle values (if even)\n",
        "    >>> median([1, 4, 5])\n",
        "    4\n",
        "    >>> median([0, 2, 6, 100])\n",
        "    4.0\n",
        "    \"\"\"\n",
        "\n",
        "    values = sorted(values)\n",
        "    size = len(values)\n",
        "    if size % 2 == 0:\n",
        "        left = values[int(size/2-1)]\n",
        "        right = values[int(size/2)]\n",
        "        return (left + right)/2\n",
        "    else:\n",
        "        return values[int(size/2)]"
      ],
      "execution_count": null,
      "outputs": []
    },
    {
      "cell_type": "code",
      "metadata": {
        "id": "FbEzRm3hFDP8",
        "colab_type": "code",
        "colab": {}
      },
      "source": [
        "median"
      ],
      "execution_count": null,
      "outputs": []
    },
    {
      "cell_type": "code",
      "metadata": {
        "id": "s71OWbJcFGdS",
        "colab_type": "code",
        "colab": {}
      },
      "source": [
        "median(range(100))"
      ],
      "execution_count": null,
      "outputs": []
    },
    {
      "cell_type": "code",
      "metadata": {
        "id": "2MyCABYKFNze",
        "colab_type": "code",
        "colab": {}
      },
      "source": [
        "median([100, 1, 200])"
      ],
      "execution_count": null,
      "outputs": []
    },
    {
      "cell_type": "code",
      "metadata": {
        "id": "n8DwPljPFVxM",
        "colab_type": "code",
        "colab": {}
      },
      "source": [
        "# tuples\n",
        "person = ('Paul', 'McCartney', 'Bass')"
      ],
      "execution_count": null,
      "outputs": []
    },
    {
      "cell_type": "code",
      "metadata": {
        "id": "VEc7oODPFh21",
        "colab_type": "code",
        "colab": {}
      },
      "source": [
        "type({person})"
      ],
      "execution_count": null,
      "outputs": []
    },
    {
      "cell_type": "markdown",
      "metadata": {
        "id": "6Zh1ww4nGv70",
        "colab_type": "text"
      },
      "source": [
        "Tuples can be used to return multiple items from a function."
      ]
    },
    {
      "cell_type": "code",
      "metadata": {
        "id": "wCyarMtGGvfJ",
        "colab_type": "code",
        "colab": {}
      },
      "source": [
        "def roots(val):\n",
        "    return (val**.5, -(val**.5))"
      ],
      "execution_count": null,
      "outputs": []
    },
    {
      "cell_type": "code",
      "metadata": {
        "id": "fobtDHDwHSy5",
        "colab_type": "code",
        "colab": {}
      },
      "source": [
        "roots(4)"
      ],
      "execution_count": null,
      "outputs": []
    },
    {
      "cell_type": "markdown",
      "metadata": {
        "id": "PhwQB53MHWy0",
        "colab_type": "text"
      },
      "source": [
        "Lambda functions returns an expression:"
      ]
    },
    {
      "cell_type": "code",
      "metadata": {
        "id": "ikpp9lX8HWBm",
        "colab_type": "code",
        "colab": {}
      },
      "source": [
        "adder2 = lambda x, y: x + y \n",
        "add(42, 10) == adder2(42, 10)"
      ],
      "execution_count": null,
      "outputs": []
    },
    {
      "cell_type": "markdown",
      "metadata": {
        "id": "RjjW9aFqIbBk",
        "colab_type": "text"
      },
      "source": [
        "Max a variable and pass parameters."
      ]
    },
    {
      "cell_type": "code",
      "metadata": {
        "id": "lxheqp6NIGAV",
        "colab_type": "code",
        "colab": {}
      },
      "source": [
        "roots2 = lambda val: (val**.5, -(val**.5))"
      ],
      "execution_count": null,
      "outputs": []
    },
    {
      "cell_type": "code",
      "metadata": {
        "id": "pg6fCTbKIiWE",
        "colab_type": "code",
        "colab": {}
      },
      "source": [
        "roots2(64)"
      ],
      "execution_count": null,
      "outputs": []
    },
    {
      "cell_type": "markdown",
      "metadata": {
        "id": "3-Ec-12XK8ht",
        "colab_type": "text"
      },
      "source": [
        "# Modules "
      ]
    },
    {
      "cell_type": "markdown",
      "metadata": {
        "id": "joZuspRXLAHC",
        "colab_type": "text"
      },
      "source": [
        "* Revisit this section "
      ]
    },
    {
      "cell_type": "code",
      "metadata": {
        "id": "ftpi9dLdLKH3",
        "colab_type": "code",
        "colab": {}
      },
      "source": [
        ""
      ],
      "execution_count": null,
      "outputs": []
    },
    {
      "cell_type": "markdown",
      "metadata": {
        "id": "ps193OPJLKsB",
        "colab_type": "text"
      },
      "source": [
        "#Classes and methods"
      ]
    },
    {
      "cell_type": "markdown",
      "metadata": {
        "id": "gcYmvEiVLe44",
        "colab_type": "text"
      },
      "source": [
        "Defs define the methods for our class."
      ]
    },
    {
      "cell_type": "code",
      "metadata": {
        "id": "0K7h4T-ZLWji",
        "colab_type": "code",
        "colab": {}
      },
      "source": [
        "# Remember that everything is an object?\n",
        "class MyInt:\n",
        "    '''Docstring for MyInt'''\n",
        "    def __init__(self, val):\n",
        "        self.value = val\n",
        "    \n",
        "    def __add__(self, other):\n",
        "        return MyInt(self.value + other)\n",
        "\n",
        "    def __repr__(self):\n",
        "        return f\"MyInt({self.value})\"\n",
        "\n",
        "    def __str__(self):\n",
        "        return f'(self.value)'\n",
        "\n",
        "    def square(self):\n",
        "        \"Return the square of the value\"\n",
        "        return MyInt(self.value**2)"
      ],
      "execution_count": null,
      "outputs": []
    },
    {
      "cell_type": "code",
      "metadata": {
        "id": "_-ry9DpkNF9F",
        "colab_type": "code",
        "colab": {}
      },
      "source": [
        "MyInt"
      ],
      "execution_count": null,
      "outputs": []
    },
    {
      "cell_type": "code",
      "metadata": {
        "id": "-aSMXy0JNlRj",
        "colab_type": "code",
        "colab": {}
      },
      "source": [
        "num = MyInt(42)\n",
        "num + 5 # calls.__add__the.__repr__methods"
      ],
      "execution_count": null,
      "outputs": []
    },
    {
      "cell_type": "markdown",
      "metadata": {
        "id": "4RefN4gmOD2p",
        "colab_type": "text"
      },
      "source": [
        "__init__ method is the constructor of our object."
      ]
    },
    {
      "cell_type": "code",
      "metadata": {
        "id": "crtgT5nKOvn1",
        "colab_type": "code",
        "colab": {}
      },
      "source": [
        "num.__add__(5)"
      ],
      "execution_count": null,
      "outputs": []
    },
    {
      "cell_type": "code",
      "metadata": {
        "id": "mLTo18wBO4JY",
        "colab_type": "code",
        "colab": {}
      },
      "source": [
        "num - 5"
      ],
      "execution_count": null,
      "outputs": []
    },
    {
      "cell_type": "code",
      "metadata": {
        "id": "-60N72EcO94u",
        "colab_type": "code",
        "colab": {}
      },
      "source": [
        "print(num) #calls .__str__"
      ],
      "execution_count": null,
      "outputs": []
    },
    {
      "cell_type": "code",
      "metadata": {
        "id": "JrPznZFVPQ4K",
        "colab_type": "code",
        "colab": {}
      },
      "source": [
        "num #calls .__repr__"
      ],
      "execution_count": null,
      "outputs": []
    },
    {
      "cell_type": "code",
      "metadata": {
        "id": "WILPFJQSPnm-",
        "colab_type": "code",
        "colab": {}
      },
      "source": [
        "import pandas as pd\n"
      ],
      "execution_count": null,
      "outputs": []
    },
    {
      "cell_type": "code",
      "metadata": {
        "id": "ZT8b_qODPr1W",
        "colab_type": "code",
        "colab": {}
      },
      "source": [
        "pd.DataFrame??"
      ],
      "execution_count": null,
      "outputs": []
    },
    {
      "cell_type": "code",
      "metadata": {
        "id": "OlvqTFTFP7pg",
        "colab_type": "code",
        "colab": {}
      },
      "source": [
        "pd.DataFrame.__add__??"
      ],
      "execution_count": null,
      "outputs": []
    },
    {
      "cell_type": "code",
      "metadata": {
        "id": "-0q4Op7yQF9X",
        "colab_type": "code",
        "colab": {}
      },
      "source": [
        "pd.DataFrame.__repr__??"
      ],
      "execution_count": null,
      "outputs": []
    },
    {
      "cell_type": "code",
      "metadata": {
        "id": "QmnRtMHkQxNq",
        "colab_type": "code",
        "colab": {}
      },
      "source": [
        ""
      ],
      "execution_count": null,
      "outputs": []
    },
    {
      "cell_type": "markdown",
      "metadata": {
        "id": "SnGCMHCAQyTx",
        "colab_type": "text"
      },
      "source": [
        "#Errors"
      ]
    },
    {
      "cell_type": "code",
      "metadata": {
        "id": "_7cyysOOQ2DR",
        "colab_type": "code",
        "colab": {}
      },
      "source": [
        "missing"
      ],
      "execution_count": null,
      "outputs": []
    },
    {
      "cell_type": "markdown",
      "metadata": {
        "id": "cUWQr0CNQ5_q",
        "colab_type": "text"
      },
      "source": [
        "Python is looking for a variable and can't find it."
      ]
    },
    {
      "cell_type": "code",
      "metadata": {
        "id": "_yWHJ_ifRAYb",
        "colab_type": "code",
        "colab": {}
      },
      "source": [
        "names.find('fred')"
      ],
      "execution_count": null,
      "outputs": []
    },
    {
      "cell_type": "markdown",
      "metadata": {
        "id": "ha2aBX8sRJQG",
        "colab_type": "text"
      },
      "source": [
        "Attribute error trying to find something that doesn't exist."
      ]
    },
    {
      "cell_type": "code",
      "metadata": {
        "id": "cKqJaxZoRQgi",
        "colab_type": "code",
        "colab": {}
      },
      "source": [
        "print(dir(names))"
      ],
      "execution_count": null,
      "outputs": []
    },
    {
      "cell_type": "code",
      "metadata": {
        "id": "sHdAVFEfRV2o",
        "colab_type": "code",
        "colab": {}
      },
      "source": [
        "names.index('fred')"
      ],
      "execution_count": null,
      "outputs": []
    },
    {
      "cell_type": "code",
      "metadata": {
        "id": "-COQ_bXURbtA",
        "colab_type": "code",
        "colab": {}
      },
      "source": [
        "types['missing']"
      ],
      "execution_count": null,
      "outputs": []
    },
    {
      "cell_type": "markdown",
      "metadata": {
        "id": "Ofpe519LRk5t",
        "colab_type": "text"
      },
      "source": [
        "Exception handling:"
      ]
    },
    {
      "cell_type": "code",
      "metadata": {
        "id": "Ehf4yEz7Rnrs",
        "colab_type": "code",
        "colab": {}
      },
      "source": [
        "try:\n",
        "    types['missing']\n",
        "except KeyError:\n",
        "    print('missing is not a key')"
      ],
      "execution_count": null,
      "outputs": []
    },
    {
      "cell_type": "code",
      "metadata": {
        "id": "hycwPKDAR9tj",
        "colab_type": "code",
        "colab": {}
      },
      "source": [
        "# can also subclass and raise errors\n",
        "raise KeyError('Key was missing')"
      ],
      "execution_count": null,
      "outputs": []
    },
    {
      "cell_type": "markdown",
      "metadata": {
        "id": "YCMQQv-uS0Vi",
        "colab_type": "text"
      },
      "source": [
        "# Numpy"
      ]
    },
    {
      "cell_type": "code",
      "metadata": {
        "id": "6psU4Fw-S2wU",
        "colab_type": "code",
        "colab": {}
      },
      "source": [
        "# https://numpy.org/doc/stable/reference/\n",
        "import numpy as np"
      ],
      "execution_count": 78,
      "outputs": []
    },
    {
      "cell_type": "markdown",
      "metadata": {
        "id": "P3Kd3hUDTVgA",
        "colab_type": "text"
      },
      "source": [
        "Uses less memory than base python. "
      ]
    },
    {
      "cell_type": "code",
      "metadata": {
        "id": "nmJlIxesTFL3",
        "colab_type": "code",
        "colab": {
          "base_uri": "https://localhost:8080/",
          "height": 35
        },
        "outputId": "e82b85b8-c31f-4067-98de-0709f41ea1f6"
      },
      "source": [
        "digits = np.array(range(10))\n",
        "digits"
      ],
      "execution_count": 79,
      "outputs": [
        {
          "output_type": "execute_result",
          "data": {
            "text/plain": [
              "array([0, 1, 2, 3, 4, 5, 6, 7, 8, 9])"
            ]
          },
          "metadata": {
            "tags": []
          },
          "execution_count": 79
        }
      ]
    },
    {
      "cell_type": "code",
      "metadata": {
        "id": "TBLewxT7Tao4",
        "colab_type": "code",
        "colab": {}
      },
      "source": [
        "np.array?"
      ],
      "execution_count": 80,
      "outputs": []
    },
    {
      "cell_type": "markdown",
      "metadata": {
        "id": "RC9CnvtITvQp",
        "colab_type": "text"
      },
      "source": [
        "Can have arbitrarly dimensioned arrays."
      ]
    },
    {
      "cell_type": "code",
      "metadata": {
        "id": "soscuVFyTsDi",
        "colab_type": "code",
        "colab": {
          "base_uri": "https://localhost:8080/",
          "height": 35
        },
        "outputId": "e10014cb-599d-44fc-c106-6e75bf7a95a4"
      },
      "source": [
        "digits.shape"
      ],
      "execution_count": 81,
      "outputs": [
        {
          "output_type": "execute_result",
          "data": {
            "text/plain": [
              "(10,)"
            ]
          },
          "metadata": {
            "tags": []
          },
          "execution_count": 81
        }
      ]
    },
    {
      "cell_type": "code",
      "metadata": {
        "id": "qfa6KBkWT57M",
        "colab_type": "code",
        "colab": {
          "base_uri": "https://localhost:8080/",
          "height": 35
        },
        "outputId": "6cf066b9-b8ff-45d9-9202-dface26e679d"
      },
      "source": [
        "# secret of numpy (there are not 10 Python integers under the arrray)\n",
        "digits.dtype"
      ],
      "execution_count": 82,
      "outputs": [
        {
          "output_type": "execute_result",
          "data": {
            "text/plain": [
              "dtype('int64')"
            ]
          },
          "metadata": {
            "tags": []
          },
          "execution_count": 82
        }
      ]
    },
    {
      "cell_type": "code",
      "metadata": {
        "id": "-XH8jFgMUe6s",
        "colab_type": "code",
        "colab": {
          "base_uri": "https://localhost:8080/",
          "height": 109
        },
        "outputId": "92c26a88-74cc-4769-a479-4290c82d14fd"
      },
      "source": [
        "np.log(digits)"
      ],
      "execution_count": 83,
      "outputs": [
        {
          "output_type": "stream",
          "text": [
            "/usr/local/lib/python3.6/dist-packages/ipykernel_launcher.py:1: RuntimeWarning: divide by zero encountered in log\n",
            "  \"\"\"Entry point for launching an IPython kernel.\n"
          ],
          "name": "stderr"
        },
        {
          "output_type": "execute_result",
          "data": {
            "text/plain": [
              "array([      -inf, 0.        , 0.69314718, 1.09861229, 1.38629436,\n",
              "       1.60943791, 1.79175947, 1.94591015, 2.07944154, 2.19722458])"
            ]
          },
          "metadata": {
            "tags": []
          },
          "execution_count": 83
        }
      ]
    },
    {
      "cell_type": "code",
      "metadata": {
        "id": "RRh0ZnyqXdeb",
        "colab_type": "code",
        "colab": {
          "base_uri": "https://localhost:8080/",
          "height": 53
        },
        "outputId": "45abb062-d160-456f-ddcd-1f8da8bd83a1"
      },
      "source": [
        "np.log(digits+1)"
      ],
      "execution_count": 84,
      "outputs": [
        {
          "output_type": "execute_result",
          "data": {
            "text/plain": [
              "array([0.        , 0.69314718, 1.09861229, 1.38629436, 1.60943791,\n",
              "       1.79175947, 1.94591015, 2.07944154, 2.19722458, 2.30258509])"
            ]
          },
          "metadata": {
            "tags": []
          },
          "execution_count": 84
        }
      ]
    },
    {
      "cell_type": "code",
      "metadata": {
        "id": "j8EW8w4dYl4G",
        "colab_type": "code",
        "colab": {
          "base_uri": "https://localhost:8080/",
          "height": 53
        },
        "outputId": "ee79141f-768a-4aa8-d43d-c3a88941b6b6"
      },
      "source": [
        "np.sin(digits)"
      ],
      "execution_count": 85,
      "outputs": [
        {
          "output_type": "execute_result",
          "data": {
            "text/plain": [
              "array([ 0.        ,  0.84147098,  0.90929743,  0.14112001, -0.7568025 ,\n",
              "       -0.95892427, -0.2794155 ,  0.6569866 ,  0.98935825,  0.41211849])"
            ]
          },
          "metadata": {
            "tags": []
          },
          "execution_count": 85
        }
      ]
    },
    {
      "cell_type": "code",
      "metadata": {
        "id": "zZ1vVAO3Yufi",
        "colab_type": "code",
        "colab": {
          "base_uri": "https://localhost:8080/",
          "height": 35
        },
        "outputId": "037aabca-fd40-4148-f1cd-28fc782d6f86"
      },
      "source": [
        "len(dir(np))"
      ],
      "execution_count": 86,
      "outputs": [
        {
          "output_type": "execute_result",
          "data": {
            "text/plain": [
              "620"
            ]
          },
          "metadata": {
            "tags": []
          },
          "execution_count": 86
        }
      ]
    },
    {
      "cell_type": "code",
      "metadata": {
        "id": "UM6oWM0MYyYC",
        "colab_type": "code",
        "colab": {
          "base_uri": "https://localhost:8080/",
          "height": 136
        },
        "outputId": "753a85e8-4062-4cf6-dfdc-a15bc491dd18"
      },
      "source": [
        "digits."
      ],
      "execution_count": 87,
      "outputs": [
        {
          "output_type": "error",
          "ename": "SyntaxError",
          "evalue": "ignored",
          "traceback": [
            "\u001b[0;36m  File \u001b[0;32m\"<ipython-input-87-29baa1b9f860>\"\u001b[0;36m, line \u001b[0;32m1\u001b[0m\n\u001b[0;31m    digits.\u001b[0m\n\u001b[0m           ^\u001b[0m\n\u001b[0;31mSyntaxError\u001b[0m\u001b[0;31m:\u001b[0m invalid syntax\n"
          ]
        }
      ]
    },
    {
      "cell_type": "markdown",
      "metadata": {
        "id": "ZAb1mJJDZPwp",
        "colab_type": "text"
      },
      "source": [
        "Done at the C level."
      ]
    },
    {
      "cell_type": "code",
      "metadata": {
        "id": "uMZlkyM5ZBAq",
        "colab_type": "code",
        "colab": {
          "base_uri": "https://localhost:8080/",
          "height": 35
        },
        "outputId": "d38a6743-c704-4c3c-eb1d-1ce65c78b270"
      },
      "source": [
        "digits + 10"
      ],
      "execution_count": 88,
      "outputs": [
        {
          "output_type": "execute_result",
          "data": {
            "text/plain": [
              "array([10, 11, 12, 13, 14, 15, 16, 17, 18, 19])"
            ]
          },
          "metadata": {
            "tags": []
          },
          "execution_count": 88
        }
      ]
    },
    {
      "cell_type": "code",
      "metadata": {
        "id": "GvJIe0dNZVjB",
        "colab_type": "code",
        "colab": {
          "base_uri": "https://localhost:8080/",
          "height": 377
        },
        "outputId": "9e5fe5fd-bcd3-4756-df67-986f65f9aaf5"
      },
      "source": [
        "# 2d \n",
        "nums = np.arange(100).reshape(20, 5)\n",
        "nums"
      ],
      "execution_count": 89,
      "outputs": [
        {
          "output_type": "execute_result",
          "data": {
            "text/plain": [
              "array([[ 0,  1,  2,  3,  4],\n",
              "       [ 5,  6,  7,  8,  9],\n",
              "       [10, 11, 12, 13, 14],\n",
              "       [15, 16, 17, 18, 19],\n",
              "       [20, 21, 22, 23, 24],\n",
              "       [25, 26, 27, 28, 29],\n",
              "       [30, 31, 32, 33, 34],\n",
              "       [35, 36, 37, 38, 39],\n",
              "       [40, 41, 42, 43, 44],\n",
              "       [45, 46, 47, 48, 49],\n",
              "       [50, 51, 52, 53, 54],\n",
              "       [55, 56, 57, 58, 59],\n",
              "       [60, 61, 62, 63, 64],\n",
              "       [65, 66, 67, 68, 69],\n",
              "       [70, 71, 72, 73, 74],\n",
              "       [75, 76, 77, 78, 79],\n",
              "       [80, 81, 82, 83, 84],\n",
              "       [85, 86, 87, 88, 89],\n",
              "       [90, 91, 92, 93, 94],\n",
              "       [95, 96, 97, 98, 99]])"
            ]
          },
          "metadata": {
            "tags": []
          },
          "execution_count": 89
        }
      ]
    },
    {
      "cell_type": "code",
      "metadata": {
        "id": "vwA1xXAHZoEe",
        "colab_type": "code",
        "colab": {
          "base_uri": "https://localhost:8080/",
          "height": 197
        },
        "outputId": "45bec662-e159-492c-965d-74a2b82551ee"
      },
      "source": [
        "nums.transpose()"
      ],
      "execution_count": 90,
      "outputs": [
        {
          "output_type": "execute_result",
          "data": {
            "text/plain": [
              "array([[ 0,  5, 10, 15, 20, 25, 30, 35, 40, 45, 50, 55, 60, 65, 70, 75,\n",
              "        80, 85, 90, 95],\n",
              "       [ 1,  6, 11, 16, 21, 26, 31, 36, 41, 46, 51, 56, 61, 66, 71, 76,\n",
              "        81, 86, 91, 96],\n",
              "       [ 2,  7, 12, 17, 22, 27, 32, 37, 42, 47, 52, 57, 62, 67, 72, 77,\n",
              "        82, 87, 92, 97],\n",
              "       [ 3,  8, 13, 18, 23, 28, 33, 38, 43, 48, 53, 58, 63, 68, 73, 78,\n",
              "        83, 88, 93, 98],\n",
              "       [ 4,  9, 14, 19, 24, 29, 34, 39, 44, 49, 54, 59, 64, 69, 74, 79,\n",
              "        84, 89, 94, 99]])"
            ]
          },
          "metadata": {
            "tags": []
          },
          "execution_count": 90
        }
      ]
    },
    {
      "cell_type": "code",
      "metadata": {
        "id": "asEKrymaZwx5",
        "colab_type": "code",
        "colab": {
          "base_uri": "https://localhost:8080/",
          "height": 35
        },
        "outputId": "31c6f3e8-4f69-4133-924d-1c3b0c26a30c"
      },
      "source": [
        "nums.mean()"
      ],
      "execution_count": 91,
      "outputs": [
        {
          "output_type": "execute_result",
          "data": {
            "text/plain": [
              "49.5"
            ]
          },
          "metadata": {
            "tags": []
          },
          "execution_count": 91
        }
      ]
    },
    {
      "cell_type": "code",
      "metadata": {
        "id": "I7PemtKAZ1B7",
        "colab_type": "code",
        "colab": {
          "base_uri": "https://localhost:8080/",
          "height": 35
        },
        "outputId": "b0b85e64-c5f0-49de-af00-2d096e8ac532"
      },
      "source": [
        "nums.mean(axis=0)"
      ],
      "execution_count": 92,
      "outputs": [
        {
          "output_type": "execute_result",
          "data": {
            "text/plain": [
              "array([47.5, 48.5, 49.5, 50.5, 51.5])"
            ]
          },
          "metadata": {
            "tags": []
          },
          "execution_count": 92
        }
      ]
    },
    {
      "cell_type": "code",
      "metadata": {
        "id": "V5XmGjzAZ5rt",
        "colab_type": "code",
        "colab": {
          "base_uri": "https://localhost:8080/",
          "height": 53
        },
        "outputId": "6549e7ae-e4a6-423a-c828-bec8ab73fea7"
      },
      "source": [
        "nums.mean(axis=1)"
      ],
      "execution_count": 93,
      "outputs": [
        {
          "output_type": "execute_result",
          "data": {
            "text/plain": [
              "array([ 2.,  7., 12., 17., 22., 27., 32., 37., 42., 47., 52., 57., 62.,\n",
              "       67., 72., 77., 82., 87., 92., 97.])"
            ]
          },
          "metadata": {
            "tags": []
          },
          "execution_count": 93
        }
      ]
    },
    {
      "cell_type": "code",
      "metadata": {
        "id": "eEWSMIxJaGAA",
        "colab_type": "code",
        "colab": {
          "base_uri": "https://localhost:8080/",
          "height": 377
        },
        "outputId": "8e2f996f-599c-4feb-e5d1-453415c244bd"
      },
      "source": [
        "nums.mean(axis=1, keepdims=True)"
      ],
      "execution_count": 94,
      "outputs": [
        {
          "output_type": "execute_result",
          "data": {
            "text/plain": [
              "array([[ 2.],\n",
              "       [ 7.],\n",
              "       [12.],\n",
              "       [17.],\n",
              "       [22.],\n",
              "       [27.],\n",
              "       [32.],\n",
              "       [37.],\n",
              "       [42.],\n",
              "       [47.],\n",
              "       [52.],\n",
              "       [57.],\n",
              "       [62.],\n",
              "       [67.],\n",
              "       [72.],\n",
              "       [77.],\n",
              "       [82.],\n",
              "       [87.],\n",
              "       [92.],\n",
              "       [97.]])"
            ]
          },
          "metadata": {
            "tags": []
          },
          "execution_count": 94
        }
      ]
    },
    {
      "cell_type": "markdown",
      "metadata": {
        "id": "Wg5w5ABRaWQ4",
        "colab_type": "text"
      },
      "source": [
        "Goes across the columns."
      ]
    },
    {
      "cell_type": "code",
      "metadata": {
        "id": "3skXqkrEadGf",
        "colab_type": "code",
        "colab": {
          "base_uri": "https://localhost:8080/",
          "height": 755
        },
        "outputId": "72a4b556-c689-4489-9256-c3747c8f71e1"
      },
      "source": [
        "#3d\n",
        "b = np.arange(70).reshape(7,5,2)\n",
        "b"
      ],
      "execution_count": 95,
      "outputs": [
        {
          "output_type": "execute_result",
          "data": {
            "text/plain": [
              "array([[[ 0,  1],\n",
              "        [ 2,  3],\n",
              "        [ 4,  5],\n",
              "        [ 6,  7],\n",
              "        [ 8,  9]],\n",
              "\n",
              "       [[10, 11],\n",
              "        [12, 13],\n",
              "        [14, 15],\n",
              "        [16, 17],\n",
              "        [18, 19]],\n",
              "\n",
              "       [[20, 21],\n",
              "        [22, 23],\n",
              "        [24, 25],\n",
              "        [26, 27],\n",
              "        [28, 29]],\n",
              "\n",
              "       [[30, 31],\n",
              "        [32, 33],\n",
              "        [34, 35],\n",
              "        [36, 37],\n",
              "        [38, 39]],\n",
              "\n",
              "       [[40, 41],\n",
              "        [42, 43],\n",
              "        [44, 45],\n",
              "        [46, 47],\n",
              "        [48, 49]],\n",
              "\n",
              "       [[50, 51],\n",
              "        [52, 53],\n",
              "        [54, 55],\n",
              "        [56, 57],\n",
              "        [58, 59]],\n",
              "\n",
              "       [[60, 61],\n",
              "        [62, 63],\n",
              "        [64, 65],\n",
              "        [66, 67],\n",
              "        [68, 69]]])"
            ]
          },
          "metadata": {
            "tags": []
          },
          "execution_count": 95
        }
      ]
    },
    {
      "cell_type": "code",
      "metadata": {
        "id": "bmAl1-0PaxqL",
        "colab_type": "code",
        "colab": {
          "base_uri": "https://localhost:8080/",
          "height": 107
        },
        "outputId": "82829273-b61b-4ca4-fb0f-af7657f768b4"
      },
      "source": [
        "b.mean(axis=0)"
      ],
      "execution_count": 96,
      "outputs": [
        {
          "output_type": "execute_result",
          "data": {
            "text/plain": [
              "array([[30., 31.],\n",
              "       [32., 33.],\n",
              "       [34., 35.],\n",
              "       [36., 37.],\n",
              "       [38., 39.]])"
            ]
          },
          "metadata": {
            "tags": []
          },
          "execution_count": 96
        }
      ]
    },
    {
      "cell_type": "code",
      "metadata": {
        "id": "IgTr08l2a2dQ",
        "colab_type": "code",
        "colab": {
          "base_uri": "https://localhost:8080/",
          "height": 143
        },
        "outputId": "cd98540c-47e8-4795-b283-ea8783946791"
      },
      "source": [
        "b.mean(axis=1)"
      ],
      "execution_count": 97,
      "outputs": [
        {
          "output_type": "execute_result",
          "data": {
            "text/plain": [
              "array([[ 4.,  5.],\n",
              "       [14., 15.],\n",
              "       [24., 25.],\n",
              "       [34., 35.],\n",
              "       [44., 45.],\n",
              "       [54., 55.],\n",
              "       [64., 65.]])"
            ]
          },
          "metadata": {
            "tags": []
          },
          "execution_count": 97
        }
      ]
    },
    {
      "cell_type": "code",
      "metadata": {
        "id": "gyhwo2Twa6Fn",
        "colab_type": "code",
        "colab": {
          "base_uri": "https://localhost:8080/",
          "height": 143
        },
        "outputId": "43ac8206-d1df-4e06-903d-3bba6aca9ec7"
      },
      "source": [
        "b.mean(axis=2)"
      ],
      "execution_count": 98,
      "outputs": [
        {
          "output_type": "execute_result",
          "data": {
            "text/plain": [
              "array([[ 0.5,  2.5,  4.5,  6.5,  8.5],\n",
              "       [10.5, 12.5, 14.5, 16.5, 18.5],\n",
              "       [20.5, 22.5, 24.5, 26.5, 28.5],\n",
              "       [30.5, 32.5, 34.5, 36.5, 38.5],\n",
              "       [40.5, 42.5, 44.5, 46.5, 48.5],\n",
              "       [50.5, 52.5, 54.5, 56.5, 58.5],\n",
              "       [60.5, 62.5, 64.5, 66.5, 68.5]])"
            ]
          },
          "metadata": {
            "tags": []
          },
          "execution_count": 98
        }
      ]
    },
    {
      "cell_type": "markdown",
      "metadata": {
        "id": "v-ndndzHbfS9",
        "colab_type": "text"
      },
      "source": [
        "# Slicing"
      ]
    },
    {
      "cell_type": "code",
      "metadata": {
        "id": "4iWl2Oj-bisl",
        "colab_type": "code",
        "colab": {
          "base_uri": "https://localhost:8080/",
          "height": 377
        },
        "outputId": "7352714a-b548-414f-e4d6-b597c10454a9"
      },
      "source": [
        "nums"
      ],
      "execution_count": 99,
      "outputs": [
        {
          "output_type": "execute_result",
          "data": {
            "text/plain": [
              "array([[ 0,  1,  2,  3,  4],\n",
              "       [ 5,  6,  7,  8,  9],\n",
              "       [10, 11, 12, 13, 14],\n",
              "       [15, 16, 17, 18, 19],\n",
              "       [20, 21, 22, 23, 24],\n",
              "       [25, 26, 27, 28, 29],\n",
              "       [30, 31, 32, 33, 34],\n",
              "       [35, 36, 37, 38, 39],\n",
              "       [40, 41, 42, 43, 44],\n",
              "       [45, 46, 47, 48, 49],\n",
              "       [50, 51, 52, 53, 54],\n",
              "       [55, 56, 57, 58, 59],\n",
              "       [60, 61, 62, 63, 64],\n",
              "       [65, 66, 67, 68, 69],\n",
              "       [70, 71, 72, 73, 74],\n",
              "       [75, 76, 77, 78, 79],\n",
              "       [80, 81, 82, 83, 84],\n",
              "       [85, 86, 87, 88, 89],\n",
              "       [90, 91, 92, 93, 94],\n",
              "       [95, 96, 97, 98, 99]])"
            ]
          },
          "metadata": {
            "tags": []
          },
          "execution_count": 99
        }
      ]
    },
    {
      "cell_type": "code",
      "metadata": {
        "id": "Ba6vg8xjbpfE",
        "colab_type": "code",
        "colab": {
          "base_uri": "https://localhost:8080/",
          "height": 35
        },
        "outputId": "14820fcf-d0a0-440c-9c97-95011b789c94"
      },
      "source": [
        "nums[0]"
      ],
      "execution_count": 100,
      "outputs": [
        {
          "output_type": "execute_result",
          "data": {
            "text/plain": [
              "array([0, 1, 2, 3, 4])"
            ]
          },
          "metadata": {
            "tags": []
          },
          "execution_count": 100
        }
      ]
    },
    {
      "cell_type": "markdown",
      "metadata": {
        "id": "RzjJX5YRb2GK",
        "colab_type": "text"
      },
      "source": [
        "Passing list to an index operation"
      ]
    },
    {
      "cell_type": "code",
      "metadata": {
        "id": "SeHyTbH_btVT",
        "colab_type": "code",
        "colab": {
          "base_uri": "https://localhost:8080/",
          "height": 71
        },
        "outputId": "31adb8fc-4e3b-4805-ca98-f0197fc1dfe4"
      },
      "source": [
        "nums[[0,5,10]]"
      ],
      "execution_count": 101,
      "outputs": [
        {
          "output_type": "execute_result",
          "data": {
            "text/plain": [
              "array([[ 0,  1,  2,  3,  4],\n",
              "       [25, 26, 27, 28, 29],\n",
              "       [50, 51, 52, 53, 54]])"
            ]
          },
          "metadata": {
            "tags": []
          },
          "execution_count": 101
        }
      ]
    },
    {
      "cell_type": "code",
      "metadata": {
        "id": "eD7MDh0rb9uJ",
        "colab_type": "code",
        "colab": {
          "base_uri": "https://localhost:8080/",
          "height": 197
        },
        "outputId": "92f2d845-1376-48c6-9eb6-799c5438b6cd"
      },
      "source": [
        "# first ten rows\n",
        "nums[0:10]"
      ],
      "execution_count": 102,
      "outputs": [
        {
          "output_type": "execute_result",
          "data": {
            "text/plain": [
              "array([[ 0,  1,  2,  3,  4],\n",
              "       [ 5,  6,  7,  8,  9],\n",
              "       [10, 11, 12, 13, 14],\n",
              "       [15, 16, 17, 18, 19],\n",
              "       [20, 21, 22, 23, 24],\n",
              "       [25, 26, 27, 28, 29],\n",
              "       [30, 31, 32, 33, 34],\n",
              "       [35, 36, 37, 38, 39],\n",
              "       [40, 41, 42, 43, 44],\n",
              "       [45, 46, 47, 48, 49]])"
            ]
          },
          "metadata": {
            "tags": []
          },
          "execution_count": 102
        }
      ]
    },
    {
      "cell_type": "code",
      "metadata": {
        "id": "96wbKRuZcHOO",
        "colab_type": "code",
        "colab": {
          "base_uri": "https://localhost:8080/",
          "height": 377
        },
        "outputId": "2c23b232-dd4f-49d5-c77b-62c73725a2ad"
      },
      "source": [
        "#first three columns\n",
        "# all the rows and the first three columns not including 3\n",
        "nums[:,0:3]"
      ],
      "execution_count": 103,
      "outputs": [
        {
          "output_type": "execute_result",
          "data": {
            "text/plain": [
              "array([[ 0,  1,  2],\n",
              "       [ 5,  6,  7],\n",
              "       [10, 11, 12],\n",
              "       [15, 16, 17],\n",
              "       [20, 21, 22],\n",
              "       [25, 26, 27],\n",
              "       [30, 31, 32],\n",
              "       [35, 36, 37],\n",
              "       [40, 41, 42],\n",
              "       [45, 46, 47],\n",
              "       [50, 51, 52],\n",
              "       [55, 56, 57],\n",
              "       [60, 61, 62],\n",
              "       [65, 66, 67],\n",
              "       [70, 71, 72],\n",
              "       [75, 76, 77],\n",
              "       [80, 81, 82],\n",
              "       [85, 86, 87],\n",
              "       [90, 91, 92],\n",
              "       [95, 96, 97]])"
            ]
          },
          "metadata": {
            "tags": []
          },
          "execution_count": 103
        }
      ]
    },
    {
      "cell_type": "markdown",
      "metadata": {
        "id": "P6ot-zQscihT",
        "colab_type": "text"
      },
      "source": [
        "Per axis selector. "
      ]
    },
    {
      "cell_type": "markdown",
      "metadata": {
        "id": "fIAyVYdbd31J",
        "colab_type": "text"
      },
      "source": [
        "#Boolean arrays"
      ]
    },
    {
      "cell_type": "markdown",
      "metadata": {
        "id": "JWSCwuffe_dp",
        "colab_type": "text"
      },
      "source": [
        "You can index with this Boolean array."
      ]
    },
    {
      "cell_type": "code",
      "metadata": {
        "id": "Ab5fJxL0d3Jo",
        "colab_type": "code",
        "colab": {}
      },
      "source": [
        "nums % 2 == 0"
      ],
      "execution_count": null,
      "outputs": []
    },
    {
      "cell_type": "code",
      "metadata": {
        "id": "u_mDIjkAfLWr",
        "colab_type": "code",
        "colab": {}
      },
      "source": [
        "nums[nums %2 == 0]"
      ],
      "execution_count": null,
      "outputs": []
    },
    {
      "cell_type": "code",
      "metadata": {
        "id": "K78-SGzAfTfv",
        "colab_type": "code",
        "colab": {}
      },
      "source": [
        "# select rows where sum is less than 100\n",
        "nums.sum(axis=1)"
      ],
      "execution_count": null,
      "outputs": []
    },
    {
      "cell_type": "code",
      "metadata": {
        "id": "beRq-8wLfds3",
        "colab_type": "code",
        "colab": {}
      },
      "source": [
        "nums.sum(axis=1) < 100"
      ],
      "execution_count": null,
      "outputs": []
    },
    {
      "cell_type": "code",
      "metadata": {
        "id": "s0C0vk5wfs7x",
        "colab_type": "code",
        "colab": {}
      },
      "source": [
        "nums[nums.sum(axis=1)<100]"
      ],
      "execution_count": null,
      "outputs": []
    },
    {
      "cell_type": "code",
      "metadata": {
        "id": "n-6bwm0tf45I",
        "colab_type": "code",
        "colab": {}
      },
      "source": [
        "# select columns where mean > 50\n",
        "nums.mean(axis=0)"
      ],
      "execution_count": null,
      "outputs": []
    },
    {
      "cell_type": "code",
      "metadata": {
        "id": "BgxaOo14gbgc",
        "colab_type": "code",
        "colab": {}
      },
      "source": [
        "nums.mean(axis=0) > 50"
      ],
      "execution_count": null,
      "outputs": []
    },
    {
      "cell_type": "code",
      "metadata": {
        "id": "_j9P7DdlgjKp",
        "colab_type": "code",
        "colab": {}
      },
      "source": [
        "nums[:, nums.mean(axis=0) > 50]"
      ],
      "execution_count": null,
      "outputs": []
    },
    {
      "cell_type": "markdown",
      "metadata": {
        "id": "aUYPFBjoQC-r",
        "colab_type": "text"
      },
      "source": [
        "#Universal Functions"
      ]
    },
    {
      "cell_type": "code",
      "metadata": {
        "id": "oXqgkcYWQHYM",
        "colab_type": "code",
        "colab": {
          "base_uri": "https://localhost:8080/",
          "height": 377
        },
        "outputId": "6c4824c0-009c-4f6d-d671-1ba00a4a7e49"
      },
      "source": [
        "np.add(nums, 5)"
      ],
      "execution_count": 104,
      "outputs": [
        {
          "output_type": "execute_result",
          "data": {
            "text/plain": [
              "array([[  5,   6,   7,   8,   9],\n",
              "       [ 10,  11,  12,  13,  14],\n",
              "       [ 15,  16,  17,  18,  19],\n",
              "       [ 20,  21,  22,  23,  24],\n",
              "       [ 25,  26,  27,  28,  29],\n",
              "       [ 30,  31,  32,  33,  34],\n",
              "       [ 35,  36,  37,  38,  39],\n",
              "       [ 40,  41,  42,  43,  44],\n",
              "       [ 45,  46,  47,  48,  49],\n",
              "       [ 50,  51,  52,  53,  54],\n",
              "       [ 55,  56,  57,  58,  59],\n",
              "       [ 60,  61,  62,  63,  64],\n",
              "       [ 65,  66,  67,  68,  69],\n",
              "       [ 70,  71,  72,  73,  74],\n",
              "       [ 75,  76,  77,  78,  79],\n",
              "       [ 80,  81,  82,  83,  84],\n",
              "       [ 85,  86,  87,  88,  89],\n",
              "       [ 90,  91,  92,  93,  94],\n",
              "       [ 95,  96,  97,  98,  99],\n",
              "       [100, 101, 102, 103, 104]])"
            ]
          },
          "metadata": {
            "tags": []
          },
          "execution_count": 104
        }
      ]
    },
    {
      "cell_type": "code",
      "metadata": {
        "id": "esQe4QS7RgvS",
        "colab_type": "code",
        "colab": {
          "base_uri": "https://localhost:8080/",
          "height": 377
        },
        "outputId": "dd61200b-e402-449f-ddd7-27fab461ef32"
      },
      "source": [
        "np.mod(nums, 2) # nums %2"
      ],
      "execution_count": 105,
      "outputs": [
        {
          "output_type": "execute_result",
          "data": {
            "text/plain": [
              "array([[0, 1, 0, 1, 0],\n",
              "       [1, 0, 1, 0, 1],\n",
              "       [0, 1, 0, 1, 0],\n",
              "       [1, 0, 1, 0, 1],\n",
              "       [0, 1, 0, 1, 0],\n",
              "       [1, 0, 1, 0, 1],\n",
              "       [0, 1, 0, 1, 0],\n",
              "       [1, 0, 1, 0, 1],\n",
              "       [0, 1, 0, 1, 0],\n",
              "       [1, 0, 1, 0, 1],\n",
              "       [0, 1, 0, 1, 0],\n",
              "       [1, 0, 1, 0, 1],\n",
              "       [0, 1, 0, 1, 0],\n",
              "       [1, 0, 1, 0, 1],\n",
              "       [0, 1, 0, 1, 0],\n",
              "       [1, 0, 1, 0, 1],\n",
              "       [0, 1, 0, 1, 0],\n",
              "       [1, 0, 1, 0, 1],\n",
              "       [0, 1, 0, 1, 0],\n",
              "       [1, 0, 1, 0, 1]])"
            ]
          },
          "metadata": {
            "tags": []
          },
          "execution_count": 105
        }
      ]
    },
    {
      "cell_type": "code",
      "metadata": {
        "id": "pB2TtluORwD1",
        "colab_type": "code",
        "colab": {
          "base_uri": "https://localhost:8080/",
          "height": 377
        },
        "outputId": "88aafe34-42a7-4403-a8ad-df718adbb997"
      },
      "source": [
        "np.log(nums + 1)"
      ],
      "execution_count": 106,
      "outputs": [
        {
          "output_type": "execute_result",
          "data": {
            "text/plain": [
              "array([[0.        , 0.69314718, 1.09861229, 1.38629436, 1.60943791],\n",
              "       [1.79175947, 1.94591015, 2.07944154, 2.19722458, 2.30258509],\n",
              "       [2.39789527, 2.48490665, 2.56494936, 2.63905733, 2.7080502 ],\n",
              "       [2.77258872, 2.83321334, 2.89037176, 2.94443898, 2.99573227],\n",
              "       [3.04452244, 3.09104245, 3.13549422, 3.17805383, 3.21887582],\n",
              "       [3.25809654, 3.29583687, 3.33220451, 3.36729583, 3.40119738],\n",
              "       [3.4339872 , 3.4657359 , 3.49650756, 3.52636052, 3.55534806],\n",
              "       [3.58351894, 3.61091791, 3.63758616, 3.66356165, 3.68887945],\n",
              "       [3.71357207, 3.73766962, 3.76120012, 3.78418963, 3.80666249],\n",
              "       [3.8286414 , 3.8501476 , 3.87120101, 3.8918203 , 3.91202301],\n",
              "       [3.93182563, 3.95124372, 3.97029191, 3.98898405, 4.00733319],\n",
              "       [4.02535169, 4.04305127, 4.06044301, 4.07753744, 4.09434456],\n",
              "       [4.11087386, 4.12713439, 4.14313473, 4.15888308, 4.17438727],\n",
              "       [4.18965474, 4.20469262, 4.21950771, 4.2341065 , 4.24849524],\n",
              "       [4.26267988, 4.27666612, 4.29045944, 4.30406509, 4.31748811],\n",
              "       [4.33073334, 4.34380542, 4.35670883, 4.36944785, 4.38202663],\n",
              "       [4.39444915, 4.40671925, 4.41884061, 4.4308168 , 4.44265126],\n",
              "       [4.4543473 , 4.46590812, 4.47733681, 4.48863637, 4.49980967],\n",
              "       [4.51085951, 4.52178858, 4.53259949, 4.54329478, 4.55387689],\n",
              "       [4.56434819, 4.57471098, 4.58496748, 4.59511985, 4.60517019]])"
            ]
          },
          "metadata": {
            "tags": []
          },
          "execution_count": 106
        }
      ]
    },
    {
      "cell_type": "code",
      "metadata": {
        "id": "6NH6_4CeR3wD",
        "colab_type": "code",
        "colab": {
          "base_uri": "https://localhost:8080/",
          "height": 377
        },
        "outputId": "a8fcdae3-461a-47b1-9b03-882da43d36cf"
      },
      "source": [
        "# trig\n",
        "np.sin(nums)"
      ],
      "execution_count": 107,
      "outputs": [
        {
          "output_type": "execute_result",
          "data": {
            "text/plain": [
              "array([[ 0.        ,  0.84147098,  0.90929743,  0.14112001, -0.7568025 ],\n",
              "       [-0.95892427, -0.2794155 ,  0.6569866 ,  0.98935825,  0.41211849],\n",
              "       [-0.54402111, -0.99999021, -0.53657292,  0.42016704,  0.99060736],\n",
              "       [ 0.65028784, -0.28790332, -0.96139749, -0.75098725,  0.14987721],\n",
              "       [ 0.91294525,  0.83665564, -0.00885131, -0.8462204 , -0.90557836],\n",
              "       [-0.13235175,  0.76255845,  0.95637593,  0.27090579, -0.66363388],\n",
              "       [-0.98803162, -0.40403765,  0.55142668,  0.99991186,  0.52908269],\n",
              "       [-0.42818267, -0.99177885, -0.64353813,  0.29636858,  0.96379539],\n",
              "       [ 0.74511316, -0.15862267, -0.91652155, -0.83177474,  0.01770193],\n",
              "       [ 0.85090352,  0.90178835,  0.12357312, -0.76825466, -0.95375265],\n",
              "       [-0.26237485,  0.67022918,  0.98662759,  0.39592515, -0.55878905],\n",
              "       [-0.99975517, -0.521551  ,  0.43616476,  0.99287265,  0.63673801],\n",
              "       [-0.30481062, -0.96611777, -0.7391807 ,  0.1673557 ,  0.92002604],\n",
              "       [ 0.82682868, -0.02655115, -0.85551998, -0.89792768, -0.11478481],\n",
              "       [ 0.77389068,  0.95105465,  0.25382336, -0.67677196, -0.98514626],\n",
              "       [-0.38778164,  0.56610764,  0.99952016,  0.51397846, -0.44411267],\n",
              "       [-0.99388865, -0.62988799,  0.31322878,  0.96836446,  0.73319032],\n",
              "       [-0.17607562, -0.92345845, -0.82181784,  0.0353983 ,  0.86006941],\n",
              "       [ 0.89399666,  0.10598751, -0.77946607, -0.94828214, -0.24525199],\n",
              "       [ 0.68326171,  0.98358775,  0.37960774, -0.57338187, -0.99920683]])"
            ]
          },
          "metadata": {
            "tags": []
          },
          "execution_count": 107
        }
      ]
    },
    {
      "cell_type": "code",
      "metadata": {
        "id": "8E7lDDkESC4G",
        "colab_type": "code",
        "colab": {
          "base_uri": "https://localhost:8080/",
          "height": 377
        },
        "outputId": "3e426458-2bdf-439b-9017-f87e96d8cd7c"
      },
      "source": [
        "nums"
      ],
      "execution_count": 108,
      "outputs": [
        {
          "output_type": "execute_result",
          "data": {
            "text/plain": [
              "array([[ 0,  1,  2,  3,  4],\n",
              "       [ 5,  6,  7,  8,  9],\n",
              "       [10, 11, 12, 13, 14],\n",
              "       [15, 16, 17, 18, 19],\n",
              "       [20, 21, 22, 23, 24],\n",
              "       [25, 26, 27, 28, 29],\n",
              "       [30, 31, 32, 33, 34],\n",
              "       [35, 36, 37, 38, 39],\n",
              "       [40, 41, 42, 43, 44],\n",
              "       [45, 46, 47, 48, 49],\n",
              "       [50, 51, 52, 53, 54],\n",
              "       [55, 56, 57, 58, 59],\n",
              "       [60, 61, 62, 63, 64],\n",
              "       [65, 66, 67, 68, 69],\n",
              "       [70, 71, 72, 73, 74],\n",
              "       [75, 76, 77, 78, 79],\n",
              "       [80, 81, 82, 83, 84],\n",
              "       [85, 86, 87, 88, 89],\n",
              "       [90, 91, 92, 93, 94],\n",
              "       [95, 96, 97, 98, 99]])"
            ]
          },
          "metadata": {
            "tags": []
          },
          "execution_count": 108
        }
      ]
    },
    {
      "cell_type": "code",
      "metadata": {
        "id": "GOWNXU9XSHYP",
        "colab_type": "code",
        "colab": {
          "base_uri": "https://localhost:8080/",
          "height": 35
        },
        "outputId": "75018561-9f55-4389-b84b-c79bada95d9c"
      },
      "source": [
        "10 >> 1"
      ],
      "execution_count": 109,
      "outputs": [
        {
          "output_type": "execute_result",
          "data": {
            "text/plain": [
              "5"
            ]
          },
          "metadata": {
            "tags": []
          },
          "execution_count": 109
        }
      ]
    },
    {
      "cell_type": "code",
      "metadata": {
        "id": "jUn68lxRSMBH",
        "colab_type": "code",
        "colab": {
          "base_uri": "https://localhost:8080/",
          "height": 377
        },
        "outputId": "1bf1efe0-61b5-4975-9b38-b3c18111539e"
      },
      "source": [
        "#bit ops \n",
        "np.right_shift(nums, 1)"
      ],
      "execution_count": 110,
      "outputs": [
        {
          "output_type": "execute_result",
          "data": {
            "text/plain": [
              "array([[ 0,  0,  1,  1,  2],\n",
              "       [ 2,  3,  3,  4,  4],\n",
              "       [ 5,  5,  6,  6,  7],\n",
              "       [ 7,  8,  8,  9,  9],\n",
              "       [10, 10, 11, 11, 12],\n",
              "       [12, 13, 13, 14, 14],\n",
              "       [15, 15, 16, 16, 17],\n",
              "       [17, 18, 18, 19, 19],\n",
              "       [20, 20, 21, 21, 22],\n",
              "       [22, 23, 23, 24, 24],\n",
              "       [25, 25, 26, 26, 27],\n",
              "       [27, 28, 28, 29, 29],\n",
              "       [30, 30, 31, 31, 32],\n",
              "       [32, 33, 33, 34, 34],\n",
              "       [35, 35, 36, 36, 37],\n",
              "       [37, 38, 38, 39, 39],\n",
              "       [40, 40, 41, 41, 42],\n",
              "       [42, 43, 43, 44, 44],\n",
              "       [45, 45, 46, 46, 47],\n",
              "       [47, 48, 48, 49, 49]])"
            ]
          },
          "metadata": {
            "tags": []
          },
          "execution_count": 110
        }
      ]
    },
    {
      "cell_type": "code",
      "metadata": {
        "id": "PC782ayPSWad",
        "colab_type": "code",
        "colab": {
          "base_uri": "https://localhost:8080/",
          "height": 377
        },
        "outputId": "5e3ee125-4b44-4a6f-fd3c-e2b34936c658"
      },
      "source": [
        "nums >> 1"
      ],
      "execution_count": 111,
      "outputs": [
        {
          "output_type": "execute_result",
          "data": {
            "text/plain": [
              "array([[ 0,  0,  1,  1,  2],\n",
              "       [ 2,  3,  3,  4,  4],\n",
              "       [ 5,  5,  6,  6,  7],\n",
              "       [ 7,  8,  8,  9,  9],\n",
              "       [10, 10, 11, 11, 12],\n",
              "       [12, 13, 13, 14, 14],\n",
              "       [15, 15, 16, 16, 17],\n",
              "       [17, 18, 18, 19, 19],\n",
              "       [20, 20, 21, 21, 22],\n",
              "       [22, 23, 23, 24, 24],\n",
              "       [25, 25, 26, 26, 27],\n",
              "       [27, 28, 28, 29, 29],\n",
              "       [30, 30, 31, 31, 32],\n",
              "       [32, 33, 33, 34, 34],\n",
              "       [35, 35, 36, 36, 37],\n",
              "       [37, 38, 38, 39, 39],\n",
              "       [40, 40, 41, 41, 42],\n",
              "       [42, 43, 43, 44, 44],\n",
              "       [45, 45, 46, 46, 47],\n",
              "       [47, 48, 48, 49, 49]])"
            ]
          },
          "metadata": {
            "tags": []
          },
          "execution_count": 111
        }
      ]
    },
    {
      "cell_type": "code",
      "metadata": {
        "id": "q5T8oXFRSfPG",
        "colab_type": "code",
        "colab": {
          "base_uri": "https://localhost:8080/",
          "height": 377
        },
        "outputId": "c1308b97-cb00-4bae-b57f-6f1edbadc905"
      },
      "source": [
        "# logic\n",
        "np.logical_and(nums, nums % 2 == 0)"
      ],
      "execution_count": 112,
      "outputs": [
        {
          "output_type": "execute_result",
          "data": {
            "text/plain": [
              "array([[False, False,  True, False,  True],\n",
              "       [False,  True, False,  True, False],\n",
              "       [ True, False,  True, False,  True],\n",
              "       [False,  True, False,  True, False],\n",
              "       [ True, False,  True, False,  True],\n",
              "       [False,  True, False,  True, False],\n",
              "       [ True, False,  True, False,  True],\n",
              "       [False,  True, False,  True, False],\n",
              "       [ True, False,  True, False,  True],\n",
              "       [False,  True, False,  True, False],\n",
              "       [ True, False,  True, False,  True],\n",
              "       [False,  True, False,  True, False],\n",
              "       [ True, False,  True, False,  True],\n",
              "       [False,  True, False,  True, False],\n",
              "       [ True, False,  True, False,  True],\n",
              "       [False,  True, False,  True, False],\n",
              "       [ True, False,  True, False,  True],\n",
              "       [False,  True, False,  True, False],\n",
              "       [ True, False,  True, False,  True],\n",
              "       [False,  True, False,  True, False]])"
            ]
          },
          "metadata": {
            "tags": []
          },
          "execution_count": 112
        }
      ]
    },
    {
      "cell_type": "code",
      "metadata": {
        "id": "lPY_jvigSsAU",
        "colab_type": "code",
        "colab": {
          "base_uri": "https://localhost:8080/",
          "height": 377
        },
        "outputId": "1c4e0641-0f33-4af6-a474-a0498e7f7417"
      },
      "source": [
        "# comparison \n",
        "np.greater(nums, 10)"
      ],
      "execution_count": 113,
      "outputs": [
        {
          "output_type": "execute_result",
          "data": {
            "text/plain": [
              "array([[False, False, False, False, False],\n",
              "       [False, False, False, False, False],\n",
              "       [False,  True,  True,  True,  True],\n",
              "       [ True,  True,  True,  True,  True],\n",
              "       [ True,  True,  True,  True,  True],\n",
              "       [ True,  True,  True,  True,  True],\n",
              "       [ True,  True,  True,  True,  True],\n",
              "       [ True,  True,  True,  True,  True],\n",
              "       [ True,  True,  True,  True,  True],\n",
              "       [ True,  True,  True,  True,  True],\n",
              "       [ True,  True,  True,  True,  True],\n",
              "       [ True,  True,  True,  True,  True],\n",
              "       [ True,  True,  True,  True,  True],\n",
              "       [ True,  True,  True,  True,  True],\n",
              "       [ True,  True,  True,  True,  True],\n",
              "       [ True,  True,  True,  True,  True],\n",
              "       [ True,  True,  True,  True,  True],\n",
              "       [ True,  True,  True,  True,  True],\n",
              "       [ True,  True,  True,  True,  True],\n",
              "       [ True,  True,  True,  True,  True]])"
            ]
          },
          "metadata": {
            "tags": []
          },
          "execution_count": 113
        }
      ]
    },
    {
      "cell_type": "code",
      "metadata": {
        "id": "ZRrMkng6S6sr",
        "colab_type": "code",
        "colab": {
          "base_uri": "https://localhost:8080/",
          "height": 377
        },
        "outputId": "3ceab7ca-8cb2-4b4d-87d4-d0af936185e7"
      },
      "source": [
        "# floating point \n",
        "np.ceil(nums/3)"
      ],
      "execution_count": 114,
      "outputs": [
        {
          "output_type": "execute_result",
          "data": {
            "text/plain": [
              "array([[ 0.,  1.,  1.,  1.,  2.],\n",
              "       [ 2.,  2.,  3.,  3.,  3.],\n",
              "       [ 4.,  4.,  4.,  5.,  5.],\n",
              "       [ 5.,  6.,  6.,  6.,  7.],\n",
              "       [ 7.,  7.,  8.,  8.,  8.],\n",
              "       [ 9.,  9.,  9., 10., 10.],\n",
              "       [10., 11., 11., 11., 12.],\n",
              "       [12., 12., 13., 13., 13.],\n",
              "       [14., 14., 14., 15., 15.],\n",
              "       [15., 16., 16., 16., 17.],\n",
              "       [17., 17., 18., 18., 18.],\n",
              "       [19., 19., 19., 20., 20.],\n",
              "       [20., 21., 21., 21., 22.],\n",
              "       [22., 22., 23., 23., 23.],\n",
              "       [24., 24., 24., 25., 25.],\n",
              "       [25., 26., 26., 26., 27.],\n",
              "       [27., 27., 28., 28., 28.],\n",
              "       [29., 29., 29., 30., 30.],\n",
              "       [30., 31., 31., 31., 32.],\n",
              "       [32., 32., 33., 33., 33.]])"
            ]
          },
          "metadata": {
            "tags": []
          },
          "execution_count": 114
        }
      ]
    },
    {
      "cell_type": "markdown",
      "metadata": {
        "id": "mvdA1-hFTKGc",
        "colab_type": "text"
      },
      "source": [
        "Avoid for loops with Numpy arrays and default to ufuncs."
      ]
    }
  ]
}