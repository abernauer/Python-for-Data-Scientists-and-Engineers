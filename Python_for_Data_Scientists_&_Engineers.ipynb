{
  "nbformat": 4,
  "nbformat_minor": 0,
  "metadata": {
    "colab": {
      "name": "Python for Data Scientists & Engineers.ipynb",
      "provenance": [],
      "toc_visible": true,
      "authorship_tag": "ABX9TyOUNp5FV7IlmYbF/HkmQI3y",
      "include_colab_link": true
    },
    "kernelspec": {
      "name": "python3",
      "display_name": "Python 3"
    }
  },
  "cells": [
    {
      "cell_type": "markdown",
      "metadata": {
        "id": "view-in-github",
        "colab_type": "text"
      },
      "source": [
        "<a href=\"https://colab.research.google.com/github/abernauer/Python-for-Data-Scientists-and-Engineers/blob/master/Python_for_Data_Scientists_%26_Engineers.ipynb\" target=\"_parent\"><img src=\"https://colab.research.google.com/assets/colab-badge.svg\" alt=\"Open In Colab\"/></a>"
      ]
    },
    {
      "cell_type": "markdown",
      "metadata": {
        "id": "NFDdT17BWZAH",
        "colab_type": "text"
      },
      "source": [
        "# Variables"
      ]
    },
    {
      "cell_type": "code",
      "metadata": {
        "id": "Lyf5KmEMYRtH",
        "colab_type": "code",
        "colab": {
          "base_uri": "https://localhost:8080/",
          "height": 395
        },
        "outputId": "aa272a8b-825c-4460-848e-45317b1d9b80"
      },
      "source": [
        "import this"
      ],
      "execution_count": null,
      "outputs": [
        {
          "output_type": "stream",
          "text": [
            "The Zen of Python, by Tim Peters\n",
            "\n",
            "Beautiful is better than ugly.\n",
            "Explicit is better than implicit.\n",
            "Simple is better than complex.\n",
            "Complex is better than complicated.\n",
            "Flat is better than nested.\n",
            "Sparse is better than dense.\n",
            "Readability counts.\n",
            "Special cases aren't special enough to break the rules.\n",
            "Although practicality beats purity.\n",
            "Errors should never pass silently.\n",
            "Unless explicitly silenced.\n",
            "In the face of ambiguity, refuse the temptation to guess.\n",
            "There should be one-- and preferably only one --obvious way to do it.\n",
            "Although that way may not be obvious at first unless you're Dutch.\n",
            "Now is better than never.\n",
            "Although never is often better than *right* now.\n",
            "If the implementation is hard to explain, it's a bad idea.\n",
            "If the implementation is easy to explain, it may be a good idea.\n",
            "Namespaces are one honking great idea -- let's do more of those!\n"
          ],
          "name": "stdout"
        }
      ]
    },
    {
      "cell_type": "markdown",
      "metadata": {
        "id": "YjiEWSC-Yi1R",
        "colab_type": "text"
      },
      "source": [
        "Notes on the zen of Python:\n",
        "* Code that is readable is best\n",
        "* Python is going to do what you said\n",
        "* Python won't guess what you want to do\n",
        "* Preferably there is only way to do something in Python, you should do it that way \n"
      ]
    },
    {
      "cell_type": "code",
      "metadata": {
        "id": "-vR_C_h4aV2U",
        "colab_type": "code",
        "colab": {}
      },
      "source": [
        "status = 'off'"
      ],
      "execution_count": null,
      "outputs": []
    },
    {
      "cell_type": "code",
      "metadata": {
        "id": "AxVgIm1QadyH",
        "colab_type": "code",
        "colab": {}
      },
      "source": [
        "# variables don't have type\n",
        "# a letter is a bad variable name\n",
        "\n",
        "b = 400\n",
        "b = '400'"
      ],
      "execution_count": null,
      "outputs": []
    },
    {
      "cell_type": "markdown",
      "metadata": {
        "id": "NC_G-iMEae3m",
        "colab_type": "text"
      },
      "source": [
        "Everything in Python is an object that has:\n",
        "* an identity (id)\n",
        "* a type (type). Determines what operations object can perform.\n",
        "* a value (mutable or immutable)\n",
        "* reference count"
      ]
    },
    {
      "cell_type": "code",
      "metadata": {
        "id": "ry0ttEzrb4k6",
        "colab_type": "code",
        "colab": {
          "base_uri": "https://localhost:8080/",
          "height": 35
        },
        "outputId": "d24e01d1-4fa1-4769-d932-4b8bba5968aa"
      },
      "source": [
        "id(b)"
      ],
      "execution_count": null,
      "outputs": [
        {
          "output_type": "execute_result",
          "data": {
            "text/plain": [
              "140090153452128"
            ]
          },
          "metadata": {
            "tags": []
          },
          "execution_count": 5
        }
      ]
    },
    {
      "cell_type": "code",
      "metadata": {
        "id": "C05jDi_scUmq",
        "colab_type": "code",
        "colab": {
          "base_uri": "https://localhost:8080/",
          "height": 35
        },
        "outputId": "9dd9f33b-0155-4226-e6b3-832128fcebd1"
      },
      "source": [
        "type(b)"
      ],
      "execution_count": null,
      "outputs": [
        {
          "output_type": "execute_result",
          "data": {
            "text/plain": [
              "str"
            ]
          },
          "metadata": {
            "tags": []
          },
          "execution_count": 6
        }
      ]
    },
    {
      "cell_type": "code",
      "metadata": {
        "id": "kFKdtmqWdtHY",
        "colab_type": "code",
        "colab": {
          "base_uri": "https://localhost:8080/",
          "height": 35
        },
        "outputId": "b464c328-fc4e-4073-819f-399d8f3942a0"
      },
      "source": [
        "b"
      ],
      "execution_count": null,
      "outputs": [
        {
          "output_type": "execute_result",
          "data": {
            "application/vnd.google.colaboratory.intrinsic+json": {
              "type": "string"
            },
            "text/plain": [
              "'400'"
            ]
          },
          "metadata": {
            "tags": []
          },
          "execution_count": 7
        }
      ]
    },
    {
      "cell_type": "code",
      "metadata": {
        "id": "5c2z4QGReA_h",
        "colab_type": "code",
        "colab": {
          "base_uri": "https://localhost:8080/",
          "height": 35
        },
        "outputId": "90a4db20-d33f-4365-b756-d3a1d0aab855"
      },
      "source": [
        "import sys\n",
        "sys.getrefcount(b)"
      ],
      "execution_count": null,
      "outputs": [
        {
          "output_type": "execute_result",
          "data": {
            "text/plain": [
              "9"
            ]
          },
          "metadata": {
            "tags": []
          },
          "execution_count": 10
        }
      ]
    },
    {
      "cell_type": "code",
      "metadata": {
        "id": "2L4L719CecFF",
        "colab_type": "code",
        "colab": {
          "base_uri": "https://localhost:8080/",
          "height": 35
        },
        "outputId": "ed504713-37fe-44a8-8eb6-66d5573c3dc4"
      },
      "source": [
        "# built-in \"literals\"\n",
        "# string\n",
        "name = \"andrew \\N{GRINNING FACE}\" # literal\n",
        "age_string = str(25) # using str constructor\n",
        "name"
      ],
      "execution_count": null,
      "outputs": [
        {
          "output_type": "execute_result",
          "data": {
            "application/vnd.google.colaboratory.intrinsic+json": {
              "type": "string"
            },
            "text/plain": [
              "'andrew 😀'"
            ]
          },
          "metadata": {
            "tags": []
          },
          "execution_count": 11
        }
      ]
    },
    {
      "cell_type": "code",
      "metadata": {
        "id": "SES1Xm3pfCif",
        "colab_type": "code",
        "colab": {}
      },
      "source": [
        "# number literals (constructor in parens)\n",
        "age = 25 # integer literal (int)\n",
        "cost =  5.5 # float literal (float)\n",
        "loc = 1 + 0j # complex literal (complex)"
      ],
      "execution_count": null,
      "outputs": []
    },
    {
      "cell_type": "code",
      "metadata": {
        "id": "pXllec9divUd",
        "colab_type": "code",
        "colab": {}
      },
      "source": [
        "# list literal \n",
        "names = [name, 'suzy', 'fred']\n",
        "characters = list('aeiou') # constructor"
      ],
      "execution_count": null,
      "outputs": []
    },
    {
      "cell_type": "code",
      "metadata": {
        "id": "86odxOQxjEeS",
        "colab_type": "code",
        "colab": {
          "base_uri": "https://localhost:8080/",
          "height": 35
        },
        "outputId": "9223090f-717d-4bd7-c3f8-5cd6271d2b1e"
      },
      "source": [
        "characters"
      ],
      "execution_count": null,
      "outputs": [
        {
          "output_type": "execute_result",
          "data": {
            "text/plain": [
              "['a', 'e', 'i', 'o', 'u']"
            ]
          },
          "metadata": {
            "tags": []
          },
          "execution_count": 14
        }
      ]
    },
    {
      "cell_type": "code",
      "metadata": {
        "id": "2t4VzvEtjQ3F",
        "colab_type": "code",
        "colab": {}
      },
      "source": [
        "# tuple literal \n",
        "person = ('fred', 42, '123-432-0943', '123 North Street')\n",
        "person2 = tuple(['susan', 43, '213-123-0987', '789 West Ave'])"
      ],
      "execution_count": null,
      "outputs": []
    },
    {
      "cell_type": "code",
      "metadata": {
        "id": "gW4pZj90j5f8",
        "colab_type": "code",
        "colab": {
          "base_uri": "https://localhost:8080/",
          "height": 35
        },
        "outputId": "8e8d1a8a-484c-4240-defb-65ab840a0f65"
      },
      "source": [
        "person2"
      ],
      "execution_count": null,
      "outputs": [
        {
          "output_type": "execute_result",
          "data": {
            "text/plain": [
              "('susan', 43, '213-123-0987', '789 West Ave')"
            ]
          },
          "metadata": {
            "tags": []
          },
          "execution_count": 16
        }
      ]
    },
    {
      "cell_type": "code",
      "metadata": {
        "id": "CnTSs_V_kPAo",
        "colab_type": "code",
        "colab": {}
      },
      "source": [
        "# dictionary\n",
        "types = {'name' : 'string', 'age' : 'int'}\n",
        "ages = dict(zip(['fred', 'suzy'], [20, 21]))\n",
        "types2 = dict(name='string', age='int')"
      ],
      "execution_count": null,
      "outputs": []
    },
    {
      "cell_type": "code",
      "metadata": {
        "id": "EiIHxSsqlWg5",
        "colab_type": "code",
        "colab": {
          "base_uri": "https://localhost:8080/",
          "height": 35
        },
        "outputId": "39db4897-6bd5-4316-a35d-0729fb1d5bbd"
      },
      "source": [
        "ages"
      ],
      "execution_count": null,
      "outputs": [
        {
          "output_type": "execute_result",
          "data": {
            "text/plain": [
              "{'fred': 20, 'suzy': 21}"
            ]
          },
          "metadata": {
            "tags": []
          },
          "execution_count": 19
        }
      ]
    },
    {
      "cell_type": "code",
      "metadata": {
        "id": "PlZiCpv8lZXK",
        "colab_type": "code",
        "colab": {
          "base_uri": "https://localhost:8080/",
          "height": 35
        },
        "outputId": "e194af4a-b43b-46ff-c28b-b72cebaf6da8"
      },
      "source": [
        "types2"
      ],
      "execution_count": null,
      "outputs": [
        {
          "output_type": "execute_result",
          "data": {
            "text/plain": [
              "{'age': 'int', 'name': 'string'}"
            ]
          },
          "metadata": {
            "tags": []
          },
          "execution_count": 20
        }
      ]
    },
    {
      "cell_type": "code",
      "metadata": {
        "id": "JvAw5100lchf",
        "colab_type": "code",
        "colab": {
          "base_uri": "https://localhost:8080/",
          "height": 35
        },
        "outputId": "25b54285-6a5e-4dee-c910-577295096e68"
      },
      "source": [
        "# set \n",
        "digits = (0, 1, 2, 3, 4, 5, 6, 7, 8, 9)\n",
        "unique_chars = set('lorem ipsum dolor')\n",
        "unique_chars"
      ],
      "execution_count": null,
      "outputs": [
        {
          "output_type": "execute_result",
          "data": {
            "text/plain": [
              "{' ', 'd', 'e', 'i', 'l', 'm', 'o', 'p', 'r', 's', 'u'}"
            ]
          },
          "metadata": {
            "tags": []
          },
          "execution_count": 21
        }
      ]
    },
    {
      "cell_type": "code",
      "metadata": {
        "id": "DJCiwf1lmCcr",
        "colab_type": "code",
        "colab": {
          "base_uri": "https://localhost:8080/",
          "height": 55
        },
        "outputId": "2f4141c6-8336-4a6d-9fa8-6e7a0c7e35c4"
      },
      "source": [
        "print(dir(__builtin__))"
      ],
      "execution_count": null,
      "outputs": [
        {
          "output_type": "stream",
          "text": [
            "['ArithmeticError', 'AssertionError', 'AttributeError', 'BaseException', 'BlockingIOError', 'BrokenPipeError', 'BufferError', 'BytesWarning', 'ChildProcessError', 'ConnectionAbortedError', 'ConnectionError', 'ConnectionRefusedError', 'ConnectionResetError', 'DeprecationWarning', 'EOFError', 'Ellipsis', 'EnvironmentError', 'Exception', 'False', 'FileExistsError', 'FileNotFoundError', 'FloatingPointError', 'FutureWarning', 'GeneratorExit', 'IOError', 'ImportError', 'ImportWarning', 'IndentationError', 'IndexError', 'InterruptedError', 'IsADirectoryError', 'KeyError', 'KeyboardInterrupt', 'LookupError', 'MemoryError', 'ModuleNotFoundError', 'NameError', 'None', 'NotADirectoryError', 'NotImplemented', 'NotImplementedError', 'OSError', 'OverflowError', 'PendingDeprecationWarning', 'PermissionError', 'ProcessLookupError', 'RecursionError', 'ReferenceError', 'ResourceWarning', 'RuntimeError', 'RuntimeWarning', 'StopAsyncIteration', 'StopIteration', 'SyntaxError', 'SyntaxWarning', 'SystemError', 'SystemExit', 'TabError', 'TimeoutError', 'True', 'TypeError', 'UnboundLocalError', 'UnicodeDecodeError', 'UnicodeEncodeError', 'UnicodeError', 'UnicodeTranslateError', 'UnicodeWarning', 'UserWarning', 'ValueError', 'Warning', 'ZeroDivisionError', '__IPYTHON__', '__build_class__', '__debug__', '__doc__', '__import__', '__loader__', '__name__', '__package__', '__spec__', 'abs', 'all', 'any', 'ascii', 'bin', 'bool', 'bytearray', 'bytes', 'callable', 'chr', 'classmethod', 'compile', 'complex', 'copyright', 'credits', 'delattr', 'dict', 'dir', 'display', 'divmod', 'dreload', 'enumerate', 'eval', 'exec', 'filter', 'float', 'format', 'frozenset', 'get_ipython', 'getattr', 'globals', 'hasattr', 'hash', 'help', 'hex', 'id', 'input', 'int', 'isinstance', 'issubclass', 'iter', 'len', 'license', 'list', 'locals', 'map', 'max', 'memoryview', 'min', 'next', 'object', 'oct', 'open', 'ord', 'pow', 'print', 'property', 'range', 'repr', 'reversed', 'round', 'set', 'setattr', 'slice', 'sorted', 'staticmethod', 'str', 'sum', 'super', 'tuple', 'type', 'vars', 'zip']\n"
          ],
          "name": "stdout"
        }
      ]
    },
    {
      "cell_type": "markdown",
      "metadata": {
        "id": "q74gPmyPmQP_",
        "colab_type": "text"
      },
      "source": [
        "These are all in the built in namespace."
      ]
    },
    {
      "cell_type": "markdown",
      "metadata": {
        "id": "DIi1SYlTmaRz",
        "colab_type": "text"
      },
      "source": [
        "Lookup hierarchy:\n",
        "* Local- function/method\n",
        "* Enclosed - nested function/method\n",
        "* Global\n",
        "* Builtin\n",
        "* Name error!\n"
      ]
    },
    {
      "cell_type": "code",
      "metadata": {
        "id": "vZf4zqVwm2gI",
        "colab_type": "code",
        "colab": {
          "base_uri": "https://localhost:8080/",
          "height": 190
        },
        "outputId": "16e73b96-ab3c-42b3-cba4-3734a6bbf3ea"
      },
      "source": [
        "# name error\n",
        "missing"
      ],
      "execution_count": null,
      "outputs": [
        {
          "output_type": "error",
          "ename": "NameError",
          "evalue": "ignored",
          "traceback": [
            "\u001b[0;31m---------------------------------------------------------------------------\u001b[0m",
            "\u001b[0;31mNameError\u001b[0m                                 Traceback (most recent call last)",
            "\u001b[0;32m<ipython-input-23-8d62f248ea99>\u001b[0m in \u001b[0;36m<module>\u001b[0;34m()\u001b[0m\n\u001b[1;32m      1\u001b[0m \u001b[0;31m# name error\u001b[0m\u001b[0;34m\u001b[0m\u001b[0;34m\u001b[0m\u001b[0;34m\u001b[0m\u001b[0m\n\u001b[0;32m----> 2\u001b[0;31m \u001b[0mmissing\u001b[0m\u001b[0;34m\u001b[0m\u001b[0;34m\u001b[0m\u001b[0m\n\u001b[0m",
            "\u001b[0;31mNameError\u001b[0m: name 'missing' is not defined"
          ]
        }
      ]
    },
    {
      "cell_type": "markdown",
      "metadata": {
        "id": "Jp_3Kd-fm8xU",
        "colab_type": "text"
      },
      "source": [
        "naming \n",
        "* lowercase\n",
        "* underscore_between_words\n",
        "* don't start with numbers\n",
        "* don't use names that are reserved or built in"
      ]
    },
    {
      "cell_type": "markdown",
      "metadata": {
        "id": "XOO-Yu1ZnS_s",
        "colab_type": "text"
      },
      "source": [
        "#Math"
      ]
    },
    {
      "cell_type": "code",
      "metadata": {
        "id": "su3fG_E4t24j",
        "colab_type": "code",
        "colab": {
          "base_uri": "https://localhost:8080/",
          "height": 35
        },
        "outputId": "7035ccaa-a340-4155-bded-9747e199b844"
      },
      "source": [
        "# +,-,*,/\n",
        "42 + 10"
      ],
      "execution_count": null,
      "outputs": [
        {
          "output_type": "execute_result",
          "data": {
            "text/plain": [
              "52"
            ]
          },
          "metadata": {
            "tags": []
          },
          "execution_count": 24
        }
      ]
    },
    {
      "cell_type": "code",
      "metadata": {
        "id": "bdEHfkpGuBo1",
        "colab_type": "code",
        "colab": {
          "base_uri": "https://localhost:8080/",
          "height": 55
        },
        "outputId": "e13ed387-2f4a-4b7d-895f-8f3101ea95c7"
      },
      "source": [
        "42 ** 100"
      ],
      "execution_count": null,
      "outputs": [
        {
          "output_type": "execute_result",
          "data": {
            "text/plain": [
              "2113143741011360736530044045523113991698878330713580061264477934391564919875497777688215057732151811172029315247932158994879668553186145824710950394684126712037376"
            ]
          },
          "metadata": {
            "tags": []
          },
          "execution_count": 25
        }
      ]
    },
    {
      "cell_type": "markdown",
      "metadata": {
        "id": "B5uUMprtuKIu",
        "colab_type": "text"
      },
      "source": [
        "** power operator"
      ]
    },
    {
      "cell_type": "code",
      "metadata": {
        "id": "J2FlqtoAuOEZ",
        "colab_type": "code",
        "colab": {
          "base_uri": "https://localhost:8080/",
          "height": 35
        },
        "outputId": "a3a51c66-b03f-4cbf-9f9a-ffc7c4dcedeb"
      },
      "source": [
        "57 % 2"
      ],
      "execution_count": null,
      "outputs": [
        {
          "output_type": "execute_result",
          "data": {
            "text/plain": [
              "1"
            ]
          },
          "metadata": {
            "tags": []
          },
          "execution_count": 26
        }
      ]
    },
    {
      "cell_type": "code",
      "metadata": {
        "id": "cKBXzxhQuUQQ",
        "colab_type": "code",
        "colab": {
          "base_uri": "https://localhost:8080/",
          "height": 35
        },
        "outputId": "b10d05d7-cab9-4085-c465-6afa3f44abcb"
      },
      "source": [
        "# number \"tower\" int, float, complex\n",
        "3 + 4.5"
      ],
      "execution_count": null,
      "outputs": [
        {
          "output_type": "execute_result",
          "data": {
            "text/plain": [
              "7.5"
            ]
          },
          "metadata": {
            "tags": []
          },
          "execution_count": 27
        }
      ]
    },
    {
      "cell_type": "code",
      "metadata": {
        "id": "XQZWJA7xunrC",
        "colab_type": "code",
        "colab": {
          "base_uri": "https://localhost:8080/",
          "height": 35
        },
        "outputId": "1cf5771f-d1d7-41cd-ff98-2b608d945169"
      },
      "source": [
        "1 - (2+4j)"
      ],
      "execution_count": null,
      "outputs": [
        {
          "output_type": "execute_result",
          "data": {
            "text/plain": [
              "(-1-4j)"
            ]
          },
          "metadata": {
            "tags": []
          },
          "execution_count": 28
        }
      ]
    },
    {
      "cell_type": "code",
      "metadata": {
        "id": "CG8J49uMuv8O",
        "colab_type": "code",
        "colab": {
          "base_uri": "https://localhost:8080/",
          "height": 55
        },
        "outputId": "9aec060c-e5da-40b5-a118-0d20e0d3fd54"
      },
      "source": [
        "# the secret life of Python objects\n",
        "print(dir(42))"
      ],
      "execution_count": null,
      "outputs": [
        {
          "output_type": "stream",
          "text": [
            "['__abs__', '__add__', '__and__', '__bool__', '__ceil__', '__class__', '__delattr__', '__dir__', '__divmod__', '__doc__', '__eq__', '__float__', '__floor__', '__floordiv__', '__format__', '__ge__', '__getattribute__', '__getnewargs__', '__gt__', '__hash__', '__index__', '__init__', '__init_subclass__', '__int__', '__invert__', '__le__', '__lshift__', '__lt__', '__mod__', '__mul__', '__ne__', '__neg__', '__new__', '__or__', '__pos__', '__pow__', '__radd__', '__rand__', '__rdivmod__', '__reduce__', '__reduce_ex__', '__repr__', '__rfloordiv__', '__rlshift__', '__rmod__', '__rmul__', '__ror__', '__round__', '__rpow__', '__rrshift__', '__rshift__', '__rsub__', '__rtruediv__', '__rxor__', '__setattr__', '__sizeof__', '__str__', '__sub__', '__subclasshook__', '__truediv__', '__trunc__', '__xor__', 'bit_length', 'conjugate', 'denominator', 'from_bytes', 'imag', 'numerator', 'real', 'to_bytes']\n"
          ],
          "name": "stdout"
        }
      ]
    },
    {
      "cell_type": "markdown",
      "metadata": {
        "id": "QO68TxoPvO5w",
        "colab_type": "text"
      },
      "source": [
        "List of dunder methods or attributes of 42."
      ]
    },
    {
      "cell_type": "code",
      "metadata": {
        "id": "mLacsj5GvBnX",
        "colab_type": "code",
        "colab": {
          "base_uri": "https://localhost:8080/",
          "height": 215
        },
        "outputId": "5ec2dfd2-6638-4852-9614-6a631c4dc902"
      },
      "source": [
        "help((42).bit_length)"
      ],
      "execution_count": null,
      "outputs": [
        {
          "output_type": "stream",
          "text": [
            "Help on built-in function bit_length:\n",
            "\n",
            "bit_length(...) method of builtins.int instance\n",
            "    int.bit_length() -> int\n",
            "    \n",
            "    Number of bits necessary to represent self in binary.\n",
            "    >>> bin(37)\n",
            "    '0b100101'\n",
            "    >>> (37).bit_length()\n",
            "    6\n",
            "\n"
          ],
          "name": "stdout"
        }
      ]
    },
    {
      "cell_type": "code",
      "metadata": {
        "id": "7p0TXWjhwDNR",
        "colab_type": "code",
        "colab": {
          "base_uri": "https://localhost:8080/",
          "height": 136
        },
        "outputId": "e07edfd8-84ad-4830-cb5a-9b2517497adc"
      },
      "source": [
        "42.bit_length()"
      ],
      "execution_count": null,
      "outputs": [
        {
          "output_type": "error",
          "ename": "SyntaxError",
          "evalue": "ignored",
          "traceback": [
            "\u001b[0;36m  File \u001b[0;32m\"<ipython-input-32-d5f82f31f6e5>\"\u001b[0;36m, line \u001b[0;32m1\u001b[0m\n\u001b[0;31m    42.bit_length()\u001b[0m\n\u001b[0m                ^\u001b[0m\n\u001b[0;31mSyntaxError\u001b[0m\u001b[0;31m:\u001b[0m invalid syntax\n"
          ]
        }
      ]
    },
    {
      "cell_type": "code",
      "metadata": {
        "id": "K26K3W05wP6n",
        "colab_type": "code",
        "colab": {
          "base_uri": "https://localhost:8080/",
          "height": 35
        },
        "outputId": "bdaa51fe-d77e-413e-8e52-c9a2a135a2b7"
      },
      "source": [
        "(42).bit_length()"
      ],
      "execution_count": null,
      "outputs": [
        {
          "output_type": "execute_result",
          "data": {
            "text/plain": [
              "6"
            ]
          },
          "metadata": {
            "tags": []
          },
          "execution_count": 33
        }
      ]
    },
    {
      "cell_type": "code",
      "metadata": {
        "id": "bcjaAvmJwVJq",
        "colab_type": "code",
        "colab": {
          "base_uri": "https://localhost:8080/",
          "height": 35
        },
        "outputId": "ffb40aa9-771b-4385-dbed-598ea2794d3c"
      },
      "source": [
        "bin(42)"
      ],
      "execution_count": null,
      "outputs": [
        {
          "output_type": "execute_result",
          "data": {
            "application/vnd.google.colaboratory.intrinsic+json": {
              "type": "string"
            },
            "text/plain": [
              "'0b101010'"
            ]
          },
          "metadata": {
            "tags": []
          },
          "execution_count": 34
        }
      ]
    },
    {
      "cell_type": "code",
      "metadata": {
        "id": "7TwWujiHwc8E",
        "colab_type": "code",
        "colab": {
          "base_uri": "https://localhost:8080/",
          "height": 35
        },
        "outputId": "2d65ca53-b332-4493-eb66-85e982ef6fb6"
      },
      "source": [
        "42 + 10 # calling or dispatching dunder add method"
      ],
      "execution_count": null,
      "outputs": [
        {
          "output_type": "execute_result",
          "data": {
            "text/plain": [
              "52"
            ]
          },
          "metadata": {
            "tags": []
          },
          "execution_count": 35
        }
      ]
    },
    {
      "cell_type": "code",
      "metadata": {
        "id": "k3YpttpNw0a5",
        "colab_type": "code",
        "colab": {
          "base_uri": "https://localhost:8080/",
          "height": 35
        },
        "outputId": "f06d7616-f28a-4132-c0da-824d14696eb2"
      },
      "source": [
        "# Python does this for us \n",
        "(42).__add__(10)"
      ],
      "execution_count": null,
      "outputs": [
        {
          "output_type": "execute_result",
          "data": {
            "text/plain": [
              "52"
            ]
          },
          "metadata": {
            "tags": []
          },
          "execution_count": 36
        }
      ]
    },
    {
      "cell_type": "markdown",
      "metadata": {
        "id": "jhnfgZ9MxlIB",
        "colab_type": "text"
      },
      "source": [
        "#Getting Help"
      ]
    },
    {
      "cell_type": "markdown",
      "metadata": {
        "id": "pn6i7Ez5xxNz",
        "colab_type": "text"
      },
      "source": [
        "? is not built in, but a feature of Juypter for getting help"
      ]
    },
    {
      "cell_type": "code",
      "metadata": {
        "id": "wYgFsZL5xsRG",
        "colab_type": "code",
        "colab": {}
      },
      "source": [
        "len?"
      ],
      "execution_count": null,
      "outputs": []
    },
    {
      "cell_type": "code",
      "metadata": {
        "id": "BigCDZzsx6Xy",
        "colab_type": "code",
        "colab": {}
      },
      "source": [
        "def adder(x, y):\n",
        "    \"Adds two values\"\n",
        "    return x + y"
      ],
      "execution_count": null,
      "outputs": []
    },
    {
      "cell_type": "code",
      "metadata": {
        "id": "eSR10PWoyGxT",
        "colab_type": "code",
        "colab": {}
      },
      "source": [
        "adder?"
      ],
      "execution_count": null,
      "outputs": []
    },
    {
      "cell_type": "markdown",
      "metadata": {
        "id": "wsWXjrypyOg7",
        "colab_type": "text"
      },
      "source": [
        "?? Shows source code"
      ]
    },
    {
      "cell_type": "code",
      "metadata": {
        "id": "odk8DS5LyMtO",
        "colab_type": "code",
        "colab": {}
      },
      "source": [
        "adder??"
      ],
      "execution_count": null,
      "outputs": []
    },
    {
      "cell_type": "code",
      "metadata": {
        "id": "LnyFHbz7ynKe",
        "colab_type": "code",
        "colab": {
          "base_uri": "https://localhost:8080/",
          "height": 107
        },
        "outputId": "a21aa732-0de5-48ee-f467-a5da80f5e058"
      },
      "source": [
        "help(adder)"
      ],
      "execution_count": null,
      "outputs": [
        {
          "output_type": "stream",
          "text": [
            "Help on function adder in module __main__:\n",
            "\n",
            "adder(x, y)\n",
            "    Adds two values\n",
            "\n"
          ],
          "name": "stdout"
        }
      ]
    },
    {
      "cell_type": "code",
      "metadata": {
        "id": "zySADVB7ytrp",
        "colab_type": "code",
        "colab": {
          "base_uri": "https://localhost:8080/",
          "height": 1000
        },
        "outputId": "79ec1a14-a68c-4ab5-e8e1-9920ffd7ba60"
      },
      "source": [
        "# hit enter alone to exit help\n",
        "help()"
      ],
      "execution_count": null,
      "outputs": [
        {
          "output_type": "stream",
          "text": [
            "\n",
            "Welcome to Python 3.6's help utility!\n",
            "\n",
            "If this is your first time using Python, you should definitely check out\n",
            "the tutorial on the Internet at https://docs.python.org/3.6/tutorial/.\n",
            "\n",
            "Enter the name of any module, keyword, or topic to get help on writing\n",
            "Python programs and using Python modules.  To quit this help utility and\n",
            "return to the interpreter, just type \"quit\".\n",
            "\n",
            "To get a list of available modules, keywords, symbols, or topics, type\n",
            "\"modules\", \"keywords\", \"symbols\", or \"topics\".  Each module also comes\n",
            "with a one-line summary of what it does; to list the modules whose name\n",
            "or summary contain a given string such as \"spam\", type \"modules spam\".\n",
            "\n",
            "help> keywords\n",
            "\n",
            "Here is a list of the Python keywords.  Enter any keyword to get more help.\n",
            "\n",
            "False               def                 if                  raise\n",
            "None                del                 import              return\n",
            "True                elif                in                  try\n",
            "and                 else                is                  while\n",
            "as                  except              lambda              with\n",
            "assert              finally             nonlocal            yield\n",
            "break               for                 not                 \n",
            "class               from                or                  \n",
            "continue            global              pass                \n",
            "\n",
            "help> def\n",
            "Function definitions\n",
            "********************\n",
            "\n",
            "A function definition defines a user-defined function object (see\n",
            "section The standard type hierarchy):\n",
            "\n",
            "   funcdef                 ::= [decorators] \"def\" funcname \"(\" [parameter_list] \")\"\n",
            "               [\"->\" expression] \":\" suite\n",
            "   decorators              ::= decorator+\n",
            "   decorator               ::= \"@\" dotted_name [\"(\" [argument_list [\",\"]] \")\"] NEWLINE\n",
            "   dotted_name             ::= identifier (\".\" identifier)*\n",
            "   parameter_list          ::= defparameter (\",\" defparameter)* [\",\" [parameter_list_starargs]]\n",
            "                      | parameter_list_starargs\n",
            "   parameter_list_starargs ::= \"*\" [parameter] (\",\" defparameter)* [\",\" [\"**\" parameter [\",\"]]]\n",
            "                               | \"**\" parameter [\",\"]\n",
            "   parameter               ::= identifier [\":\" expression]\n",
            "   defparameter            ::= parameter [\"=\" expression]\n",
            "   funcname                ::= identifier\n",
            "\n",
            "A function definition is an executable statement.  Its execution binds\n",
            "the function name in the current local namespace to a function object\n",
            "(a wrapper around the executable code for the function).  This\n",
            "function object contains a reference to the current global namespace\n",
            "as the global namespace to be used when the function is called.\n",
            "\n",
            "The function definition does not execute the function body; this gets\n",
            "executed only when the function is called. [2]\n",
            "\n",
            "A function definition may be wrapped by one or more *decorator*\n",
            "expressions. Decorator expressions are evaluated when the function is\n",
            "defined, in the scope that contains the function definition.  The\n",
            "result must be a callable, which is invoked with the function object\n",
            "as the only argument. The returned value is bound to the function name\n",
            "instead of the function object.  Multiple decorators are applied in\n",
            "nested fashion. For example, the following code\n",
            "\n",
            "   @f1(arg)\n",
            "   @f2\n",
            "   def func(): pass\n",
            "\n",
            "is roughly equivalent to\n",
            "\n",
            "   def func(): pass\n",
            "   func = f1(arg)(f2(func))\n",
            "\n",
            "except that the original function is not temporarily bound to the name\n",
            "\"func\".\n",
            "\n",
            "When one or more *parameters* have the form *parameter* \"=\"\n",
            "*expression*, the function is said to have “default parameter values.”\n",
            "For a parameter with a default value, the corresponding *argument* may\n",
            "be omitted from a call, in which case the parameter’s default value is\n",
            "substituted.  If a parameter has a default value, all following\n",
            "parameters up until the “\"*\"” must also have a default value — this is\n",
            "a syntactic restriction that is not expressed by the grammar.\n",
            "\n",
            "**Default parameter values are evaluated from left to right when the\n",
            "function definition is executed.** This means that the expression is\n",
            "evaluated once, when the function is defined, and that the same “pre-\n",
            "computed” value is used for each call.  This is especially important\n",
            "to understand when a default parameter is a mutable object, such as a\n",
            "list or a dictionary: if the function modifies the object (e.g. by\n",
            "appending an item to a list), the default value is in effect modified.\n",
            "This is generally not what was intended.  A way around this is to use\n",
            "\"None\" as the default, and explicitly test for it in the body of the\n",
            "function, e.g.:\n",
            "\n",
            "   def whats_on_the_telly(penguin=None):\n",
            "       if penguin is None:\n",
            "           penguin = []\n",
            "       penguin.append(\"property of the zoo\")\n",
            "       return penguin\n",
            "\n",
            "Function call semantics are described in more detail in section Calls.\n",
            "A function call always assigns values to all parameters mentioned in\n",
            "the parameter list, either from position arguments, from keyword\n",
            "arguments, or from default values.  If the form “\"*identifier\"” is\n",
            "present, it is initialized to a tuple receiving any excess positional\n",
            "parameters, defaulting to the empty tuple. If the form\n",
            "“\"**identifier\"” is present, it is initialized to a new ordered\n",
            "mapping receiving any excess keyword arguments, defaulting to a new\n",
            "empty mapping of the same type.  Parameters after “\"*\"” or\n",
            "“\"*identifier\"” are keyword-only parameters and may only be passed\n",
            "used keyword arguments.\n",
            "\n",
            "Parameters may have annotations of the form “\": expression\"” following\n",
            "the parameter name.  Any parameter may have an annotation even those\n",
            "of the form \"*identifier\" or \"**identifier\".  Functions may have\n",
            "“return” annotation of the form “\"-> expression\"” after the parameter\n",
            "list.  These annotations can be any valid Python expression and are\n",
            "evaluated when the function definition is executed.  Annotations may\n",
            "be evaluated in a different order than they appear in the source code.\n",
            "The presence of annotations does not change the semantics of a\n",
            "function.  The annotation values are available as values of a\n",
            "dictionary keyed by the parameters’ names in the \"__annotations__\"\n",
            "attribute of the function object.\n",
            "\n",
            "It is also possible to create anonymous functions (functions not bound\n",
            "to a name), for immediate use in expressions.  This uses lambda\n",
            "expressions, described in section Lambdas.  Note that the lambda\n",
            "expression is merely a shorthand for a simplified function definition;\n",
            "a function defined in a “\"def\"” statement can be passed around or\n",
            "assigned to another name just like a function defined by a lambda\n",
            "expression.  The “\"def\"” form is actually more powerful since it\n",
            "allows the execution of multiple statements and annotations.\n",
            "\n",
            "**Programmer’s note:** Functions are first-class objects.  A “\"def\"”\n",
            "statement executed inside a function definition defines a local\n",
            "function that can be returned or passed around.  Free variables used\n",
            "in the nested function can access the local variables of the function\n",
            "containing the def.  See section Naming and binding for details.\n",
            "\n",
            "See also:\n",
            "\n",
            "  **PEP 3107** - Function Annotations\n",
            "     The original specification for function annotations.\n",
            "\n",
            "help> topics\n",
            "\n",
            "Here is a list of available topics.  Enter any topic name to get more help.\n",
            "\n",
            "ASSERTION           DELETION            LOOPING             SHIFTING\n",
            "ASSIGNMENT          DICTIONARIES        MAPPINGMETHODS      SLICINGS\n",
            "ATTRIBUTEMETHODS    DICTIONARYLITERALS  MAPPINGS            SPECIALATTRIBUTES\n",
            "ATTRIBUTES          DYNAMICFEATURES     METHODS             SPECIALIDENTIFIERS\n",
            "AUGMENTEDASSIGNMENT ELLIPSIS            MODULES             SPECIALMETHODS\n",
            "BASICMETHODS        EXCEPTIONS          NAMESPACES          STRINGMETHODS\n",
            "BINARY              EXECUTION           NONE                STRINGS\n",
            "BITWISE             EXPRESSIONS         NUMBERMETHODS       SUBSCRIPTS\n",
            "BOOLEAN             FLOAT               NUMBERS             TRACEBACKS\n",
            "CALLABLEMETHODS     FORMATTING          OBJECTS             TRUTHVALUE\n",
            "CALLS               FRAMEOBJECTS        OPERATORS           TUPLELITERALS\n",
            "CLASSES             FRAMES              PACKAGES            TUPLES\n",
            "CODEOBJECTS         FUNCTIONS           POWER               TYPEOBJECTS\n",
            "COMPARISON          IDENTIFIERS         PRECEDENCE          TYPES\n",
            "COMPLEX             IMPORTING           PRIVATENAMES        UNARY\n",
            "CONDITIONAL         INTEGER             RETURNING           UNICODE\n",
            "CONTEXTMANAGERS     LISTLITERALS        SCOPING             \n",
            "CONVERSIONS         LISTS               SEQUENCEMETHODS     \n",
            "DEBUGGING           LITERALS            SEQUENCES           \n",
            "\n",
            "help> specialmethods\n",
            "No Python documentation found for 'specialmethods'.\n",
            "Use help() to get the interactive help utility.\n",
            "Use help(str) for help on the str class.\n",
            "\n",
            "help> SPECIALMETHODS\n",
            "Special method names\n",
            "********************\n",
            "\n",
            "A class can implement certain operations that are invoked by special\n",
            "syntax (such as arithmetic operations or subscripting and slicing) by\n",
            "defining methods with special names. This is Python’s approach to\n",
            "*operator overloading*, allowing classes to define their own behavior\n",
            "with respect to language operators.  For instance, if a class defines\n",
            "a method named \"__getitem__()\", and \"x\" is an instance of this class,\n",
            "then \"x[i]\" is roughly equivalent to \"type(x).__getitem__(x, i)\".\n",
            "Except where mentioned, attempts to execute an operation raise an\n",
            "exception when no appropriate method is defined (typically\n",
            "\"AttributeError\" or \"TypeError\").\n",
            "\n",
            "Setting a special method to \"None\" indicates that the corresponding\n",
            "operation is not available.  For example, if a class sets \"__iter__()\"\n",
            "to \"None\", the class is not iterable, so calling \"iter()\" on its\n",
            "instances will raise a \"TypeError\" (without falling back to\n",
            "\"__getitem__()\"). [2]\n",
            "\n",
            "When implementing a class that emulates any built-in type, it is\n",
            "important that the emulation only be implemented to the degree that it\n",
            "makes sense for the object being modelled.  For example, some\n",
            "sequences may work well with retrieval of individual elements, but\n",
            "extracting a slice may not make sense.  (One example of this is the\n",
            "\"NodeList\" interface in the W3C’s Document Object Model.)\n",
            "\n",
            "\n",
            "Basic customization\n",
            "===================\n",
            "\n",
            "object.__new__(cls[, ...])\n",
            "\n",
            "   Called to create a new instance of class *cls*.  \"__new__()\" is a\n",
            "   static method (special-cased so you need not declare it as such)\n",
            "   that takes the class of which an instance was requested as its\n",
            "   first argument.  The remaining arguments are those passed to the\n",
            "   object constructor expression (the call to the class).  The return\n",
            "   value of \"__new__()\" should be the new object instance (usually an\n",
            "   instance of *cls*).\n",
            "\n",
            "   Typical implementations create a new instance of the class by\n",
            "   invoking the superclass’s \"__new__()\" method using\n",
            "   \"super().__new__(cls[, ...])\" with appropriate arguments and then\n",
            "   modifying the newly-created instance as necessary before returning\n",
            "   it.\n",
            "\n",
            "   If \"__new__()\" returns an instance of *cls*, then the new\n",
            "   instance’s \"__init__()\" method will be invoked like\n",
            "   \"__init__(self[, ...])\", where *self* is the new instance and the\n",
            "   remaining arguments are the same as were passed to \"__new__()\".\n",
            "\n",
            "   If \"__new__()\" does not return an instance of *cls*, then the new\n",
            "   instance’s \"__init__()\" method will not be invoked.\n",
            "\n",
            "   \"__new__()\" is intended mainly to allow subclasses of immutable\n",
            "   types (like int, str, or tuple) to customize instance creation.  It\n",
            "   is also commonly overridden in custom metaclasses in order to\n",
            "   customize class creation.\n",
            "\n",
            "object.__init__(self[, ...])\n",
            "\n",
            "   Called after the instance has been created (by \"__new__()\"), but\n",
            "   before it is returned to the caller.  The arguments are those\n",
            "   passed to the class constructor expression.  If a base class has an\n",
            "   \"__init__()\" method, the derived class’s \"__init__()\" method, if\n",
            "   any, must explicitly call it to ensure proper initialization of the\n",
            "   base class part of the instance; for example:\n",
            "   \"super().__init__([args...])\".\n",
            "\n",
            "   Because \"__new__()\" and \"__init__()\" work together in constructing\n",
            "   objects (\"__new__()\" to create it, and \"__init__()\" to customize\n",
            "   it), no non-\"None\" value may be returned by \"__init__()\"; doing so\n",
            "   will cause a \"TypeError\" to be raised at runtime.\n",
            "\n",
            "object.__del__(self)\n",
            "\n",
            "   Called when the instance is about to be destroyed.  This is also\n",
            "   called a finalizer or (improperly) a destructor.  If a base class\n",
            "   has a \"__del__()\" method, the derived class’s \"__del__()\" method,\n",
            "   if any, must explicitly call it to ensure proper deletion of the\n",
            "   base class part of the instance.\n",
            "\n",
            "   It is possible (though not recommended!) for the \"__del__()\" method\n",
            "   to postpone destruction of the instance by creating a new reference\n",
            "   to it.  This is called object *resurrection*.  It is\n",
            "   implementation-dependent whether \"__del__()\" is called a second\n",
            "   time when a resurrected object is about to be destroyed; the\n",
            "   current *CPython* implementation only calls it once.\n",
            "\n",
            "   It is not guaranteed that \"__del__()\" methods are called for\n",
            "   objects that still exist when the interpreter exits.\n",
            "\n",
            "   Note: \"del x\" doesn’t directly call \"x.__del__()\" — the former\n",
            "     decrements the reference count for \"x\" by one, and the latter is\n",
            "     only called when \"x\"’s reference count reaches zero.\n",
            "\n",
            "   **CPython implementation detail:** It is possible for a reference\n",
            "   cycle to prevent the reference count of an object from going to\n",
            "   zero.  In this case, the cycle will be later detected and deleted\n",
            "   by the *cyclic garbage collector*.  A common cause of reference\n",
            "   cycles is when an exception has been caught in a local variable.\n",
            "   The frame’s locals then reference the exception, which references\n",
            "   its own traceback, which references the locals of all frames caught\n",
            "   in the traceback.\n",
            "\n",
            "   See also: Documentation for the \"gc\" module.\n",
            "\n",
            "   Warning: Due to the precarious circumstances under which\n",
            "     \"__del__()\" methods are invoked, exceptions that occur during\n",
            "     their execution are ignored, and a warning is printed to\n",
            "     \"sys.stderr\" instead. In particular:\n",
            "\n",
            "     * \"__del__()\" can be invoked when arbitrary code is being\n",
            "       executed, including from any arbitrary thread.  If \"__del__()\"\n",
            "       needs to take a lock or invoke any other blocking resource, it\n",
            "       may deadlock as the resource may already be taken by the code\n",
            "       that gets interrupted to execute \"__del__()\".\n",
            "\n",
            "     * \"__del__()\" can be executed during interpreter shutdown.  As\n",
            "       a consequence, the global variables it needs to access\n",
            "       (including other modules) may already have been deleted or set\n",
            "       to \"None\". Python guarantees that globals whose name begins\n",
            "       with a single underscore are deleted from their module before\n",
            "       other globals are deleted; if no other references to such\n",
            "       globals exist, this may help in assuring that imported modules\n",
            "       are still available at the time when the \"__del__()\" method is\n",
            "       called.\n",
            "\n",
            "object.__repr__(self)\n",
            "\n",
            "   Called by the \"repr()\" built-in function to compute the “official”\n",
            "   string representation of an object.  If at all possible, this\n",
            "   should look like a valid Python expression that could be used to\n",
            "   recreate an object with the same value (given an appropriate\n",
            "   environment).  If this is not possible, a string of the form\n",
            "   \"<...some useful description...>\" should be returned. The return\n",
            "   value must be a string object. If a class defines \"__repr__()\" but\n",
            "   not \"__str__()\", then \"__repr__()\" is also used when an “informal”\n",
            "   string representation of instances of that class is required.\n",
            "\n",
            "   This is typically used for debugging, so it is important that the\n",
            "   representation is information-rich and unambiguous.\n",
            "\n",
            "object.__str__(self)\n",
            "\n",
            "   Called by \"str(object)\" and the built-in functions \"format()\" and\n",
            "   \"print()\" to compute the “informal” or nicely printable string\n",
            "   representation of an object.  The return value must be a string\n",
            "   object.\n",
            "\n",
            "   This method differs from \"object.__repr__()\" in that there is no\n",
            "   expectation that \"__str__()\" return a valid Python expression: a\n",
            "   more convenient or concise representation can be used.\n",
            "\n",
            "   The default implementation defined by the built-in type \"object\"\n",
            "   calls \"object.__repr__()\".\n",
            "\n",
            "object.__bytes__(self)\n",
            "\n",
            "   Called by bytes to compute a byte-string representation of an\n",
            "   object. This should return a \"bytes\" object.\n",
            "\n",
            "object.__format__(self, format_spec)\n",
            "\n",
            "   Called by the \"format()\" built-in function, and by extension,\n",
            "   evaluation of formatted string literals and the \"str.format()\"\n",
            "   method, to produce a “formatted” string representation of an\n",
            "   object. The \"format_spec\" argument is a string that contains a\n",
            "   description of the formatting options desired. The interpretation\n",
            "   of the \"format_spec\" argument is up to the type implementing\n",
            "   \"__format__()\", however most classes will either delegate\n",
            "   formatting to one of the built-in types, or use a similar\n",
            "   formatting option syntax.\n",
            "\n",
            "   See Format Specification Mini-Language for a description of the\n",
            "   standard formatting syntax.\n",
            "\n",
            "   The return value must be a string object.\n",
            "\n",
            "   Changed in version 3.4: The __format__ method of \"object\" itself\n",
            "   raises a \"TypeError\" if passed any non-empty string.\n",
            "\n",
            "object.__lt__(self, other)\n",
            "object.__le__(self, other)\n",
            "object.__eq__(self, other)\n",
            "object.__ne__(self, other)\n",
            "object.__gt__(self, other)\n",
            "object.__ge__(self, other)\n",
            "\n",
            "   These are the so-called “rich comparison” methods. The\n",
            "   correspondence between operator symbols and method names is as\n",
            "   follows: \"x<y\" calls \"x.__lt__(y)\", \"x<=y\" calls \"x.__le__(y)\",\n",
            "   \"x==y\" calls \"x.__eq__(y)\", \"x!=y\" calls \"x.__ne__(y)\", \"x>y\" calls\n",
            "   \"x.__gt__(y)\", and \"x>=y\" calls \"x.__ge__(y)\".\n",
            "\n",
            "   A rich comparison method may return the singleton \"NotImplemented\"\n",
            "   if it does not implement the operation for a given pair of\n",
            "   arguments. By convention, \"False\" and \"True\" are returned for a\n",
            "   successful comparison. However, these methods can return any value,\n",
            "   so if the comparison operator is used in a Boolean context (e.g.,\n",
            "   in the condition of an \"if\" statement), Python will call \"bool()\"\n",
            "   on the value to determine if the result is true or false.\n",
            "\n",
            "   By default, \"__ne__()\" delegates to \"__eq__()\" and inverts the\n",
            "   result unless it is \"NotImplemented\".  There are no other implied\n",
            "   relationships among the comparison operators, for example, the\n",
            "   truth of \"(x<y or x==y)\" does not imply \"x<=y\". To automatically\n",
            "   generate ordering operations from a single root operation, see\n",
            "   \"functools.total_ordering()\".\n",
            "\n",
            "   See the paragraph on \"__hash__()\" for some important notes on\n",
            "   creating *hashable* objects which support custom comparison\n",
            "   operations and are usable as dictionary keys.\n",
            "\n",
            "   There are no swapped-argument versions of these methods (to be used\n",
            "   when the left argument does not support the operation but the right\n",
            "   argument does); rather, \"__lt__()\" and \"__gt__()\" are each other’s\n",
            "   reflection, \"__le__()\" and \"__ge__()\" are each other’s reflection,\n",
            "   and \"__eq__()\" and \"__ne__()\" are their own reflection. If the\n",
            "   operands are of different types, and right operand’s type is a\n",
            "   direct or indirect subclass of the left operand’s type, the\n",
            "   reflected method of the right operand has priority, otherwise the\n",
            "   left operand’s method has priority.  Virtual subclassing is not\n",
            "   considered.\n",
            "\n",
            "object.__hash__(self)\n",
            "\n",
            "   Called by built-in function \"hash()\" and for operations on members\n",
            "   of hashed collections including \"set\", \"frozenset\", and \"dict\".\n",
            "   \"__hash__()\" should return an integer. The only required property\n",
            "   is that objects which compare equal have the same hash value; it is\n",
            "   advised to mix together the hash values of the components of the\n",
            "   object that also play a part in comparison of objects by packing\n",
            "   them into a tuple and hashing the tuple. Example:\n",
            "\n",
            "      def __hash__(self):\n",
            "          return hash((self.name, self.nick, self.color))\n",
            "\n",
            "   Note: \"hash()\" truncates the value returned from an object’s\n",
            "     custom \"__hash__()\" method to the size of a \"Py_ssize_t\".  This\n",
            "     is typically 8 bytes on 64-bit builds and 4 bytes on 32-bit\n",
            "     builds. If an object’s   \"__hash__()\" must interoperate on builds\n",
            "     of different bit sizes, be sure to check the width on all\n",
            "     supported builds.  An easy way to do this is with \"python -c\n",
            "     \"import sys; print(sys.hash_info.width)\"\".\n",
            "\n",
            "   If a class does not define an \"__eq__()\" method it should not\n",
            "   define a \"__hash__()\" operation either; if it defines \"__eq__()\"\n",
            "   but not \"__hash__()\", its instances will not be usable as items in\n",
            "   hashable collections.  If a class defines mutable objects and\n",
            "   implements an \"__eq__()\" method, it should not implement\n",
            "   \"__hash__()\", since the implementation of hashable collections\n",
            "   requires that a key’s hash value is immutable (if the object’s hash\n",
            "   value changes, it will be in the wrong hash bucket).\n",
            "\n",
            "   User-defined classes have \"__eq__()\" and \"__hash__()\" methods by\n",
            "   default; with them, all objects compare unequal (except with\n",
            "   themselves) and \"x.__hash__()\" returns an appropriate value such\n",
            "   that \"x == y\" implies both that \"x is y\" and \"hash(x) == hash(y)\".\n",
            "\n",
            "   A class that overrides \"__eq__()\" and does not define \"__hash__()\"\n",
            "   will have its \"__hash__()\" implicitly set to \"None\".  When the\n",
            "   \"__hash__()\" method of a class is \"None\", instances of the class\n",
            "   will raise an appropriate \"TypeError\" when a program attempts to\n",
            "   retrieve their hash value, and will also be correctly identified as\n",
            "   unhashable when checking \"isinstance(obj, collections.Hashable)\".\n",
            "\n",
            "   If a class that overrides \"__eq__()\" needs to retain the\n",
            "   implementation of \"__hash__()\" from a parent class, the interpreter\n",
            "   must be told this explicitly by setting \"__hash__ =\n",
            "   <ParentClass>.__hash__\".\n",
            "\n",
            "   If a class that does not override \"__eq__()\" wishes to suppress\n",
            "   hash support, it should include \"__hash__ = None\" in the class\n",
            "   definition. A class which defines its own \"__hash__()\" that\n",
            "   explicitly raises a \"TypeError\" would be incorrectly identified as\n",
            "   hashable by an \"isinstance(obj, collections.Hashable)\" call.\n",
            "\n",
            "   Note: By default, the \"__hash__()\" values of str, bytes and\n",
            "     datetime objects are “salted” with an unpredictable random value.\n",
            "     Although they remain constant within an individual Python\n",
            "     process, they are not predictable between repeated invocations of\n",
            "     Python.This is intended to provide protection against a denial-\n",
            "     of-service caused by carefully-chosen inputs that exploit the\n",
            "     worst case performance of a dict insertion, O(n^2) complexity.\n",
            "     See http://www.ocert.org/advisories/ocert-2011-003.html for\n",
            "     details.Changing hash values affects the iteration order of\n",
            "     dicts, sets and other mappings.  Python has never made guarantees\n",
            "     about this ordering (and it typically varies between 32-bit and\n",
            "     64-bit builds).See also \"PYTHONHASHSEED\".\n",
            "\n",
            "   Changed in version 3.3: Hash randomization is enabled by default.\n",
            "\n",
            "object.__bool__(self)\n",
            "\n",
            "   Called to implement truth value testing and the built-in operation\n",
            "   \"bool()\"; should return \"False\" or \"True\".  When this method is not\n",
            "   defined, \"__len__()\" is called, if it is defined, and the object is\n",
            "   considered true if its result is nonzero.  If a class defines\n",
            "   neither \"__len__()\" nor \"__bool__()\", all its instances are\n",
            "   considered true.\n",
            "\n",
            "\n",
            "Customizing attribute access\n",
            "============================\n",
            "\n",
            "The following methods can be defined to customize the meaning of\n",
            "attribute access (use of, assignment to, or deletion of \"x.name\") for\n",
            "class instances.\n",
            "\n",
            "object.__getattr__(self, name)\n",
            "\n",
            "   Called when the default attribute access fails with an\n",
            "   \"AttributeError\" (either \"__getattribute__()\" raises an\n",
            "   \"AttributeError\" because *name* is not an instance attribute or an\n",
            "   attribute in the class tree for \"self\"; or \"__get__()\" of a *name*\n",
            "   property raises \"AttributeError\").  This method should either\n",
            "   return the (computed) attribute value or raise an \"AttributeError\"\n",
            "   exception.\n",
            "\n",
            "   Note that if the attribute is found through the normal mechanism,\n",
            "   \"__getattr__()\" is not called.  (This is an intentional asymmetry\n",
            "   between \"__getattr__()\" and \"__setattr__()\".) This is done both for\n",
            "   efficiency reasons and because otherwise \"__getattr__()\" would have\n",
            "   no way to access other attributes of the instance.  Note that at\n",
            "   least for instance variables, you can fake total control by not\n",
            "   inserting any values in the instance attribute dictionary (but\n",
            "   instead inserting them in another object).  See the\n",
            "   \"__getattribute__()\" method below for a way to actually get total\n",
            "   control over attribute access.\n",
            "\n",
            "object.__getattribute__(self, name)\n",
            "\n",
            "   Called unconditionally to implement attribute accesses for\n",
            "   instances of the class. If the class also defines \"__getattr__()\",\n",
            "   the latter will not be called unless \"__getattribute__()\" either\n",
            "   calls it explicitly or raises an \"AttributeError\". This method\n",
            "   should return the (computed) attribute value or raise an\n",
            "   \"AttributeError\" exception. In order to avoid infinite recursion in\n",
            "   this method, its implementation should always call the base class\n",
            "   method with the same name to access any attributes it needs, for\n",
            "   example, \"object.__getattribute__(self, name)\".\n",
            "\n",
            "   Note: This method may still be bypassed when looking up special\n",
            "     methods as the result of implicit invocation via language syntax\n",
            "     or built-in functions. See Special method lookup.\n",
            "\n",
            "object.__setattr__(self, name, value)\n",
            "\n",
            "   Called when an attribute assignment is attempted.  This is called\n",
            "   instead of the normal mechanism (i.e. store the value in the\n",
            "   instance dictionary). *name* is the attribute name, *value* is the\n",
            "   value to be assigned to it.\n",
            "\n",
            "   If \"__setattr__()\" wants to assign to an instance attribute, it\n",
            "   should call the base class method with the same name, for example,\n",
            "   \"object.__setattr__(self, name, value)\".\n",
            "\n",
            "object.__delattr__(self, name)\n",
            "\n",
            "   Like \"__setattr__()\" but for attribute deletion instead of\n",
            "   assignment.  This should only be implemented if \"del obj.name\" is\n",
            "   meaningful for the object.\n",
            "\n",
            "object.__dir__(self)\n",
            "\n",
            "   Called when \"dir()\" is called on the object. A sequence must be\n",
            "   returned. \"dir()\" converts the returned sequence to a list and\n",
            "   sorts it.\n",
            "\n",
            "\n",
            "Customizing module attribute access\n",
            "-----------------------------------\n",
            "\n",
            "For a more fine grained customization of the module behavior (setting\n",
            "attributes, properties, etc.), one can set the \"__class__\" attribute\n",
            "of a module object to a subclass of \"types.ModuleType\". For example:\n",
            "\n",
            "   import sys\n",
            "   from types import ModuleType\n",
            "\n",
            "   class VerboseModule(ModuleType):\n",
            "       def __repr__(self):\n",
            "           return f'Verbose {self.__name__}'\n",
            "\n",
            "       def __setattr__(self, attr, value):\n",
            "           print(f'Setting {attr}...')\n",
            "           setattr(self, attr, value)\n",
            "\n",
            "   sys.modules[__name__].__class__ = VerboseModule\n",
            "\n",
            "Note: Setting module \"__class__\" only affects lookups made using the\n",
            "  attribute access syntax – directly accessing the module globals\n",
            "  (whether by code within the module, or via a reference to the\n",
            "  module’s globals dictionary) is unaffected.\n",
            "\n",
            "Changed in version 3.5: \"__class__\" module attribute is now writable.\n",
            "\n",
            "\n",
            "Implementing Descriptors\n",
            "------------------------\n",
            "\n",
            "The following methods only apply when an instance of the class\n",
            "containing the method (a so-called *descriptor* class) appears in an\n",
            "*owner* class (the descriptor must be in either the owner’s class\n",
            "dictionary or in the class dictionary for one of its parents).  In the\n",
            "examples below, “the attribute” refers to the attribute whose name is\n",
            "the key of the property in the owner class’ \"__dict__\".\n",
            "\n",
            "object.__get__(self, instance, owner)\n",
            "\n",
            "   Called to get the attribute of the owner class (class attribute\n",
            "   access) or of an instance of that class (instance attribute\n",
            "   access). *owner* is always the owner class, while *instance* is the\n",
            "   instance that the attribute was accessed through, or \"None\" when\n",
            "   the attribute is accessed through the *owner*.  This method should\n",
            "   return the (computed) attribute value or raise an \"AttributeError\"\n",
            "   exception.\n",
            "\n",
            "object.__set__(self, instance, value)\n",
            "\n",
            "   Called to set the attribute on an instance *instance* of the owner\n",
            "   class to a new value, *value*.\n",
            "\n",
            "object.__delete__(self, instance)\n",
            "\n",
            "   Called to delete the attribute on an instance *instance* of the\n",
            "   owner class.\n",
            "\n",
            "object.__set_name__(self, owner, name)\n",
            "\n",
            "   Called at the time the owning class *owner* is created. The\n",
            "   descriptor has been assigned to *name*.\n",
            "\n",
            "   New in version 3.6.\n",
            "\n",
            "The attribute \"__objclass__\" is interpreted by the \"inspect\" module as\n",
            "specifying the class where this object was defined (setting this\n",
            "appropriately can assist in runtime introspection of dynamic class\n",
            "attributes). For callables, it may indicate that an instance of the\n",
            "given type (or a subclass) is expected or required as the first\n",
            "positional argument (for example, CPython sets this attribute for\n",
            "unbound methods that are implemented in C).\n",
            "\n",
            "\n",
            "Invoking Descriptors\n",
            "--------------------\n",
            "\n",
            "In general, a descriptor is an object attribute with “binding\n",
            "behavior”, one whose attribute access has been overridden by methods\n",
            "in the descriptor protocol:  \"__get__()\", \"__set__()\", and\n",
            "\"__delete__()\". If any of those methods are defined for an object, it\n",
            "is said to be a descriptor.\n",
            "\n",
            "The default behavior for attribute access is to get, set, or delete\n",
            "the attribute from an object’s dictionary. For instance, \"a.x\" has a\n",
            "lookup chain starting with \"a.__dict__['x']\", then\n",
            "\"type(a).__dict__['x']\", and continuing through the base classes of\n",
            "\"type(a)\" excluding metaclasses.\n",
            "\n",
            "However, if the looked-up value is an object defining one of the\n",
            "descriptor methods, then Python may override the default behavior and\n",
            "invoke the descriptor method instead.  Where this occurs in the\n",
            "precedence chain depends on which descriptor methods were defined and\n",
            "how they were called.\n",
            "\n",
            "The starting point for descriptor invocation is a binding, \"a.x\". How\n",
            "the arguments are assembled depends on \"a\":\n",
            "\n",
            "Direct Call\n",
            "   The simplest and least common call is when user code directly\n",
            "   invokes a descriptor method:    \"x.__get__(a)\".\n",
            "\n",
            "Instance Binding\n",
            "   If binding to an object instance, \"a.x\" is transformed into the\n",
            "   call: \"type(a).__dict__['x'].__get__(a, type(a))\".\n",
            "\n",
            "Class Binding\n",
            "   If binding to a class, \"A.x\" is transformed into the call:\n",
            "   \"A.__dict__['x'].__get__(None, A)\".\n",
            "\n",
            "Super Binding\n",
            "   If \"a\" is an instance of \"super\", then the binding \"super(B,\n",
            "   obj).m()\" searches \"obj.__class__.__mro__\" for the base class \"A\"\n",
            "   immediately preceding \"B\" and then invokes the descriptor with the\n",
            "   call: \"A.__dict__['m'].__get__(obj, obj.__class__)\".\n",
            "\n",
            "For instance bindings, the precedence of descriptor invocation depends\n",
            "on the which descriptor methods are defined.  A descriptor can define\n",
            "any combination of \"__get__()\", \"__set__()\" and \"__delete__()\".  If it\n",
            "does not define \"__get__()\", then accessing the attribute will return\n",
            "the descriptor object itself unless there is a value in the object’s\n",
            "instance dictionary.  If the descriptor defines \"__set__()\" and/or\n",
            "\"__delete__()\", it is a data descriptor; if it defines neither, it is\n",
            "a non-data descriptor.  Normally, data descriptors define both\n",
            "\"__get__()\" and \"__set__()\", while non-data descriptors have just the\n",
            "\"__get__()\" method.  Data descriptors with \"__set__()\" and \"__get__()\"\n",
            "defined always override a redefinition in an instance dictionary.  In\n",
            "contrast, non-data descriptors can be overridden by instances.\n",
            "\n",
            "Python methods (including \"staticmethod()\" and \"classmethod()\") are\n",
            "implemented as non-data descriptors.  Accordingly, instances can\n",
            "redefine and override methods.  This allows individual instances to\n",
            "acquire behaviors that differ from other instances of the same class.\n",
            "\n",
            "The \"property()\" function is implemented as a data descriptor.\n",
            "Accordingly, instances cannot override the behavior of a property.\n",
            "\n",
            "\n",
            "__slots__\n",
            "---------\n",
            "\n",
            "*__slots__* allow us to explicitly declare data members (like\n",
            "properties) and deny the creation of *__dict__* and *__weakref__*\n",
            "(unless explicitly declared in *__slots__* or available in a parent.)\n",
            "\n",
            "The space saved over using *__dict__* can be significant.\n",
            "\n",
            "object.__slots__\n",
            "\n",
            "   This class variable can be assigned a string, iterable, or sequence\n",
            "   of strings with variable names used by instances.  *__slots__*\n",
            "   reserves space for the declared variables and prevents the\n",
            "   automatic creation of *__dict__* and *__weakref__* for each\n",
            "   instance.\n",
            "\n",
            "\n",
            "Notes on using *__slots__*\n",
            "~~~~~~~~~~~~~~~~~~~~~~~~~~\n",
            "\n",
            "* When inheriting from a class without *__slots__*, the *__dict__*\n",
            "  and *__weakref__* attribute of the instances will always be\n",
            "  accessible.\n",
            "\n",
            "* Without a *__dict__* variable, instances cannot be assigned new\n",
            "  variables not listed in the *__slots__* definition.  Attempts to\n",
            "  assign to an unlisted variable name raises \"AttributeError\". If\n",
            "  dynamic assignment of new variables is desired, then add\n",
            "  \"'__dict__'\" to the sequence of strings in the *__slots__*\n",
            "  declaration.\n",
            "\n",
            "* Without a *__weakref__* variable for each instance, classes\n",
            "  defining *__slots__* do not support weak references to its\n",
            "  instances. If weak reference support is needed, then add\n",
            "  \"'__weakref__'\" to the sequence of strings in the *__slots__*\n",
            "  declaration.\n",
            "\n",
            "* *__slots__* are implemented at the class level by creating\n",
            "  descriptors (Implementing Descriptors) for each variable name.  As a\n",
            "  result, class attributes cannot be used to set default values for\n",
            "  instance variables defined by *__slots__*; otherwise, the class\n",
            "  attribute would overwrite the descriptor assignment.\n",
            "\n",
            "* The action of a *__slots__* declaration is not limited to the\n",
            "  class where it is defined.  *__slots__* declared in parents are\n",
            "  available in child classes. However, child subclasses will get a\n",
            "  *__dict__* and *__weakref__* unless they also define *__slots__*\n",
            "  (which should only contain names of any *additional* slots).\n",
            "\n",
            "* If a class defines a slot also defined in a base class, the\n",
            "  instance variable defined by the base class slot is inaccessible\n",
            "  (except by retrieving its descriptor directly from the base class).\n",
            "  This renders the meaning of the program undefined.  In the future, a\n",
            "  check may be added to prevent this.\n",
            "\n",
            "* Nonempty *__slots__* does not work for classes derived from\n",
            "  “variable-length” built-in types such as \"int\", \"bytes\" and \"tuple\".\n",
            "\n",
            "* Any non-string iterable may be assigned to *__slots__*. Mappings\n",
            "  may also be used; however, in the future, special meaning may be\n",
            "  assigned to the values corresponding to each key.\n",
            "\n",
            "* *__class__* assignment works only if both classes have the same\n",
            "  *__slots__*.\n",
            "\n",
            "* Multiple inheritance with multiple slotted parent classes can be\n",
            "  used, but only one parent is allowed to have attributes created by\n",
            "  slots (the other bases must have empty slot layouts) - violations\n",
            "  raise \"TypeError\".\n",
            "\n",
            "\n",
            "Customizing class creation\n",
            "==========================\n",
            "\n",
            "Whenever a class inherits from another class, *__init_subclass__* is\n",
            "called on that class. This way, it is possible to write classes which\n",
            "change the behavior of subclasses. This is closely related to class\n",
            "decorators, but where class decorators only affect the specific class\n",
            "they’re applied to, \"__init_subclass__\" solely applies to future\n",
            "subclasses of the class defining the method.\n",
            "\n",
            "classmethod object.__init_subclass__(cls)\n",
            "\n",
            "   This method is called whenever the containing class is subclassed.\n",
            "   *cls* is then the new subclass. If defined as a normal instance\n",
            "   method, this method is implicitly converted to a class method.\n",
            "\n",
            "   Keyword arguments which are given to a new class are passed to the\n",
            "   parent’s class \"__init_subclass__\". For compatibility with other\n",
            "   classes using \"__init_subclass__\", one should take out the needed\n",
            "   keyword arguments and pass the others over to the base class, as\n",
            "   in:\n",
            "\n",
            "      class Philosopher:\n",
            "          def __init_subclass__(cls, default_name, **kwargs):\n",
            "              super().__init_subclass__(**kwargs)\n",
            "              cls.default_name = default_name\n",
            "\n",
            "      class AustralianPhilosopher(Philosopher, default_name=\"Bruce\"):\n",
            "          pass\n",
            "\n",
            "   The default implementation \"object.__init_subclass__\" does nothing,\n",
            "   but raises an error if it is called with any arguments.\n",
            "\n",
            "   Note: The metaclass hint \"metaclass\" is consumed by the rest of\n",
            "     the type machinery, and is never passed to \"__init_subclass__\"\n",
            "     implementations. The actual metaclass (rather than the explicit\n",
            "     hint) can be accessed as \"type(cls)\".\n",
            "\n",
            "   New in version 3.6.\n",
            "\n",
            "\n",
            "Metaclasses\n",
            "-----------\n",
            "\n",
            "By default, classes are constructed using \"type()\". The class body is\n",
            "executed in a new namespace and the class name is bound locally to the\n",
            "result of \"type(name, bases, namespace)\".\n",
            "\n",
            "The class creation process can be customized by passing the\n",
            "\"metaclass\" keyword argument in the class definition line, or by\n",
            "inheriting from an existing class that included such an argument. In\n",
            "the following example, both \"MyClass\" and \"MySubclass\" are instances\n",
            "of \"Meta\":\n",
            "\n",
            "   class Meta(type):\n",
            "       pass\n",
            "\n",
            "   class MyClass(metaclass=Meta):\n",
            "       pass\n",
            "\n",
            "   class MySubclass(MyClass):\n",
            "       pass\n",
            "\n",
            "Any other keyword arguments that are specified in the class definition\n",
            "are passed through to all metaclass operations described below.\n",
            "\n",
            "When a class definition is executed, the following steps occur:\n",
            "\n",
            "* the appropriate metaclass is determined\n",
            "\n",
            "* the class namespace is prepared\n",
            "\n",
            "* the class body is executed\n",
            "\n",
            "* the class object is created\n",
            "\n",
            "\n",
            "Determining the appropriate metaclass\n",
            "-------------------------------------\n",
            "\n",
            "The appropriate metaclass for a class definition is determined as\n",
            "follows:\n",
            "\n",
            "* if no bases and no explicit metaclass are given, then \"type()\" is\n",
            "  used\n",
            "\n",
            "* if an explicit metaclass is given and it is *not* an instance of\n",
            "  \"type()\", then it is used directly as the metaclass\n",
            "\n",
            "* if an instance of \"type()\" is given as the explicit metaclass, or\n",
            "  bases are defined, then the most derived metaclass is used\n",
            "\n",
            "The most derived metaclass is selected from the explicitly specified\n",
            "metaclass (if any) and the metaclasses (i.e. \"type(cls)\") of all\n",
            "specified base classes. The most derived metaclass is one which is a\n",
            "subtype of *all* of these candidate metaclasses. If none of the\n",
            "candidate metaclasses meets that criterion, then the class definition\n",
            "will fail with \"TypeError\".\n",
            "\n",
            "\n",
            "Preparing the class namespace\n",
            "-----------------------------\n",
            "\n",
            "Once the appropriate metaclass has been identified, then the class\n",
            "namespace is prepared. If the metaclass has a \"__prepare__\" attribute,\n",
            "it is called as \"namespace = metaclass.__prepare__(name, bases,\n",
            "**kwds)\" (where the additional keyword arguments, if any, come from\n",
            "the class definition).\n",
            "\n",
            "If the metaclass has no \"__prepare__\" attribute, then the class\n",
            "namespace is initialised as an empty ordered mapping.\n",
            "\n",
            "See also:\n",
            "\n",
            "  **PEP 3115** - Metaclasses in Python 3000\n",
            "     Introduced the \"__prepare__\" namespace hook\n",
            "\n",
            "\n",
            "Executing the class body\n",
            "------------------------\n",
            "\n",
            "The class body is executed (approximately) as \"exec(body, globals(),\n",
            "namespace)\". The key difference from a normal call to \"exec()\" is that\n",
            "lexical scoping allows the class body (including any methods) to\n",
            "reference names from the current and outer scopes when the class\n",
            "definition occurs inside a function.\n",
            "\n",
            "However, even when the class definition occurs inside the function,\n",
            "methods defined inside the class still cannot see names defined at the\n",
            "class scope. Class variables must be accessed through the first\n",
            "parameter of instance or class methods, or through the implicit\n",
            "lexically scoped \"__class__\" reference described in the next section.\n",
            "\n",
            "\n",
            "Creating the class object\n",
            "-------------------------\n",
            "\n",
            "Once the class namespace has been populated by executing the class\n",
            "body, the class object is created by calling \"metaclass(name, bases,\n",
            "namespace, **kwds)\" (the additional keywords passed here are the same\n",
            "as those passed to \"__prepare__\").\n",
            "\n",
            "This class object is the one that will be referenced by the zero-\n",
            "argument form of \"super()\". \"__class__\" is an implicit closure\n",
            "reference created by the compiler if any methods in a class body refer\n",
            "to either \"__class__\" or \"super\". This allows the zero argument form\n",
            "of \"super()\" to correctly identify the class being defined based on\n",
            "lexical scoping, while the class or instance that was used to make the\n",
            "current call is identified based on the first argument passed to the\n",
            "method.\n",
            "\n",
            "**CPython implementation detail:** In CPython 3.6 and later, the\n",
            "\"__class__\" cell is passed to the metaclass as a \"__classcell__\" entry\n",
            "in the class namespace. If present, this must be propagated up to the\n",
            "\"type.__new__\" call in order for the class to be initialised\n",
            "correctly. Failing to do so will result in a \"DeprecationWarning\" in\n",
            "Python 3.6, and a \"RuntimeError\" in Python 3.8.\n",
            "\n",
            "When using the default metaclass \"type\", or any metaclass that\n",
            "ultimately calls \"type.__new__\", the following additional\n",
            "customisation steps are invoked after creating the class object:\n",
            "\n",
            "* first, \"type.__new__\" collects all of the descriptors in the class\n",
            "  namespace that define a \"__set_name__()\" method;\n",
            "\n",
            "* second, all of these \"__set_name__\" methods are called with the\n",
            "  class being defined and the assigned name of that particular\n",
            "  descriptor; and\n",
            "\n",
            "* finally, the \"__init_subclass__()\" hook is called on the immediate\n",
            "  parent of the new class in its method resolution order.\n",
            "\n",
            "After the class object is created, it is passed to the class\n",
            "decorators included in the class definition (if any) and the resulting\n",
            "object is bound in the local namespace as the defined class.\n",
            "\n",
            "When a new class is created by \"type.__new__\", the object provided as\n",
            "the namespace parameter is copied to a new ordered mapping and the\n",
            "original object is discarded. The new copy is wrapped in a read-only\n",
            "proxy, which becomes the \"__dict__\" attribute of the class object.\n",
            "\n",
            "See also:\n",
            "\n",
            "  **PEP 3135** - New super\n",
            "     Describes the implicit \"__class__\" closure reference\n",
            "\n",
            "\n",
            "Uses for metaclasses\n",
            "--------------------\n",
            "\n",
            "The potential uses for metaclasses are boundless. Some ideas that have\n",
            "been explored include enum, logging, interface checking, automatic\n",
            "delegation, automatic property creation, proxies, frameworks, and\n",
            "automatic resource locking/synchronization.\n",
            "\n",
            "\n",
            "Customizing instance and subclass checks\n",
            "========================================\n",
            "\n",
            "The following methods are used to override the default behavior of the\n",
            "\"isinstance()\" and \"issubclass()\" built-in functions.\n",
            "\n",
            "In particular, the metaclass \"abc.ABCMeta\" implements these methods in\n",
            "order to allow the addition of Abstract Base Classes (ABCs) as\n",
            "“virtual base classes” to any class or type (including built-in\n",
            "types), including other ABCs.\n",
            "\n",
            "class.__instancecheck__(self, instance)\n",
            "\n",
            "   Return true if *instance* should be considered a (direct or\n",
            "   indirect) instance of *class*. If defined, called to implement\n",
            "   \"isinstance(instance, class)\".\n",
            "\n",
            "class.__subclasscheck__(self, subclass)\n",
            "\n",
            "   Return true if *subclass* should be considered a (direct or\n",
            "   indirect) subclass of *class*.  If defined, called to implement\n",
            "   \"issubclass(subclass, class)\".\n",
            "\n",
            "Note that these methods are looked up on the type (metaclass) of a\n",
            "class.  They cannot be defined as class methods in the actual class.\n",
            "This is consistent with the lookup of special methods that are called\n",
            "on instances, only in this case the instance is itself a class.\n",
            "\n",
            "See also:\n",
            "\n",
            "  **PEP 3119** - Introducing Abstract Base Classes\n",
            "     Includes the specification for customizing \"isinstance()\" and\n",
            "     \"issubclass()\" behavior through \"__instancecheck__()\" and\n",
            "     \"__subclasscheck__()\", with motivation for this functionality in\n",
            "     the context of adding Abstract Base Classes (see the \"abc\"\n",
            "     module) to the language.\n",
            "\n",
            "\n",
            "Emulating callable objects\n",
            "==========================\n",
            "\n",
            "object.__call__(self[, args...])\n",
            "\n",
            "   Called when the instance is “called” as a function; if this method\n",
            "   is defined, \"x(arg1, arg2, ...)\" is a shorthand for\n",
            "   \"x.__call__(arg1, arg2, ...)\".\n",
            "\n",
            "\n",
            "Emulating container types\n",
            "=========================\n",
            "\n",
            "The following methods can be defined to implement container objects.\n",
            "Containers usually are sequences (such as lists or tuples) or mappings\n",
            "(like dictionaries), but can represent other containers as well.  The\n",
            "first set of methods is used either to emulate a sequence or to\n",
            "emulate a mapping; the difference is that for a sequence, the\n",
            "allowable keys should be the integers *k* for which \"0 <= k < N\" where\n",
            "*N* is the length of the sequence, or slice objects, which define a\n",
            "range of items.  It is also recommended that mappings provide the\n",
            "methods \"keys()\", \"values()\", \"items()\", \"get()\", \"clear()\",\n",
            "\"setdefault()\", \"pop()\", \"popitem()\", \"copy()\", and \"update()\"\n",
            "behaving similar to those for Python’s standard dictionary objects.\n",
            "The \"collections\" module provides a \"MutableMapping\" abstract base\n",
            "class to help create those methods from a base set of \"__getitem__()\",\n",
            "\"__setitem__()\", \"__delitem__()\", and \"keys()\". Mutable sequences\n",
            "should provide methods \"append()\", \"count()\", \"index()\", \"extend()\",\n",
            "\"insert()\", \"pop()\", \"remove()\", \"reverse()\" and \"sort()\", like Python\n",
            "standard list objects.  Finally, sequence types should implement\n",
            "addition (meaning concatenation) and multiplication (meaning\n",
            "repetition) by defining the methods \"__add__()\", \"__radd__()\",\n",
            "\"__iadd__()\", \"__mul__()\", \"__rmul__()\" and \"__imul__()\" described\n",
            "below; they should not define other numerical operators.  It is\n",
            "recommended that both mappings and sequences implement the\n",
            "\"__contains__()\" method to allow efficient use of the \"in\" operator;\n",
            "for mappings, \"in\" should search the mapping’s keys; for sequences, it\n",
            "should search through the values.  It is further recommended that both\n",
            "mappings and sequences implement the \"__iter__()\" method to allow\n",
            "efficient iteration through the container; for mappings, \"__iter__()\"\n",
            "should be the same as \"keys()\"; for sequences, it should iterate\n",
            "through the values.\n",
            "\n",
            "object.__len__(self)\n",
            "\n",
            "   Called to implement the built-in function \"len()\".  Should return\n",
            "   the length of the object, an integer \">=\" 0.  Also, an object that\n",
            "   doesn’t define a \"__bool__()\" method and whose \"__len__()\" method\n",
            "   returns zero is considered to be false in a Boolean context.\n",
            "\n",
            "   **CPython implementation detail:** In CPython, the length is\n",
            "   required to be at most \"sys.maxsize\". If the length is larger than\n",
            "   \"sys.maxsize\" some features (such as \"len()\") may raise\n",
            "   \"OverflowError\".  To prevent raising \"OverflowError\" by truth value\n",
            "   testing, an object must define a \"__bool__()\" method.\n",
            "\n",
            "object.__length_hint__(self)\n",
            "\n",
            "   Called to implement \"operator.length_hint()\". Should return an\n",
            "   estimated length for the object (which may be greater or less than\n",
            "   the actual length). The length must be an integer \">=\" 0. This\n",
            "   method is purely an optimization and is never required for\n",
            "   correctness.\n",
            "\n",
            "   New in version 3.4.\n",
            "\n",
            "Note: Slicing is done exclusively with the following three methods.\n",
            "  A call like\n",
            "\n",
            "     a[1:2] = b\n",
            "\n",
            "  is translated to\n",
            "\n",
            "     a[slice(1, 2, None)] = b\n",
            "\n",
            "  and so forth.  Missing slice items are always filled in with \"None\".\n",
            "\n",
            "object.__getitem__(self, key)\n",
            "\n",
            "   Called to implement evaluation of \"self[key]\". For sequence types,\n",
            "   the accepted keys should be integers and slice objects.  Note that\n",
            "   the special interpretation of negative indexes (if the class wishes\n",
            "   to emulate a sequence type) is up to the \"__getitem__()\" method. If\n",
            "   *key* is of an inappropriate type, \"TypeError\" may be raised; if of\n",
            "   a value outside the set of indexes for the sequence (after any\n",
            "   special interpretation of negative values), \"IndexError\" should be\n",
            "   raised. For mapping types, if *key* is missing (not in the\n",
            "   container), \"KeyError\" should be raised.\n",
            "\n",
            "   Note: \"for\" loops expect that an \"IndexError\" will be raised for\n",
            "     illegal indexes to allow proper detection of the end of the\n",
            "     sequence.\n",
            "\n",
            "object.__setitem__(self, key, value)\n",
            "\n",
            "   Called to implement assignment to \"self[key]\".  Same note as for\n",
            "   \"__getitem__()\".  This should only be implemented for mappings if\n",
            "   the objects support changes to the values for keys, or if new keys\n",
            "   can be added, or for sequences if elements can be replaced.  The\n",
            "   same exceptions should be raised for improper *key* values as for\n",
            "   the \"__getitem__()\" method.\n",
            "\n",
            "object.__delitem__(self, key)\n",
            "\n",
            "   Called to implement deletion of \"self[key]\".  Same note as for\n",
            "   \"__getitem__()\".  This should only be implemented for mappings if\n",
            "   the objects support removal of keys, or for sequences if elements\n",
            "   can be removed from the sequence.  The same exceptions should be\n",
            "   raised for improper *key* values as for the \"__getitem__()\" method.\n",
            "\n",
            "object.__missing__(self, key)\n",
            "\n",
            "   Called by \"dict\".\"__getitem__()\" to implement \"self[key]\" for dict\n",
            "   subclasses when key is not in the dictionary.\n",
            "\n",
            "object.__iter__(self)\n",
            "\n",
            "   This method is called when an iterator is required for a container.\n",
            "   This method should return a new iterator object that can iterate\n",
            "   over all the objects in the container.  For mappings, it should\n",
            "   iterate over the keys of the container.\n",
            "\n",
            "   Iterator objects also need to implement this method; they are\n",
            "   required to return themselves.  For more information on iterator\n",
            "   objects, see Iterator Types.\n",
            "\n",
            "object.__reversed__(self)\n",
            "\n",
            "   Called (if present) by the \"reversed()\" built-in to implement\n",
            "   reverse iteration.  It should return a new iterator object that\n",
            "   iterates over all the objects in the container in reverse order.\n",
            "\n",
            "   If the \"__reversed__()\" method is not provided, the \"reversed()\"\n",
            "   built-in will fall back to using the sequence protocol (\"__len__()\"\n",
            "   and \"__getitem__()\").  Objects that support the sequence protocol\n",
            "   should only provide \"__reversed__()\" if they can provide an\n",
            "   implementation that is more efficient than the one provided by\n",
            "   \"reversed()\".\n",
            "\n",
            "The membership test operators (\"in\" and \"not in\") are normally\n",
            "implemented as an iteration through a sequence.  However, container\n",
            "objects can supply the following special method with a more efficient\n",
            "implementation, which also does not require the object be a sequence.\n",
            "\n",
            "object.__contains__(self, item)\n",
            "\n",
            "   Called to implement membership test operators.  Should return true\n",
            "   if *item* is in *self*, false otherwise.  For mapping objects, this\n",
            "   should consider the keys of the mapping rather than the values or\n",
            "   the key-item pairs.\n",
            "\n",
            "   For objects that don’t define \"__contains__()\", the membership test\n",
            "   first tries iteration via \"__iter__()\", then the old sequence\n",
            "   iteration protocol via \"__getitem__()\", see this section in the\n",
            "   language reference.\n",
            "\n",
            "\n",
            "Emulating numeric types\n",
            "=======================\n",
            "\n",
            "The following methods can be defined to emulate numeric objects.\n",
            "Methods corresponding to operations that are not supported by the\n",
            "particular kind of number implemented (e.g., bitwise operations for\n",
            "non-integral numbers) should be left undefined.\n",
            "\n",
            "object.__add__(self, other)\n",
            "object.__sub__(self, other)\n",
            "object.__mul__(self, other)\n",
            "object.__matmul__(self, other)\n",
            "object.__truediv__(self, other)\n",
            "object.__floordiv__(self, other)\n",
            "object.__mod__(self, other)\n",
            "object.__divmod__(self, other)\n",
            "object.__pow__(self, other[, modulo])\n",
            "object.__lshift__(self, other)\n",
            "object.__rshift__(self, other)\n",
            "object.__and__(self, other)\n",
            "object.__xor__(self, other)\n",
            "object.__or__(self, other)\n",
            "\n",
            "   These methods are called to implement the binary arithmetic\n",
            "   operations (\"+\", \"-\", \"*\", \"@\", \"/\", \"//\", \"%\", \"divmod()\",\n",
            "   \"pow()\", \"**\", \"<<\", \">>\", \"&\", \"^\", \"|\").  For instance, to\n",
            "   evaluate the expression \"x + y\", where *x* is an instance of a\n",
            "   class that has an \"__add__()\" method, \"x.__add__(y)\" is called.\n",
            "   The \"__divmod__()\" method should be the equivalent to using\n",
            "   \"__floordiv__()\" and \"__mod__()\"; it should not be related to\n",
            "   \"__truediv__()\".  Note that \"__pow__()\" should be defined to accept\n",
            "   an optional third argument if the ternary version of the built-in\n",
            "   \"pow()\" function is to be supported.\n",
            "\n",
            "   If one of those methods does not support the operation with the\n",
            "   supplied arguments, it should return \"NotImplemented\".\n",
            "\n",
            "object.__radd__(self, other)\n",
            "object.__rsub__(self, other)\n",
            "object.__rmul__(self, other)\n",
            "object.__rmatmul__(self, other)\n",
            "object.__rtruediv__(self, other)\n",
            "object.__rfloordiv__(self, other)\n",
            "object.__rmod__(self, other)\n",
            "object.__rdivmod__(self, other)\n",
            "object.__rpow__(self, other)\n",
            "object.__rlshift__(self, other)\n",
            "object.__rrshift__(self, other)\n",
            "object.__rand__(self, other)\n",
            "object.__rxor__(self, other)\n",
            "object.__ror__(self, other)\n",
            "\n",
            "   These methods are called to implement the binary arithmetic\n",
            "   operations (\"+\", \"-\", \"*\", \"@\", \"/\", \"//\", \"%\", \"divmod()\",\n",
            "   \"pow()\", \"**\", \"<<\", \">>\", \"&\", \"^\", \"|\") with reflected (swapped)\n",
            "   operands.  These functions are only called if the left operand does\n",
            "   not support the corresponding operation [3] and the operands are of\n",
            "   different types. [4] For instance, to evaluate the expression \"x -\n",
            "   y\", where *y* is an instance of a class that has an \"__rsub__()\"\n",
            "   method, \"y.__rsub__(x)\" is called if \"x.__sub__(y)\" returns\n",
            "   *NotImplemented*.\n",
            "\n",
            "   Note that ternary \"pow()\" will not try calling \"__rpow__()\" (the\n",
            "   coercion rules would become too complicated).\n",
            "\n",
            "   Note: If the right operand’s type is a subclass of the left\n",
            "     operand’s type and that subclass provides the reflected method\n",
            "     for the operation, this method will be called before the left\n",
            "     operand’s non-reflected method.  This behavior allows subclasses\n",
            "     to override their ancestors’ operations.\n",
            "\n",
            "object.__iadd__(self, other)\n",
            "object.__isub__(self, other)\n",
            "object.__imul__(self, other)\n",
            "object.__imatmul__(self, other)\n",
            "object.__itruediv__(self, other)\n",
            "object.__ifloordiv__(self, other)\n",
            "object.__imod__(self, other)\n",
            "object.__ipow__(self, other[, modulo])\n",
            "object.__ilshift__(self, other)\n",
            "object.__irshift__(self, other)\n",
            "object.__iand__(self, other)\n",
            "object.__ixor__(self, other)\n",
            "object.__ior__(self, other)\n",
            "\n",
            "   These methods are called to implement the augmented arithmetic\n",
            "   assignments (\"+=\", \"-=\", \"*=\", \"@=\", \"/=\", \"//=\", \"%=\", \"**=\",\n",
            "   \"<<=\", \">>=\", \"&=\", \"^=\", \"|=\").  These methods should attempt to\n",
            "   do the operation in-place (modifying *self*) and return the result\n",
            "   (which could be, but does not have to be, *self*).  If a specific\n",
            "   method is not defined, the augmented assignment falls back to the\n",
            "   normal methods.  For instance, if *x* is an instance of a class\n",
            "   with an \"__iadd__()\" method, \"x += y\" is equivalent to \"x =\n",
            "   x.__iadd__(y)\" . Otherwise, \"x.__add__(y)\" and \"y.__radd__(x)\" are\n",
            "   considered, as with the evaluation of \"x + y\". In certain\n",
            "   situations, augmented assignment can result in unexpected errors\n",
            "   (see Why does a_tuple[i] += [‘item’] raise an exception when the\n",
            "   addition works?), but this behavior is in fact part of the data\n",
            "   model.\n",
            "\n",
            "object.__neg__(self)\n",
            "object.__pos__(self)\n",
            "object.__abs__(self)\n",
            "object.__invert__(self)\n",
            "\n",
            "   Called to implement the unary arithmetic operations (\"-\", \"+\",\n",
            "   \"abs()\" and \"~\").\n",
            "\n",
            "object.__complex__(self)\n",
            "object.__int__(self)\n",
            "object.__float__(self)\n",
            "\n",
            "   Called to implement the built-in functions \"complex()\", \"int()\" and\n",
            "   \"float()\".  Should return a value of the appropriate type.\n",
            "\n",
            "object.__index__(self)\n",
            "\n",
            "   Called to implement \"operator.index()\", and whenever Python needs\n",
            "   to losslessly convert the numeric object to an integer object (such\n",
            "   as in slicing, or in the built-in \"bin()\", \"hex()\" and \"oct()\"\n",
            "   functions). Presence of this method indicates that the numeric\n",
            "   object is an integer type.  Must return an integer.\n",
            "\n",
            "   Note: In order to have a coherent integer type class, when\n",
            "     \"__index__()\" is defined \"__int__()\" should also be defined, and\n",
            "     both should return the same value.\n",
            "\n",
            "object.__round__(self[, ndigits])\n",
            "object.__trunc__(self)\n",
            "object.__floor__(self)\n",
            "object.__ceil__(self)\n",
            "\n",
            "   Called to implement the built-in function \"round()\" and \"math\"\n",
            "   functions \"trunc()\", \"floor()\" and \"ceil()\". Unless *ndigits* is\n",
            "   passed to \"__round__()\" all these methods should return the value\n",
            "   of the object truncated to an \"Integral\" (typically an \"int\").\n",
            "\n",
            "   If \"__int__()\" is not defined then the built-in function \"int()\"\n",
            "   falls back to \"__trunc__()\".\n",
            "\n",
            "\n",
            "With Statement Context Managers\n",
            "===============================\n",
            "\n",
            "A *context manager* is an object that defines the runtime context to\n",
            "be established when executing a \"with\" statement. The context manager\n",
            "handles the entry into, and the exit from, the desired runtime context\n",
            "for the execution of the block of code.  Context managers are normally\n",
            "invoked using the \"with\" statement (described in section The with\n",
            "statement), but can also be used by directly invoking their methods.\n",
            "\n",
            "Typical uses of context managers include saving and restoring various\n",
            "kinds of global state, locking and unlocking resources, closing opened\n",
            "files, etc.\n",
            "\n",
            "For more information on context managers, see Context Manager Types.\n",
            "\n",
            "object.__enter__(self)\n",
            "\n",
            "   Enter the runtime context related to this object. The \"with\"\n",
            "   statement will bind this method’s return value to the target(s)\n",
            "   specified in the \"as\" clause of the statement, if any.\n",
            "\n",
            "object.__exit__(self, exc_type, exc_value, traceback)\n",
            "\n",
            "   Exit the runtime context related to this object. The parameters\n",
            "   describe the exception that caused the context to be exited. If the\n",
            "   context was exited without an exception, all three arguments will\n",
            "   be \"None\".\n",
            "\n",
            "   If an exception is supplied, and the method wishes to suppress the\n",
            "   exception (i.e., prevent it from being propagated), it should\n",
            "   return a true value. Otherwise, the exception will be processed\n",
            "   normally upon exit from this method.\n",
            "\n",
            "   Note that \"__exit__()\" methods should not reraise the passed-in\n",
            "   exception; this is the caller’s responsibility.\n",
            "\n",
            "See also:\n",
            "\n",
            "  **PEP 343** - The “with” statement\n",
            "     The specification, background, and examples for the Python \"with\"\n",
            "     statement.\n",
            "\n",
            "\n",
            "Special method lookup\n",
            "=====================\n",
            "\n",
            "For custom classes, implicit invocations of special methods are only\n",
            "guaranteed to work correctly if defined on an object’s type, not in\n",
            "the object’s instance dictionary.  That behaviour is the reason why\n",
            "the following code raises an exception:\n",
            "\n",
            "   >>> class C:\n",
            "   ...     pass\n",
            "   ...\n",
            "   >>> c = C()\n",
            "   >>> c.__len__ = lambda: 5\n",
            "   >>> len(c)\n",
            "   Traceback (most recent call last):\n",
            "     File \"<stdin>\", line 1, in <module>\n",
            "   TypeError: object of type 'C' has no len()\n",
            "\n",
            "The rationale behind this behaviour lies with a number of special\n",
            "methods such as \"__hash__()\" and \"__repr__()\" that are implemented by\n",
            "all objects, including type objects. If the implicit lookup of these\n",
            "methods used the conventional lookup process, they would fail when\n",
            "invoked on the type object itself:\n",
            "\n",
            "   >>> 1 .__hash__() == hash(1)\n",
            "   True\n",
            "   >>> int.__hash__() == hash(int)\n",
            "   Traceback (most recent call last):\n",
            "     File \"<stdin>\", line 1, in <module>\n",
            "   TypeError: descriptor '__hash__' of 'int' object needs an argument\n",
            "\n",
            "Incorrectly attempting to invoke an unbound method of a class in this\n",
            "way is sometimes referred to as ‘metaclass confusion’, and is avoided\n",
            "by bypassing the instance when looking up special methods:\n",
            "\n",
            "   >>> type(1).__hash__(1) == hash(1)\n",
            "   True\n",
            "   >>> type(int).__hash__(int) == hash(int)\n",
            "   True\n",
            "\n",
            "In addition to bypassing any instance attributes in the interest of\n",
            "correctness, implicit special method lookup generally also bypasses\n",
            "the \"__getattribute__()\" method even of the object’s metaclass:\n",
            "\n",
            "   >>> class Meta(type):\n",
            "   ...     def __getattribute__(*args):\n",
            "   ...         print(\"Metaclass getattribute invoked\")\n",
            "   ...         return type.__getattribute__(*args)\n",
            "   ...\n",
            "   >>> class C(object, metaclass=Meta):\n",
            "   ...     def __len__(self):\n",
            "   ...         return 10\n",
            "   ...     def __getattribute__(*args):\n",
            "   ...         print(\"Class getattribute invoked\")\n",
            "   ...         return object.__getattribute__(*args)\n",
            "   ...\n",
            "   >>> c = C()\n",
            "   >>> c.__len__()                 # Explicit lookup via instance\n",
            "   Class getattribute invoked\n",
            "   10\n",
            "   >>> type(c).__len__(c)          # Explicit lookup via type\n",
            "   Metaclass getattribute invoked\n",
            "   10\n",
            "   >>> len(c)                      # Implicit lookup\n",
            "   10\n",
            "\n",
            "Bypassing the \"__getattribute__()\" machinery in this fashion provides\n",
            "significant scope for speed optimisations within the interpreter, at\n",
            "the cost of some flexibility in the handling of special methods (the\n",
            "special method *must* be set on the class object itself in order to be\n",
            "consistently invoked by the interpreter).\n",
            "\n",
            "Related help topics: BASICMETHODS, ATTRIBUTEMETHODS, CALLABLEMETHODS,\n",
            "SEQUENCEMETHODS, MAPPINGMETHODS, NUMBERMETHODS, CLASSES\n",
            "\n",
            "help> \n",
            "\n",
            "You are now leaving help and returning to the Python interpreter.\n",
            "If you want to ask for help on a particular object directly from the\n",
            "interpreter, you can type \"help(object)\".  Executing \"help('string')\"\n",
            "has the same effect as typing a particular string at the help> prompt.\n"
          ],
          "name": "stdout"
        }
      ]
    },
    {
      "cell_type": "markdown",
      "metadata": {
        "id": "-rhyDC71zMTc",
        "colab_type": "text"
      },
      "source": [
        "dir function will list the attributes of an object"
      ]
    },
    {
      "cell_type": "markdown",
      "metadata": {
        "id": "hm1E3yWWz1yt",
        "colab_type": "text"
      },
      "source": [
        "#Strings & Unicode"
      ]
    },
    {
      "cell_type": "code",
      "metadata": {
        "id": "sGXHqcMJz7XY",
        "colab_type": "code",
        "colab": {}
      },
      "source": [
        "name = 'paul'"
      ],
      "execution_count": null,
      "outputs": []
    },
    {
      "cell_type": "code",
      "metadata": {
        "id": "m3YFzcxl0BGL",
        "colab_type": "code",
        "colab": {
          "base_uri": "https://localhost:8080/",
          "height": 55
        },
        "outputId": "b1ce6a7a-1591-4f34-fa50-9cbe9f9e3636"
      },
      "source": [
        "print(dir(name))"
      ],
      "execution_count": null,
      "outputs": [
        {
          "output_type": "stream",
          "text": [
            "['__add__', '__class__', '__contains__', '__delattr__', '__dir__', '__doc__', '__eq__', '__format__', '__ge__', '__getattribute__', '__getitem__', '__getnewargs__', '__gt__', '__hash__', '__init__', '__init_subclass__', '__iter__', '__le__', '__len__', '__lt__', '__mod__', '__mul__', '__ne__', '__new__', '__reduce__', '__reduce_ex__', '__repr__', '__rmod__', '__rmul__', '__setattr__', '__sizeof__', '__str__', '__subclasshook__', 'capitalize', 'casefold', 'center', 'count', 'encode', 'endswith', 'expandtabs', 'find', 'format', 'format_map', 'index', 'isalnum', 'isalpha', 'isdecimal', 'isdigit', 'isidentifier', 'islower', 'isnumeric', 'isprintable', 'isspace', 'istitle', 'isupper', 'join', 'ljust', 'lower', 'lstrip', 'maketrans', 'partition', 'replace', 'rfind', 'rindex', 'rjust', 'rpartition', 'rsplit', 'rstrip', 'split', 'splitlines', 'startswith', 'strip', 'swapcase', 'title', 'translate', 'upper', 'zfill']\n"
          ],
          "name": "stdout"
        }
      ]
    },
    {
      "cell_type": "code",
      "metadata": {
        "id": "mmGafER20FK_",
        "colab_type": "code",
        "colab": {}
      },
      "source": [
        "name.upper?"
      ],
      "execution_count": null,
      "outputs": []
    },
    {
      "cell_type": "code",
      "metadata": {
        "id": "mDQSCPQt0Ltk",
        "colab_type": "code",
        "colab": {
          "base_uri": "https://localhost:8080/",
          "height": 35
        },
        "outputId": "49d0b844-2e16-4c7f-be28-cc4460c0fcce"
      },
      "source": [
        "name.upper()"
      ],
      "execution_count": null,
      "outputs": [
        {
          "output_type": "execute_result",
          "data": {
            "application/vnd.google.colaboratory.intrinsic+json": {
              "type": "string"
            },
            "text/plain": [
              "'PAUL'"
            ]
          },
          "metadata": {
            "tags": []
          },
          "execution_count": 46
        }
      ]
    },
    {
      "cell_type": "code",
      "metadata": {
        "id": "F_2FpJbe0QA5",
        "colab_type": "code",
        "colab": {
          "base_uri": "https://localhost:8080/",
          "height": 35
        },
        "outputId": "ae5d62c5-cc8e-4d07-c3d1-e1f58941ce73"
      },
      "source": [
        "name.title()"
      ],
      "execution_count": null,
      "outputs": [
        {
          "output_type": "execute_result",
          "data": {
            "application/vnd.google.colaboratory.intrinsic+json": {
              "type": "string"
            },
            "text/plain": [
              "'Paul'"
            ]
          },
          "metadata": {
            "tags": []
          },
          "execution_count": 47
        }
      ]
    },
    {
      "cell_type": "code",
      "metadata": {
        "id": "7IU1W6hF0VLD",
        "colab_type": "code",
        "colab": {
          "base_uri": "https://localhost:8080/",
          "height": 35
        },
        "outputId": "9ead91cd-543a-49ee-b95a-48ff6ee18e86"
      },
      "source": [
        "name.find('au')"
      ],
      "execution_count": null,
      "outputs": [
        {
          "output_type": "execute_result",
          "data": {
            "text/plain": [
              "1"
            ]
          },
          "metadata": {
            "tags": []
          },
          "execution_count": 48
        }
      ]
    },
    {
      "cell_type": "code",
      "metadata": {
        "id": "HdX2twKx0blr",
        "colab_type": "code",
        "colab": {
          "base_uri": "https://localhost:8080/",
          "height": 35
        },
        "outputId": "bb650df1-1a89-4140-8007-dc49b662de6f"
      },
      "source": [
        "name[0]"
      ],
      "execution_count": null,
      "outputs": [
        {
          "output_type": "execute_result",
          "data": {
            "application/vnd.google.colaboratory.intrinsic+json": {
              "type": "string"
            },
            "text/plain": [
              "'p'"
            ]
          },
          "metadata": {
            "tags": []
          },
          "execution_count": 49
        }
      ]
    },
    {
      "cell_type": "markdown",
      "metadata": {
        "id": "wFMI9luQ0gu3",
        "colab_type": "text"
      },
      "source": [
        "Retreiving value at index zero in name"
      ]
    },
    {
      "cell_type": "code",
      "metadata": {
        "id": "0fFhjGrQ0q0w",
        "colab_type": "code",
        "colab": {
          "base_uri": "https://localhost:8080/",
          "height": 35
        },
        "outputId": "117ca63c-f800-44b0-d9a2-a5a6314f442c"
      },
      "source": [
        "name[-1]"
      ],
      "execution_count": null,
      "outputs": [
        {
          "output_type": "execute_result",
          "data": {
            "application/vnd.google.colaboratory.intrinsic+json": {
              "type": "string"
            },
            "text/plain": [
              "'l'"
            ]
          },
          "metadata": {
            "tags": []
          },
          "execution_count": 50
        }
      ]
    },
    {
      "cell_type": "markdown",
      "metadata": {
        "id": "r4EzW6aB0zYw",
        "colab_type": "text"
      },
      "source": [
        "Shorthand for the following"
      ]
    },
    {
      "cell_type": "code",
      "metadata": {
        "id": "jKsE7rOg03vk",
        "colab_type": "code",
        "colab": {
          "base_uri": "https://localhost:8080/",
          "height": 35
        },
        "outputId": "bfb3296b-40ca-4213-a017-f912eb50ee47"
      },
      "source": [
        "name[len(name) - 1]"
      ],
      "execution_count": null,
      "outputs": [
        {
          "output_type": "execute_result",
          "data": {
            "application/vnd.google.colaboratory.intrinsic+json": {
              "type": "string"
            },
            "text/plain": [
              "'l'"
            ]
          },
          "metadata": {
            "tags": []
          },
          "execution_count": 51
        }
      ]
    },
    {
      "cell_type": "markdown",
      "metadata": {
        "id": "XMQAZThk1AFH",
        "colab_type": "text"
      },
      "source": [
        "Use negative indexing if you want something at the end."
      ]
    },
    {
      "cell_type": "code",
      "metadata": {
        "id": "nnqkSZTa1G1O",
        "colab_type": "code",
        "colab": {}
      },
      "source": [
        "?len"
      ],
      "execution_count": null,
      "outputs": []
    },
    {
      "cell_type": "code",
      "metadata": {
        "id": "j-kBg6rK1h5n",
        "colab_type": "code",
        "colab": {
          "base_uri": "https://localhost:8080/",
          "height": 35
        },
        "outputId": "ec90d5b4-6e39-4433-c329-ee04523f3636"
      },
      "source": [
        "greeting = 'Hello \\N{GRINNING FACE} \\U0001f600 😀'\n",
        "greeting"
      ],
      "execution_count": null,
      "outputs": [
        {
          "output_type": "execute_result",
          "data": {
            "application/vnd.google.colaboratory.intrinsic+json": {
              "type": "string"
            },
            "text/plain": [
              "'Hello 😀 😀 😀'"
            ]
          },
          "metadata": {
            "tags": []
          },
          "execution_count": 56
        }
      ]
    },
    {
      "cell_type": "markdown",
      "metadata": {
        "id": "X8cKv1tv2dO6",
        "colab_type": "text"
      },
      "source": [
        "Unicode is not UTF8. Unicode is a mapping to names or characters. UTF8 is an encoding."
      ]
    },
    {
      "cell_type": "code",
      "metadata": {
        "id": "vjamCeW92ygI",
        "colab_type": "code",
        "colab": {
          "base_uri": "https://localhost:8080/",
          "height": 35
        },
        "outputId": "7a0aecc3-cbfb-4257-9ee3-5ca925657175"
      },
      "source": [
        "# bytestring\n",
        "greeting.encode('utf8')"
      ],
      "execution_count": null,
      "outputs": [
        {
          "output_type": "execute_result",
          "data": {
            "text/plain": [
              "b'Hello \\xf0\\x9f\\x98\\x80 \\xf0\\x9f\\x98\\x80 \\xf0\\x9f\\x98\\x80'"
            ]
          },
          "metadata": {
            "tags": []
          },
          "execution_count": 57
        }
      ]
    },
    {
      "cell_type": "markdown",
      "metadata": {
        "id": "Le-xrpVV29j7",
        "colab_type": "text"
      },
      "source": [
        "The b inticates it's a bytestring a sequence of digits or characters"
      ]
    },
    {
      "cell_type": "code",
      "metadata": {
        "id": "5cPnPOEg3O7e",
        "colab_type": "code",
        "colab": {
          "base_uri": "https://localhost:8080/",
          "height": 35
        },
        "outputId": "11fd7aa8-a9b4-4f53-e544-0bbeb1cb138e"
      },
      "source": [
        "greeting.encode('utf8').decode('utf8')"
      ],
      "execution_count": null,
      "outputs": [
        {
          "output_type": "execute_result",
          "data": {
            "application/vnd.google.colaboratory.intrinsic+json": {
              "type": "string"
            },
            "text/plain": [
              "'Hello 😀 😀 😀'"
            ]
          },
          "metadata": {
            "tags": []
          },
          "execution_count": 58
        }
      ]
    },
    {
      "cell_type": "code",
      "metadata": {
        "id": "S6pKbhGS3eIx",
        "colab_type": "code",
        "colab": {}
      },
      "source": [
        "paragraph = \"\"\"Greetings,\n",
        "Thank you for attending tonight.\n",
        "Long-winded talk.\n",
        "Goodbye!\"\"\""
      ],
      "execution_count": null,
      "outputs": []
    },
    {
      "cell_type": "markdown",
      "metadata": {
        "id": "OPM5QWx23ty8",
        "colab_type": "text"
      },
      "source": [
        "Triple quotes allow for new lines in Python. \"\"\" typically used in docustrings.\n",
        "\n",
        "\n"
      ]
    },
    {
      "cell_type": "code",
      "metadata": {
        "id": "ck4luhZV3x86",
        "colab_type": "code",
        "colab": {
          "base_uri": "https://localhost:8080/",
          "height": 35
        },
        "outputId": "243461b0-471c-455d-9d4c-73ae245a5ece"
      },
      "source": [
        "paragraph"
      ],
      "execution_count": null,
      "outputs": [
        {
          "output_type": "execute_result",
          "data": {
            "application/vnd.google.colaboratory.intrinsic+json": {
              "type": "string"
            },
            "text/plain": [
              "'Greetings,\\nThank you for attending tonight.\\nLong-winded talk.\\nGoodbye!'"
            ]
          },
          "metadata": {
            "tags": []
          },
          "execution_count": 60
        }
      ]
    },
    {
      "cell_type": "code",
      "metadata": {
        "id": "TFck_rp239Ot",
        "colab_type": "code",
        "colab": {
          "base_uri": "https://localhost:8080/",
          "height": 107
        },
        "outputId": "65e1f0b8-3a91-4922-f7c3-a955487c4df4"
      },
      "source": [
        "# F-strings (Python 3.6+)\n",
        "minutes = 36 \n",
        "paragraph = f\"\"\"Greetings {name.title()},\n",
        "Thank you for attending tonight.\n",
        "We will be here for {minutes/60:.2f} hours\n",
        "Long-winded talk.\n",
        "Goodbye {name}!\"\"\"\n",
        "print(paragraph)"
      ],
      "execution_count": null,
      "outputs": [
        {
          "output_type": "stream",
          "text": [
            "Greetings Paul,\n",
            "Thank you for attending tonight.\n",
            "We will be here for 0.60 hours\n",
            "Long-winded talk.\n",
            "Goodbye paul!\n"
          ],
          "name": "stdout"
        }
      ]
    },
    {
      "cell_type": "markdown",
      "metadata": {
        "id": "VCY1YV3gkevy",
        "colab_type": "text"
      },
      "source": [
        "#Files\n"
      ]
    },
    {
      "cell_type": "markdown",
      "metadata": {
        "id": "OpbVj-7Joknw",
        "colab_type": "text"
      },
      "source": [
        "Old way to write to file with output stream:"
      ]
    },
    {
      "cell_type": "code",
      "metadata": {
        "id": "y2NdoaEvkixm",
        "colab_type": "code",
        "colab": {}
      },
      "source": [
        "fout = open('names.csv', mode='w', encoding='utf8')\n",
        "fout.write('name, age\\n')\n",
        "fout.write('jeff, 30\\n')\n",
        "fout.write('linda, 29\\n')\n",
        "fout.close()"
      ],
      "execution_count": 3,
      "outputs": []
    },
    {
      "cell_type": "markdown",
      "metadata": {
        "id": "RPKgSir0ovFr",
        "colab_type": "text"
      },
      "source": [
        "Modern approach:"
      ]
    },
    {
      "cell_type": "code",
      "metadata": {
        "id": "EFk005nJoxE9",
        "colab_type": "code",
        "colab": {
          "base_uri": "https://localhost:8080/",
          "height": 244
        },
        "outputId": "5c492d34-378b-48ed-c588-73b6d7ef74c6"
      },
      "source": [
        "# context manager also used in plotting and setting pandas parameters\n",
        "with open('names.csv', mode='w', encoding='utf8') as fout:\n",
        "    fout.write('name, age\\n')\n",
        "    fout.write('jeff, 30\\n')\n",
        "    fout.write('linda, 29\\n')\n",
        "# file is automatically closed when we dedent\n",
        "fout.write('bad,42\\n')"
      ],
      "execution_count": 4,
      "outputs": [
        {
          "output_type": "error",
          "ename": "ValueError",
          "evalue": "ignored",
          "traceback": [
            "\u001b[0;31m---------------------------------------------------------------------------\u001b[0m",
            "\u001b[0;31mValueError\u001b[0m                                Traceback (most recent call last)",
            "\u001b[0;32m<ipython-input-4-3f42344a988e>\u001b[0m in \u001b[0;36m<module>\u001b[0;34m()\u001b[0m\n\u001b[1;32m      5\u001b[0m     \u001b[0mfout\u001b[0m\u001b[0;34m.\u001b[0m\u001b[0mwrite\u001b[0m\u001b[0;34m(\u001b[0m\u001b[0;34m'linda, 29\\n'\u001b[0m\u001b[0;34m)\u001b[0m\u001b[0;34m\u001b[0m\u001b[0;34m\u001b[0m\u001b[0m\n\u001b[1;32m      6\u001b[0m \u001b[0;31m# file is automatically closed when we dedent\u001b[0m\u001b[0;34m\u001b[0m\u001b[0;34m\u001b[0m\u001b[0;34m\u001b[0m\u001b[0m\n\u001b[0;32m----> 7\u001b[0;31m \u001b[0mfout\u001b[0m\u001b[0;34m.\u001b[0m\u001b[0mwrite\u001b[0m\u001b[0;34m(\u001b[0m\u001b[0;34m'bad,42\\n'\u001b[0m\u001b[0;34m)\u001b[0m\u001b[0;34m\u001b[0m\u001b[0;34m\u001b[0m\u001b[0m\n\u001b[0m",
            "\u001b[0;31mValueError\u001b[0m: I/O operation on closed file."
          ]
        }
      ]
    },
    {
      "cell_type": "code",
      "metadata": {
        "id": "6IekgoIGqHCM",
        "colab_type": "code",
        "colab": {
          "base_uri": "https://localhost:8080/",
          "height": 55
        },
        "outputId": "cef259a1-3ee0-48ad-de14-0429acc0eabc"
      },
      "source": [
        "print(dir(fout))"
      ],
      "execution_count": 5,
      "outputs": [
        {
          "output_type": "stream",
          "text": [
            "['_CHUNK_SIZE', '__class__', '__del__', '__delattr__', '__dict__', '__dir__', '__doc__', '__enter__', '__eq__', '__exit__', '__format__', '__ge__', '__getattribute__', '__getstate__', '__gt__', '__hash__', '__init__', '__init_subclass__', '__iter__', '__le__', '__lt__', '__ne__', '__new__', '__next__', '__reduce__', '__reduce_ex__', '__repr__', '__setattr__', '__sizeof__', '__str__', '__subclasshook__', '_checkClosed', '_checkReadable', '_checkSeekable', '_checkWritable', '_finalizing', 'buffer', 'close', 'closed', 'detach', 'encoding', 'errors', 'fileno', 'flush', 'isatty', 'line_buffering', 'mode', 'name', 'newlines', 'read', 'readable', 'readline', 'readlines', 'seek', 'seekable', 'tell', 'truncate', 'writable', 'write', 'writelines']\n"
          ],
          "name": "stdout"
        }
      ]
    },
    {
      "cell_type": "code",
      "metadata": {
        "id": "sB4bBebGqSDL",
        "colab_type": "code",
        "colab": {
          "base_uri": "https://localhost:8080/",
          "height": 143
        },
        "outputId": "19e1a205-1fbc-49cb-c8ca-f3710af3009b"
      },
      "source": [
        "help(fout.write)"
      ],
      "execution_count": 6,
      "outputs": [
        {
          "output_type": "stream",
          "text": [
            "Help on built-in function write:\n",
            "\n",
            "write(text, /) method of _io.TextIOWrapper instance\n",
            "    Write string to stream.\n",
            "    Returns the number of characters written (which is always equal to\n",
            "    the length of the string).\n",
            "\n"
          ],
          "name": "stdout"
        }
      ]
    },
    {
      "cell_type": "code",
      "metadata": {
        "id": "IYdG4RS7qeB7",
        "colab_type": "code",
        "colab": {}
      },
      "source": [
        "fout.write?"
      ],
      "execution_count": 7,
      "outputs": []
    },
    {
      "cell_type": "code",
      "metadata": {
        "id": "Vj80CP3Aq05m",
        "colab_type": "code",
        "colab": {
          "base_uri": "https://localhost:8080/",
          "height": 35
        },
        "outputId": "d2159b44-3cbf-4980-f889-1c0edbda4d25"
      },
      "source": [
        "with open('names.csv', encoding='utf8') as fin:\n",
        "    data = fin.read()\n",
        "data"
      ],
      "execution_count": 8,
      "outputs": [
        {
          "output_type": "execute_result",
          "data": {
            "application/vnd.google.colaboratory.intrinsic+json": {
              "type": "string"
            },
            "text/plain": [
              "'name, age\\njeff, 30\\nlinda, 29\\n'"
            ]
          },
          "metadata": {
            "tags": []
          },
          "execution_count": 8
        }
      ]
    },
    {
      "cell_type": "markdown",
      "metadata": {
        "id": "6X3SXekpsLn3",
        "colab_type": "text"
      },
      "source": [
        "Read the file as binary:"
      ]
    },
    {
      "cell_type": "code",
      "metadata": {
        "id": "CINsXGitsTbc",
        "colab_type": "code",
        "colab": {
          "base_uri": "https://localhost:8080/",
          "height": 35
        },
        "outputId": "19587221-8dab-44c7-db0d-a1f510c0ce96"
      },
      "source": [
        "with open('names.csv', mode='rb') as fin:\n",
        "    one_byte = fin.read(1)\n",
        "    ten_bytes = fin.read(10)\n",
        "one_byte"
      ],
      "execution_count": 9,
      "outputs": [
        {
          "output_type": "execute_result",
          "data": {
            "text/plain": [
              "b'n'"
            ]
          },
          "metadata": {
            "tags": []
          },
          "execution_count": 9
        }
      ]
    },
    {
      "cell_type": "code",
      "metadata": {
        "id": "efA23ozAs1GQ",
        "colab_type": "code",
        "colab": {
          "base_uri": "https://localhost:8080/",
          "height": 35
        },
        "outputId": "a20d4244-4699-4ac8-ddb0-f02a2ca97250"
      },
      "source": [
        "ten_bytes.decode('utf8')"
      ],
      "execution_count": 10,
      "outputs": [
        {
          "output_type": "execute_result",
          "data": {
            "application/vnd.google.colaboratory.intrinsic+json": {
              "type": "string"
            },
            "text/plain": [
              "'ame, age\\nj'"
            ]
          },
          "metadata": {
            "tags": []
          },
          "execution_count": 10
        }
      ]
    },
    {
      "cell_type": "code",
      "metadata": {
        "id": "8UeeSLlMtBBB",
        "colab_type": "code",
        "colab": {}
      },
      "source": [
        "# careful with encoding\n",
        "with open('unigreeting.txt', 'w', encoding='utf8') as fout:\n",
        "    fout.write('Hello \\N{GRINNING FACE}')"
      ],
      "execution_count": 12,
      "outputs": []
    },
    {
      "cell_type": "code",
      "metadata": {
        "id": "6eTst_CJtjz9",
        "colab_type": "code",
        "colab": {
          "base_uri": "https://localhost:8080/",
          "height": 35
        },
        "outputId": "cb623f38-371f-47bd-bc0c-5bdb2115d630"
      },
      "source": [
        "greeting = open('unigreeting.txt', 'r', encoding='utf8').read()\n",
        "greeting"
      ],
      "execution_count": 13,
      "outputs": [
        {
          "output_type": "execute_result",
          "data": {
            "application/vnd.google.colaboratory.intrinsic+json": {
              "type": "string"
            },
            "text/plain": [
              "'Hello 😀'"
            ]
          },
          "metadata": {
            "tags": []
          },
          "execution_count": 13
        }
      ]
    },
    {
      "cell_type": "code",
      "metadata": {
        "id": "NIZ9T0hruGW-",
        "colab_type": "code",
        "colab": {
          "base_uri": "https://localhost:8080/",
          "height": 35
        },
        "outputId": "dbe35703-2ec0-44db-853a-de3dc2368f38"
      },
      "source": [
        "greeting = open('unigreeting.txt', 'r', encoding='windows_1252').read()\n",
        "greeting"
      ],
      "execution_count": 14,
      "outputs": [
        {
          "output_type": "execute_result",
          "data": {
            "application/vnd.google.colaboratory.intrinsic+json": {
              "type": "string"
            },
            "text/plain": [
              "'Hello ðŸ˜€'"
            ]
          },
          "metadata": {
            "tags": []
          },
          "execution_count": 14
        }
      ]
    },
    {
      "cell_type": "code",
      "metadata": {
        "id": "beOCqyRLuUGG",
        "colab_type": "code",
        "colab": {
          "base_uri": "https://localhost:8080/",
          "height": 370
        },
        "outputId": "2fee6577-9b0b-4327-9f54-fbb0cb034170"
      },
      "source": [
        "greeting = open('unigreeting.txt', 'r', encoding='ascii').read()\n",
        "greeting"
      ],
      "execution_count": 15,
      "outputs": [
        {
          "output_type": "error",
          "ename": "UnicodeDecodeError",
          "evalue": "ignored",
          "traceback": [
            "\u001b[0;31m---------------------------------------------------------------------------\u001b[0m",
            "\u001b[0;31mUnicodeDecodeError\u001b[0m                        Traceback (most recent call last)",
            "\u001b[0;32m<ipython-input-15-ba687d8634e8>\u001b[0m in \u001b[0;36m<module>\u001b[0;34m()\u001b[0m\n\u001b[0;32m----> 1\u001b[0;31m \u001b[0mgreeting\u001b[0m \u001b[0;34m=\u001b[0m \u001b[0mopen\u001b[0m\u001b[0;34m(\u001b[0m\u001b[0;34m'unigreeting.txt'\u001b[0m\u001b[0;34m,\u001b[0m \u001b[0;34m'r'\u001b[0m\u001b[0;34m,\u001b[0m \u001b[0mencoding\u001b[0m\u001b[0;34m=\u001b[0m\u001b[0;34m'ascii'\u001b[0m\u001b[0;34m)\u001b[0m\u001b[0;34m.\u001b[0m\u001b[0mread\u001b[0m\u001b[0;34m(\u001b[0m\u001b[0;34m)\u001b[0m\u001b[0;34m\u001b[0m\u001b[0;34m\u001b[0m\u001b[0m\n\u001b[0m\u001b[1;32m      2\u001b[0m \u001b[0mgreeting\u001b[0m\u001b[0;34m\u001b[0m\u001b[0;34m\u001b[0m\u001b[0m\n",
            "\u001b[0;32m/usr/lib/python3.6/encodings/ascii.py\u001b[0m in \u001b[0;36mdecode\u001b[0;34m(self, input, final)\u001b[0m\n\u001b[1;32m     24\u001b[0m \u001b[0;32mclass\u001b[0m \u001b[0mIncrementalDecoder\u001b[0m\u001b[0;34m(\u001b[0m\u001b[0mcodecs\u001b[0m\u001b[0;34m.\u001b[0m\u001b[0mIncrementalDecoder\u001b[0m\u001b[0;34m)\u001b[0m\u001b[0;34m:\u001b[0m\u001b[0;34m\u001b[0m\u001b[0;34m\u001b[0m\u001b[0m\n\u001b[1;32m     25\u001b[0m     \u001b[0;32mdef\u001b[0m \u001b[0mdecode\u001b[0m\u001b[0;34m(\u001b[0m\u001b[0mself\u001b[0m\u001b[0;34m,\u001b[0m \u001b[0minput\u001b[0m\u001b[0;34m,\u001b[0m \u001b[0mfinal\u001b[0m\u001b[0;34m=\u001b[0m\u001b[0;32mFalse\u001b[0m\u001b[0;34m)\u001b[0m\u001b[0;34m:\u001b[0m\u001b[0;34m\u001b[0m\u001b[0;34m\u001b[0m\u001b[0m\n\u001b[0;32m---> 26\u001b[0;31m         \u001b[0;32mreturn\u001b[0m \u001b[0mcodecs\u001b[0m\u001b[0;34m.\u001b[0m\u001b[0mascii_decode\u001b[0m\u001b[0;34m(\u001b[0m\u001b[0minput\u001b[0m\u001b[0;34m,\u001b[0m \u001b[0mself\u001b[0m\u001b[0;34m.\u001b[0m\u001b[0merrors\u001b[0m\u001b[0;34m)\u001b[0m\u001b[0;34m[\u001b[0m\u001b[0;36m0\u001b[0m\u001b[0;34m]\u001b[0m\u001b[0;34m\u001b[0m\u001b[0;34m\u001b[0m\u001b[0m\n\u001b[0m\u001b[1;32m     27\u001b[0m \u001b[0;34m\u001b[0m\u001b[0m\n\u001b[1;32m     28\u001b[0m \u001b[0;32mclass\u001b[0m \u001b[0mStreamWriter\u001b[0m\u001b[0;34m(\u001b[0m\u001b[0mCodec\u001b[0m\u001b[0;34m,\u001b[0m\u001b[0mcodecs\u001b[0m\u001b[0;34m.\u001b[0m\u001b[0mStreamWriter\u001b[0m\u001b[0;34m)\u001b[0m\u001b[0;34m:\u001b[0m\u001b[0;34m\u001b[0m\u001b[0;34m\u001b[0m\u001b[0m\n",
            "\u001b[0;31mUnicodeDecodeError\u001b[0m: 'ascii' codec can't decode byte 0xf0 in position 6: ordinal not in range(128)"
          ]
        }
      ]
    },
    {
      "cell_type": "code",
      "metadata": {
        "id": "JYngePycuk_f",
        "colab_type": "code",
        "colab": {
          "base_uri": "https://localhost:8080/",
          "height": 35
        },
        "outputId": "61328837-220c-4f87-fbeb-8f6fd41a09ba"
      },
      "source": [
        "greeting.encode('windows_1252')"
      ],
      "execution_count": 16,
      "outputs": [
        {
          "output_type": "execute_result",
          "data": {
            "text/plain": [
              "b'Hello \\xf0\\x9f\\x98\\x80'"
            ]
          },
          "metadata": {
            "tags": []
          },
          "execution_count": 16
        }
      ]
    },
    {
      "cell_type": "code",
      "metadata": {
        "id": "0eESihIRur4C",
        "colab_type": "code",
        "colab": {
          "base_uri": "https://localhost:8080/",
          "height": 35
        },
        "outputId": "2bb37017-6586-40d0-bc71-e0887e6cf815"
      },
      "source": [
        "greeting.encode('windows_1252').decode('utf8')"
      ],
      "execution_count": 17,
      "outputs": [
        {
          "output_type": "execute_result",
          "data": {
            "application/vnd.google.colaboratory.intrinsic+json": {
              "type": "string"
            },
            "text/plain": [
              "'Hello 😀'"
            ]
          },
          "metadata": {
            "tags": []
          },
          "execution_count": 17
        }
      ]
    },
    {
      "cell_type": "code",
      "metadata": {
        "id": "EBa3UkUuu4cZ",
        "colab_type": "code",
        "colab": {
          "base_uri": "https://localhost:8080/",
          "height": 55
        },
        "outputId": "8580a42b-9ccb-4ca6-ad94-50bfcd272aad"
      },
      "source": [
        "import encodings\n",
        "print(sorted(encodings.aliases.aliases))"
      ],
      "execution_count": 18,
      "outputs": [
        {
          "output_type": "stream",
          "text": [
            "['037', '1026', '1125', '1140', '1250', '1251', '1252', '1253', '1254', '1255', '1256', '1257', '1258', '273', '424', '437', '500', '646', '775', '850', '852', '855', '857', '858', '860', '861', '862', '863', '864', '865', '866', '869', '8859', '932', '936', '949', '950', 'ansi', 'ansi_x3.4_1968', 'ansi_x3.4_1986', 'ansi_x3_4_1968', 'arabic', 'asmo_708', 'base64', 'base_64', 'big5_hkscs', 'big5_tw', 'bz2', 'chinese', 'cp1361', 'cp154', 'cp367', 'cp819', 'cp866u', 'cp936', 'cp_gr', 'cp_is', 'csHPRoman8', 'csascii', 'csbig5', 'csibm037', 'csibm1026', 'csibm273', 'csibm424', 'csibm500', 'csibm855', 'csibm857', 'csibm858', 'csibm860', 'csibm861', 'csibm863', 'csibm864', 'csibm865', 'csibm866', 'csibm869', 'csiso2022jp', 'csiso2022kr', 'csiso58gb231280', 'csisolatin1', 'csisolatin2', 'csisolatin3', 'csisolatin4', 'csisolatin5', 'csisolatin6', 'csisolatinarabic', 'csisolatincyrillic', 'csisolatingreek', 'csisolatinhebrew', 'cskoi8r', 'cspc775baltic', 'cspc850multilingual', 'cspc862latinhebrew', 'cspc8codepage437', 'cspcp852', 'csptcp154', 'csshiftjis', 'cyrillic', 'cyrillic_asian', 'dbcs', 'ebcdic_cp_be', 'ebcdic_cp_ca', 'ebcdic_cp_ch', 'ebcdic_cp_he', 'ebcdic_cp_nl', 'ebcdic_cp_us', 'ebcdic_cp_wt', 'ecma_114', 'ecma_118', 'elot_928', 'euc_cn', 'euc_jis2004', 'euccn', 'eucgb2312_cn', 'eucjis2004', 'eucjisx0213', 'eucjp', 'euckr', 'gb18030_2000', 'gb2312_1980', 'gb2312_80', 'greek', 'greek8', 'hebrew', 'hex', 'hkscs', 'hz_gb', 'hz_gb_2312', 'hzgb', 'ibm037', 'ibm039', 'ibm1026', 'ibm1125', 'ibm1140', 'ibm273', 'ibm367', 'ibm424', 'ibm437', 'ibm500', 'ibm775', 'ibm819', 'ibm850', 'ibm852', 'ibm855', 'ibm857', 'ibm858', 'ibm860', 'ibm861', 'ibm862', 'ibm863', 'ibm864', 'ibm865', 'ibm866', 'ibm869', 'iso2022jp', 'iso2022jp_1', 'iso2022jp_2', 'iso2022jp_2004', 'iso2022jp_3', 'iso2022jp_ext', 'iso2022kr', 'iso646_us', 'iso8859', 'iso8859_1', 'iso_2022_jp', 'iso_2022_jp_1', 'iso_2022_jp_2', 'iso_2022_jp_2004', 'iso_2022_jp_3', 'iso_2022_jp_ext', 'iso_2022_kr', 'iso_646.irv_1991', 'iso_8859_1', 'iso_8859_10', 'iso_8859_10_1992', 'iso_8859_11', 'iso_8859_11_2001', 'iso_8859_13', 'iso_8859_14', 'iso_8859_14_1998', 'iso_8859_15', 'iso_8859_16', 'iso_8859_16_2001', 'iso_8859_1_1987', 'iso_8859_2', 'iso_8859_2_1987', 'iso_8859_3', 'iso_8859_3_1988', 'iso_8859_4', 'iso_8859_4_1988', 'iso_8859_5', 'iso_8859_5_1988', 'iso_8859_6', 'iso_8859_6_1987', 'iso_8859_7', 'iso_8859_7_1987', 'iso_8859_8', 'iso_8859_8_1988', 'iso_8859_9', 'iso_8859_9_1989', 'iso_celtic', 'iso_ir_100', 'iso_ir_101', 'iso_ir_109', 'iso_ir_110', 'iso_ir_126', 'iso_ir_127', 'iso_ir_138', 'iso_ir_144', 'iso_ir_148', 'iso_ir_157', 'iso_ir_166', 'iso_ir_199', 'iso_ir_226', 'iso_ir_58', 'iso_ir_6', 'jisx0213', 'korean', 'ks_c_5601', 'ks_c_5601_1987', 'ks_x_1001', 'ksc5601', 'ksx1001', 'kz_1048', 'l1', 'l10', 'l2', 'l3', 'l4', 'l5', 'l6', 'l7', 'l8', 'l9', 'latin', 'latin1', 'latin10', 'latin2', 'latin3', 'latin4', 'latin5', 'latin6', 'latin7', 'latin8', 'latin9', 'maccentraleurope', 'maccyrillic', 'macgreek', 'maciceland', 'macintosh', 'maclatin2', 'macroman', 'macturkish', 'ms1361', 'ms932', 'ms936', 'ms949', 'ms950', 'ms_kanji', 'mskanji', 'pt154', 'quopri', 'quoted_printable', 'quotedprintable', 'r8', 'rk1048', 'roman8', 'rot13', 'ruscii', 's_jis', 's_jis_2004', 's_jisx0213', 'shiftjis', 'shiftjis2004', 'shiftjisx0213', 'sjis', 'sjis_2004', 'sjisx0213', 'strk1048_2002', 'thai', 'tis260', 'tis620', 'tis_620_0', 'tis_620_2529_0', 'tis_620_2529_1', 'u16', 'u32', 'u7', 'u8', 'u_jis', 'uhc', 'ujis', 'unicode_1_1_utf_7', 'unicodebigunmarked', 'unicodelittleunmarked', 'us', 'us_ascii', 'utf', 'utf16', 'utf32', 'utf7', 'utf8', 'utf8_ucs2', 'utf8_ucs4', 'utf_16be', 'utf_16le', 'utf_32be', 'utf_32le', 'uu', 'windows_1250', 'windows_1251', 'windows_1252', 'windows_1253', 'windows_1254', 'windows_1255', 'windows_1256', 'windows_1257', 'windows_1258', 'x_mac_japanese', 'x_mac_korean', 'x_mac_simp_chinese', 'x_mac_trad_chinese', 'zip', 'zlib']\n"
          ],
          "name": "stdout"
        }
      ]
    },
    {
      "cell_type": "markdown",
      "metadata": {
        "id": "eG_DhG0HvscW",
        "colab_type": "text"
      },
      "source": [
        "#Lists"
      ]
    },
    {
      "cell_type": "markdown",
      "metadata": {
        "id": "c6xF7GP1v5R8",
        "colab_type": "text"
      },
      "source": [
        "Typically, lists have items of the same type and they're mutable."
      ]
    },
    {
      "cell_type": "code",
      "metadata": {
        "id": "07SnA-yKvrmE",
        "colab_type": "code",
        "colab": {}
      },
      "source": [
        "names = ['john', 'paul', 'george']"
      ],
      "execution_count": 19,
      "outputs": []
    },
    {
      "cell_type": "code",
      "metadata": {
        "id": "pbl7ST6PwXRX",
        "colab_type": "code",
        "colab": {
          "base_uri": "https://localhost:8080/",
          "height": 55
        },
        "outputId": "e8d68dff-72f7-428a-d41f-8c01f209eb4c"
      },
      "source": [
        "print(dir(names))"
      ],
      "execution_count": 20,
      "outputs": [
        {
          "output_type": "stream",
          "text": [
            "['__add__', '__class__', '__contains__', '__delattr__', '__delitem__', '__dir__', '__doc__', '__eq__', '__format__', '__ge__', '__getattribute__', '__getitem__', '__gt__', '__hash__', '__iadd__', '__imul__', '__init__', '__init_subclass__', '__iter__', '__le__', '__len__', '__lt__', '__mul__', '__ne__', '__new__', '__reduce__', '__reduce_ex__', '__repr__', '__reversed__', '__rmul__', '__setattr__', '__setitem__', '__sizeof__', '__str__', '__subclasshook__', 'append', 'clear', 'copy', 'count', 'extend', 'index', 'insert', 'pop', 'remove', 'reverse', 'sort']\n"
          ],
          "name": "stdout"
        }
      ]
    },
    {
      "cell_type": "code",
      "metadata": {
        "id": "6mXm0XuJwgHg",
        "colab_type": "code",
        "colab": {}
      },
      "source": [
        "names.append?"
      ],
      "execution_count": 21,
      "outputs": []
    },
    {
      "cell_type": "markdown",
      "metadata": {
        "id": "cyElIu4UwmNg",
        "colab_type": "text"
      },
      "source": [
        "Append mutates the list in place and doesn't return a new list."
      ]
    },
    {
      "cell_type": "code",
      "metadata": {
        "id": "hPixRkJZw3D9",
        "colab_type": "code",
        "colab": {}
      },
      "source": [
        "names.append('ringo')"
      ],
      "execution_count": 22,
      "outputs": []
    },
    {
      "cell_type": "code",
      "metadata": {
        "id": "ls5BYLpkw6E4",
        "colab_type": "code",
        "colab": {
          "base_uri": "https://localhost:8080/",
          "height": 35
        },
        "outputId": "19d159b3-ab52-4625-f402-c8137a63edc7"
      },
      "source": [
        "names"
      ],
      "execution_count": 23,
      "outputs": [
        {
          "output_type": "execute_result",
          "data": {
            "text/plain": [
              "['john', 'paul', 'george', 'ringo']"
            ]
          },
          "metadata": {
            "tags": []
          },
          "execution_count": 23
        }
      ]
    },
    {
      "cell_type": "code",
      "metadata": {
        "id": "CMlWQgMzxiT7",
        "colab_type": "code",
        "colab": {
          "base_uri": "https://localhost:8080/",
          "height": 35
        },
        "outputId": "58527a7f-b847-492e-e422-5c2cb26147fc"
      },
      "source": [
        "names.index('paul')"
      ],
      "execution_count": 24,
      "outputs": [
        {
          "output_type": "execute_result",
          "data": {
            "text/plain": [
              "1"
            ]
          },
          "metadata": {
            "tags": []
          },
          "execution_count": 24
        }
      ]
    },
    {
      "cell_type": "code",
      "metadata": {
        "id": "kZc0HarTxnDI",
        "colab_type": "code",
        "colab": {
          "base_uri": "https://localhost:8080/",
          "height": 35
        },
        "outputId": "afb65c18-ee1b-42cb-9d53-68ca0c1e1a2b"
      },
      "source": [
        "names[1]"
      ],
      "execution_count": 25,
      "outputs": [
        {
          "output_type": "execute_result",
          "data": {
            "application/vnd.google.colaboratory.intrinsic+json": {
              "type": "string"
            },
            "text/plain": [
              "'paul'"
            ]
          },
          "metadata": {
            "tags": []
          },
          "execution_count": 25
        }
      ]
    },
    {
      "cell_type": "code",
      "metadata": {
        "id": "pB-DvQq3xroa",
        "colab_type": "code",
        "colab": {
          "base_uri": "https://localhost:8080/",
          "height": 35
        },
        "outputId": "f01308c1-5413-4941-fc89-d8574ee038b8"
      },
      "source": [
        "names.__getitem__(1)"
      ],
      "execution_count": 26,
      "outputs": [
        {
          "output_type": "execute_result",
          "data": {
            "application/vnd.google.colaboratory.intrinsic+json": {
              "type": "string"
            },
            "text/plain": [
              "'paul'"
            ]
          },
          "metadata": {
            "tags": []
          },
          "execution_count": 26
        }
      ]
    },
    {
      "cell_type": "code",
      "metadata": {
        "id": "IWAakTwOx3vx",
        "colab_type": "code",
        "colab": {}
      },
      "source": [
        "names[1] = 'Paul'"
      ],
      "execution_count": 27,
      "outputs": []
    },
    {
      "cell_type": "code",
      "metadata": {
        "id": "yPAciIFSx_ZH",
        "colab_type": "code",
        "colab": {
          "base_uri": "https://localhost:8080/",
          "height": 35
        },
        "outputId": "d771c3bb-1b58-44ba-b5d4-440b88cb9acc"
      },
      "source": [
        "names"
      ],
      "execution_count": 28,
      "outputs": [
        {
          "output_type": "execute_result",
          "data": {
            "text/plain": [
              "['john', 'Paul', 'george', 'ringo']"
            ]
          },
          "metadata": {
            "tags": []
          },
          "execution_count": 28
        }
      ]
    },
    {
      "cell_type": "code",
      "metadata": {
        "id": "udWt8aLKyO40",
        "colab_type": "code",
        "colab": {
          "base_uri": "https://localhost:8080/",
          "height": 35
        },
        "outputId": "61de47ed-ac43-454f-f8b5-b83f2798c09b"
      },
      "source": [
        "'paul' in names"
      ],
      "execution_count": 29,
      "outputs": [
        {
          "output_type": "execute_result",
          "data": {
            "text/plain": [
              "False"
            ]
          },
          "metadata": {
            "tags": []
          },
          "execution_count": 29
        }
      ]
    },
    {
      "cell_type": "code",
      "metadata": {
        "id": "osSl4HwhyXvd",
        "colab_type": "code",
        "colab": {
          "base_uri": "https://localhost:8080/",
          "height": 35
        },
        "outputId": "88d17fc6-846c-4794-9dfc-c7c8f7325967"
      },
      "source": [
        "names.__contains__('paul')"
      ],
      "execution_count": 30,
      "outputs": [
        {
          "output_type": "execute_result",
          "data": {
            "text/plain": [
              "False"
            ]
          },
          "metadata": {
            "tags": []
          },
          "execution_count": 30
        }
      ]
    },
    {
      "cell_type": "markdown",
      "metadata": {
        "id": "YNwRbbnkyjPg",
        "colab_type": "text"
      },
      "source": [
        "Lists generally hold things of the same type. In Python, lists are mutable."
      ]
    },
    {
      "cell_type": "markdown",
      "metadata": {
        "id": "n58BfIXpzLCX",
        "colab_type": "text"
      },
      "source": [
        "# Slicing"
      ]
    },
    {
      "cell_type": "markdown",
      "metadata": {
        "id": "B3PmioD-zW15",
        "colab_type": "text"
      },
      "source": [
        "Numpy and Pandas use slicing extensively."
      ]
    },
    {
      "cell_type": "code",
      "metadata": {
        "id": "Agb2Z_GTzTzC",
        "colab_type": "code",
        "colab": {
          "base_uri": "https://localhost:8080/",
          "height": 35
        },
        "outputId": "7c508a01-3c08-4dc8-aa12-cefbb6d8301b"
      },
      "source": [
        "names"
      ],
      "execution_count": 31,
      "outputs": [
        {
          "output_type": "execute_result",
          "data": {
            "text/plain": [
              "['john', 'Paul', 'george', 'ringo']"
            ]
          },
          "metadata": {
            "tags": []
          },
          "execution_count": 31
        }
      ]
    },
    {
      "cell_type": "code",
      "metadata": {
        "id": "YQMV4ozfzgSm",
        "colab_type": "code",
        "colab": {}
      },
      "source": [
        "# literal\n",
        "last = ['lennon', 'mccartney', 'harrison', 'starr']"
      ],
      "execution_count": 32,
      "outputs": []
    },
    {
      "cell_type": "code",
      "metadata": {
        "id": "drmez8OCzwWw",
        "colab_type": "code",
        "colab": {
          "base_uri": "https://localhost:8080/",
          "height": 35
        },
        "outputId": "6597d7bc-6714-463e-a669-2949f086fb3a"
      },
      "source": [
        "enumerate(names)"
      ],
      "execution_count": 33,
      "outputs": [
        {
          "output_type": "execute_result",
          "data": {
            "text/plain": [
              "<enumerate at 0x7feb4a83ef30>"
            ]
          },
          "metadata": {
            "tags": []
          },
          "execution_count": 33
        }
      ]
    },
    {
      "cell_type": "code",
      "metadata": {
        "id": "dz385w1Xz1Kp",
        "colab_type": "code",
        "colab": {
          "base_uri": "https://localhost:8080/",
          "height": 35
        },
        "outputId": "f0823b44-81c2-4d5c-8b6a-80701fc7ccf4"
      },
      "source": [
        "# index values - using constructor\n",
        "list(enumerate(names))"
      ],
      "execution_count": 34,
      "outputs": [
        {
          "output_type": "execute_result",
          "data": {
            "text/plain": [
              "[(0, 'john'), (1, 'Paul'), (2, 'george'), (3, 'ringo')]"
            ]
          },
          "metadata": {
            "tags": []
          },
          "execution_count": 34
        }
      ]
    },
    {
      "cell_type": "code",
      "metadata": {
        "id": "UCUx2vBy0Frz",
        "colab_type": "code",
        "colab": {
          "base_uri": "https://localhost:8080/",
          "height": 35
        },
        "outputId": "480c87c6-73c8-4300-a215-f8eff3a0212a"
      },
      "source": [
        "# negative index values\n",
        "list((i - len(names), n) for i, n in enumerate(names))"
      ],
      "execution_count": 35,
      "outputs": [
        {
          "output_type": "execute_result",
          "data": {
            "text/plain": [
              "[(-4, 'john'), (-3, 'Paul'), (-2, 'george'), (-1, 'ringo')]"
            ]
          },
          "metadata": {
            "tags": []
          },
          "execution_count": 35
        }
      ]
    },
    {
      "cell_type": "code",
      "metadata": {
        "id": "LR3hnMdF0hmk",
        "colab_type": "code",
        "colab": {
          "base_uri": "https://localhost:8080/",
          "height": 35
        },
        "outputId": "47edfea4-db73-4a33-cec5-ce74fa6c96ca"
      },
      "source": [
        "names[0]"
      ],
      "execution_count": 36,
      "outputs": [
        {
          "output_type": "execute_result",
          "data": {
            "application/vnd.google.colaboratory.intrinsic+json": {
              "type": "string"
            },
            "text/plain": [
              "'john'"
            ]
          },
          "metadata": {
            "tags": []
          },
          "execution_count": 36
        }
      ]
    },
    {
      "cell_type": "code",
      "metadata": {
        "id": "dmbEy--Y0jcp",
        "colab_type": "code",
        "colab": {
          "base_uri": "https://localhost:8080/",
          "height": 35
        },
        "outputId": "11a36daa-04f3-42a3-9877-708ddf2b372e"
      },
      "source": [
        "names[-1]"
      ],
      "execution_count": 37,
      "outputs": [
        {
          "output_type": "execute_result",
          "data": {
            "application/vnd.google.colaboratory.intrinsic+json": {
              "type": "string"
            },
            "text/plain": [
              "'ringo'"
            ]
          },
          "metadata": {
            "tags": []
          },
          "execution_count": 37
        }
      ]
    },
    {
      "cell_type": "code",
      "metadata": {
        "id": "jjpE5M6j0ndJ",
        "colab_type": "code",
        "colab": {
          "base_uri": "https://localhost:8080/",
          "height": 35
        },
        "outputId": "e1ce5fdb-a35b-421a-c071-96f458bd89b1"
      },
      "source": [
        "# half-open interval\n",
        "# - includes start index but not end\n",
        "# - length = end - start\n",
        "names[0:3]"
      ],
      "execution_count": 38,
      "outputs": [
        {
          "output_type": "execute_result",
          "data": {
            "text/plain": [
              "['john', 'Paul', 'george']"
            ]
          },
          "metadata": {
            "tags": []
          },
          "execution_count": 38
        }
      ]
    },
    {
      "cell_type": "markdown",
      "metadata": {
        "id": "5OzFyvlL1H1S",
        "colab_type": "text"
      },
      "source": [
        "Uses half open interval. Makes writing parallel implementations easier."
      ]
    },
    {
      "cell_type": "code",
      "metadata": {
        "id": "IeiqSCnV1nWZ",
        "colab_type": "code",
        "colab": {
          "base_uri": "https://localhost:8080/",
          "height": 35
        },
        "outputId": "466e20b0-d802-48ba-a7dc-0e7084aef9ce"
      },
      "source": [
        "names[:3]"
      ],
      "execution_count": 39,
      "outputs": [
        {
          "output_type": "execute_result",
          "data": {
            "text/plain": [
              "['john', 'Paul', 'george']"
            ]
          },
          "metadata": {
            "tags": []
          },
          "execution_count": 39
        }
      ]
    },
    {
      "cell_type": "code",
      "metadata": {
        "id": "cxlnMtv51s6E",
        "colab_type": "code",
        "colab": {
          "base_uri": "https://localhost:8080/",
          "height": 35
        },
        "outputId": "98d21da2-f65d-4107-a484-8f5ae43d27e9"
      },
      "source": [
        "names"
      ],
      "execution_count": 40,
      "outputs": [
        {
          "output_type": "execute_result",
          "data": {
            "text/plain": [
              "['john', 'Paul', 'george', 'ringo']"
            ]
          },
          "metadata": {
            "tags": []
          },
          "execution_count": 40
        }
      ]
    },
    {
      "cell_type": "code",
      "metadata": {
        "id": "plkSgPZo1wBi",
        "colab_type": "code",
        "colab": {
          "base_uri": "https://localhost:8080/",
          "height": 35
        },
        "outputId": "f0edf759-e990-4eaf-9ff2-3848296ed323"
      },
      "source": [
        "names[2:]"
      ],
      "execution_count": 41,
      "outputs": [
        {
          "output_type": "execute_result",
          "data": {
            "text/plain": [
              "['george', 'ringo']"
            ]
          },
          "metadata": {
            "tags": []
          },
          "execution_count": 41
        }
      ]
    },
    {
      "cell_type": "code",
      "metadata": {
        "id": "Qcjx1khL11c0",
        "colab_type": "code",
        "colab": {
          "base_uri": "https://localhost:8080/",
          "height": 35
        },
        "outputId": "29334468-f0b5-4ee9-bae2-5fc1597cdc5a"
      },
      "source": [
        "names[-2:]"
      ],
      "execution_count": 42,
      "outputs": [
        {
          "output_type": "execute_result",
          "data": {
            "text/plain": [
              "['george', 'ringo']"
            ]
          },
          "metadata": {
            "tags": []
          },
          "execution_count": 42
        }
      ]
    },
    {
      "cell_type": "code",
      "metadata": {
        "id": "CpFth3QF18bv",
        "colab_type": "code",
        "colab": {}
      },
      "source": [
        "# create a copy\n",
        "names2 = names[:]"
      ],
      "execution_count": 43,
      "outputs": []
    },
    {
      "cell_type": "code",
      "metadata": {
        "id": "ZxAJNTWh2DXT",
        "colab_type": "code",
        "colab": {
          "base_uri": "https://localhost:8080/",
          "height": 35
        },
        "outputId": "d04733e0-d693-4f99-c5f2-76fb0983886d"
      },
      "source": [
        "id(names2)"
      ],
      "execution_count": 44,
      "outputs": [
        {
          "output_type": "execute_result",
          "data": {
            "text/plain": [
              "140648387539720"
            ]
          },
          "metadata": {
            "tags": []
          },
          "execution_count": 44
        }
      ]
    },
    {
      "cell_type": "code",
      "metadata": {
        "id": "L-oq9FSy2HNT",
        "colab_type": "code",
        "colab": {
          "base_uri": "https://localhost:8080/",
          "height": 35
        },
        "outputId": "7982ccae-5763-4d47-8f38-6f30ae9ff95e"
      },
      "source": [
        "id(names)"
      ],
      "execution_count": 45,
      "outputs": [
        {
          "output_type": "execute_result",
          "data": {
            "text/plain": [
              "140648377637320"
            ]
          },
          "metadata": {
            "tags": []
          },
          "execution_count": 45
        }
      ]
    },
    {
      "cell_type": "code",
      "metadata": {
        "id": "5aQfYNy_2LQ_",
        "colab_type": "code",
        "colab": {
          "base_uri": "https://localhost:8080/",
          "height": 35
        },
        "outputId": "531804fd-2ecc-4ce7-e2f4-14a9c9a535d9"
      },
      "source": [
        "names[0] is names2[0]"
      ],
      "execution_count": 46,
      "outputs": [
        {
          "output_type": "execute_result",
          "data": {
            "text/plain": [
              "True"
            ]
          },
          "metadata": {
            "tags": []
          },
          "execution_count": 46
        }
      ]
    },
    {
      "cell_type": "code",
      "metadata": {
        "id": "9cKH4ir_2SMQ",
        "colab_type": "code",
        "colab": {
          "base_uri": "https://localhost:8080/",
          "height": 35
        },
        "outputId": "e92a644c-a8e5-4833-9c32-5f6e5ebe2ef6"
      },
      "source": [
        "names == names2"
      ],
      "execution_count": 47,
      "outputs": [
        {
          "output_type": "execute_result",
          "data": {
            "text/plain": [
              "True"
            ]
          },
          "metadata": {
            "tags": []
          },
          "execution_count": 47
        }
      ]
    },
    {
      "cell_type": "code",
      "metadata": {
        "id": "6zkJWOSx2Wzm",
        "colab_type": "code",
        "colab": {
          "base_uri": "https://localhost:8080/",
          "height": 35
        },
        "outputId": "fbb015d4-6a3b-40ad-884b-053e876efac5"
      },
      "source": [
        "names is names2"
      ],
      "execution_count": 48,
      "outputs": [
        {
          "output_type": "execute_result",
          "data": {
            "text/plain": [
              "False"
            ]
          },
          "metadata": {
            "tags": []
          },
          "execution_count": 48
        }
      ]
    },
    {
      "cell_type": "code",
      "metadata": {
        "id": "MPNhLF2E2go_",
        "colab_type": "code",
        "colab": {
          "base_uri": "https://localhost:8080/",
          "height": 35
        },
        "outputId": "f7bc50ad-15f8-4a14-d5bc-c2fb05306c88"
      },
      "source": [
        "names[::-1]"
      ],
      "execution_count": 49,
      "outputs": [
        {
          "output_type": "execute_result",
          "data": {
            "text/plain": [
              "['ringo', 'george', 'Paul', 'john']"
            ]
          },
          "metadata": {
            "tags": []
          },
          "execution_count": 49
        }
      ]
    },
    {
      "cell_type": "code",
      "metadata": {
        "id": "eEcHtI3O2m_c",
        "colab_type": "code",
        "colab": {
          "base_uri": "https://localhost:8080/",
          "height": 35
        },
        "outputId": "b776cb76-e836-448a-944f-99ab3648820e"
      },
      "source": [
        "list(range(10))"
      ],
      "execution_count": 50,
      "outputs": [
        {
          "output_type": "execute_result",
          "data": {
            "text/plain": [
              "[0, 1, 2, 3, 4, 5, 6, 7, 8, 9]"
            ]
          },
          "metadata": {
            "tags": []
          },
          "execution_count": 50
        }
      ]
    },
    {
      "cell_type": "code",
      "metadata": {
        "id": "_tcdJoeD2sXg",
        "colab_type": "code",
        "colab": {
          "base_uri": "https://localhost:8080/",
          "height": 35
        },
        "outputId": "8d7f9b00-f2f6-4551-da32-0aa17a443d73"
      },
      "source": [
        "list(range(10))[::3]"
      ],
      "execution_count": 51,
      "outputs": [
        {
          "output_type": "execute_result",
          "data": {
            "text/plain": [
              "[0, 3, 6, 9]"
            ]
          },
          "metadata": {
            "tags": []
          },
          "execution_count": 51
        }
      ]
    },
    {
      "cell_type": "markdown",
      "metadata": {
        "id": "EDpqLqMg23oi",
        "colab_type": "text"
      },
      "source": [
        "Step or the stride in slice."
      ]
    },
    {
      "cell_type": "code",
      "metadata": {
        "id": "K_p6KvVH2_wz",
        "colab_type": "code",
        "colab": {
          "base_uri": "https://localhost:8080/",
          "height": 35
        },
        "outputId": "24d66bc2-0021-4def-cf72-e0e8fc3416ae"
      },
      "source": [
        "# also works with strings\n",
        "filename = 'resume.pdf'\n",
        "filename[:4]"
      ],
      "execution_count": 52,
      "outputs": [
        {
          "output_type": "execute_result",
          "data": {
            "application/vnd.google.colaboratory.intrinsic+json": {
              "type": "string"
            },
            "text/plain": [
              "'resu'"
            ]
          },
          "metadata": {
            "tags": []
          },
          "execution_count": 52
        }
      ]
    },
    {
      "cell_type": "code",
      "metadata": {
        "id": "UjpevNmm3XOp",
        "colab_type": "code",
        "colab": {
          "base_uri": "https://localhost:8080/",
          "height": 35
        },
        "outputId": "b89a6139-33d2-497e-a73d-a2eeb3a3c105"
      },
      "source": [
        "filename[4]"
      ],
      "execution_count": 53,
      "outputs": [
        {
          "output_type": "execute_result",
          "data": {
            "application/vnd.google.colaboratory.intrinsic+json": {
              "type": "string"
            },
            "text/plain": [
              "'m'"
            ]
          },
          "metadata": {
            "tags": []
          },
          "execution_count": 53
        }
      ]
    },
    {
      "cell_type": "code",
      "metadata": {
        "id": "p4TsZdPU3ala",
        "colab_type": "code",
        "colab": {
          "base_uri": "https://localhost:8080/",
          "height": 35
        },
        "outputId": "dc2e8859-6f0c-49ad-adcf-50474ccf7387"
      },
      "source": [
        "filename[-3:]"
      ],
      "execution_count": 54,
      "outputs": [
        {
          "output_type": "execute_result",
          "data": {
            "application/vnd.google.colaboratory.intrinsic+json": {
              "type": "string"
            },
            "text/plain": [
              "'pdf'"
            ]
          },
          "metadata": {
            "tags": []
          },
          "execution_count": 54
        }
      ]
    },
    {
      "cell_type": "code",
      "metadata": {
        "id": "Rz1FlTRA3jK7",
        "colab_type": "code",
        "colab": {
          "base_uri": "https://localhost:8080/",
          "height": 35
        },
        "outputId": "769cf647-6894-4d0d-aa21-3fe822d8607d"
      },
      "source": [
        "filename[::-1]"
      ],
      "execution_count": 55,
      "outputs": [
        {
          "output_type": "execute_result",
          "data": {
            "application/vnd.google.colaboratory.intrinsic+json": {
              "type": "string"
            },
            "text/plain": [
              "'fdp.emuser'"
            ]
          },
          "metadata": {
            "tags": []
          },
          "execution_count": 55
        }
      ]
    },
    {
      "cell_type": "markdown",
      "metadata": {
        "id": "wUGeAOyp4WBk",
        "colab_type": "text"
      },
      "source": [
        "#Dictionaries"
      ]
    },
    {
      "cell_type": "markdown",
      "metadata": {
        "id": "EYvthWGg4cPT",
        "colab_type": "text"
      },
      "source": [
        "By word can look up a definition. Maps key:value pairs. Mod 30 operation tells you what bucket something falls in. It's an order one operation. Dictionaries are good for mapping operation aka changing column names."
      ]
    },
    {
      "cell_type": "code",
      "metadata": {
        "id": "uIL5iT_t4s60",
        "colab_type": "code",
        "colab": {
          "base_uri": "https://localhost:8080/",
          "height": 35
        },
        "outputId": "1cbed1f2-f1de-4e35-81e6-82b600a86eb5"
      },
      "source": [
        "hash('name') % 30"
      ],
      "execution_count": 57,
      "outputs": [
        {
          "output_type": "execute_result",
          "data": {
            "text/plain": [
              "29"
            ]
          },
          "metadata": {
            "tags": []
          },
          "execution_count": 57
        }
      ]
    },
    {
      "cell_type": "code",
      "metadata": {
        "id": "BJXlnTm26rGo",
        "colab_type": "code",
        "colab": {
          "base_uri": "https://localhost:8080/",
          "height": 35
        },
        "outputId": "57bb79e7-4828-4bd2-f042-9bad9da9aeaf"
      },
      "source": [
        "hash('name')"
      ],
      "execution_count": 60,
      "outputs": [
        {
          "output_type": "execute_result",
          "data": {
            "text/plain": [
              "426268750792641839"
            ]
          },
          "metadata": {
            "tags": []
          },
          "execution_count": 60
        }
      ]
    },
    {
      "cell_type": "code",
      "metadata": {
        "id": "xdDFDg-y6ukb",
        "colab_type": "code",
        "colab": {
          "base_uri": "https://localhost:8080/",
          "height": 208
        },
        "outputId": "84a6fb44-deeb-44c0-a04d-2459c31c3a4b"
      },
      "source": [
        "hash([])"
      ],
      "execution_count": 61,
      "outputs": [
        {
          "output_type": "error",
          "ename": "TypeError",
          "evalue": "ignored",
          "traceback": [
            "\u001b[0;31m---------------------------------------------------------------------------\u001b[0m",
            "\u001b[0;31mTypeError\u001b[0m                                 Traceback (most recent call last)",
            "\u001b[0;32m<ipython-input-61-4c7351eba020>\u001b[0m in \u001b[0;36m<module>\u001b[0;34m()\u001b[0m\n\u001b[0;32m----> 1\u001b[0;31m \u001b[0mhash\u001b[0m\u001b[0;34m(\u001b[0m\u001b[0;34m[\u001b[0m\u001b[0;34m]\u001b[0m\u001b[0;34m)\u001b[0m\u001b[0;34m\u001b[0m\u001b[0;34m\u001b[0m\u001b[0m\n\u001b[0m",
            "\u001b[0;31mTypeError\u001b[0m: unhashable type: 'list'"
          ]
        }
      ]
    },
    {
      "cell_type": "markdown",
      "metadata": {
        "id": "ZbvzwV9F6AdM",
        "colab_type": "text"
      },
      "source": [
        "Example usage telling pandas the types of columns."
      ]
    },
    {
      "cell_type": "code",
      "metadata": {
        "id": "0YNJ_H8q4VQA",
        "colab_type": "code",
        "colab": {}
      },
      "source": [
        "# literal \n",
        "types = {'name': str, 'age': int, 'address': str}"
      ],
      "execution_count": 63,
      "outputs": []
    },
    {
      "cell_type": "markdown",
      "metadata": {
        "id": "V1JBi74r6akc",
        "colab_type": "text"
      },
      "source": [
        "Usings the constructor you need to pass valid literals."
      ]
    },
    {
      "cell_type": "code",
      "metadata": {
        "id": "8lTrDi8b6Hfv",
        "colab_type": "code",
        "colab": {}
      },
      "source": [
        "# constructor\n",
        "types2 = dict(name=str, age=int, address=str)"
      ],
      "execution_count": 59,
      "outputs": []
    },
    {
      "cell_type": "code",
      "metadata": {
        "id": "rCPXH_HJ60BQ",
        "colab_type": "code",
        "colab": {
          "base_uri": "https://localhost:8080/",
          "height": 35
        },
        "outputId": "8a627f9c-8561-4f54-bcc5-e0e75985fc45"
      },
      "source": [
        "# index access\n",
        "types['name']"
      ],
      "execution_count": 64,
      "outputs": [
        {
          "output_type": "execute_result",
          "data": {
            "text/plain": [
              "str"
            ]
          },
          "metadata": {
            "tags": []
          },
          "execution_count": 64
        }
      ]
    },
    {
      "cell_type": "markdown",
      "metadata": {
        "id": "tpygwdOu7W-H",
        "colab_type": "text"
      },
      "source": [
        "Dictionaries like lists are mutable."
      ]
    },
    {
      "cell_type": "code",
      "metadata": {
        "id": "KPZboLYl7Gc8",
        "colab_type": "code",
        "colab": {}
      },
      "source": [
        "# index assignment \n",
        "types['language'] = str"
      ],
      "execution_count": 65,
      "outputs": []
    },
    {
      "cell_type": "code",
      "metadata": {
        "id": "gVkF8gdW7dyI",
        "colab_type": "code",
        "colab": {
          "base_uri": "https://localhost:8080/",
          "height": 35
        },
        "outputId": "a9cefe5b-6edf-418c-d1cc-3cd7dd23226d"
      },
      "source": [
        "types"
      ],
      "execution_count": 66,
      "outputs": [
        {
          "output_type": "execute_result",
          "data": {
            "text/plain": [
              "{'address': str, 'age': int, 'language': str, 'name': str}"
            ]
          },
          "metadata": {
            "tags": []
          },
          "execution_count": 66
        }
      ]
    },
    {
      "cell_type": "code",
      "metadata": {
        "id": "zp4HK5kX7g_w",
        "colab_type": "code",
        "colab": {
          "base_uri": "https://localhost:8080/",
          "height": 208
        },
        "outputId": "678627a3-eaff-4556-dda6-e9f26f1ba737"
      },
      "source": [
        "types['food']"
      ],
      "execution_count": 67,
      "outputs": [
        {
          "output_type": "error",
          "ename": "KeyError",
          "evalue": "ignored",
          "traceback": [
            "\u001b[0;31m---------------------------------------------------------------------------\u001b[0m",
            "\u001b[0;31mKeyError\u001b[0m                                  Traceback (most recent call last)",
            "\u001b[0;32m<ipython-input-67-0a987f8628ae>\u001b[0m in \u001b[0;36m<module>\u001b[0;34m()\u001b[0m\n\u001b[0;32m----> 1\u001b[0;31m \u001b[0mtypes\u001b[0m\u001b[0;34m[\u001b[0m\u001b[0;34m'food'\u001b[0m\u001b[0;34m]\u001b[0m\u001b[0;34m\u001b[0m\u001b[0;34m\u001b[0m\u001b[0m\n\u001b[0m",
            "\u001b[0;31mKeyError\u001b[0m: 'food'"
          ]
        }
      ]
    },
    {
      "cell_type": "code",
      "metadata": {
        "id": "7jCWMtYF7m2G",
        "colab_type": "code",
        "colab": {
          "base_uri": "https://localhost:8080/",
          "height": 35
        },
        "outputId": "a060e922-72b7-49c5-ff6e-e8db18ea18cb"
      },
      "source": [
        "types.get('food', 'missing')"
      ],
      "execution_count": 68,
      "outputs": [
        {
          "output_type": "execute_result",
          "data": {
            "application/vnd.google.colaboratory.intrinsic+json": {
              "type": "string"
            },
            "text/plain": [
              "'missing'"
            ]
          },
          "metadata": {
            "tags": []
          },
          "execution_count": 68
        }
      ]
    },
    {
      "cell_type": "code",
      "metadata": {
        "id": "yWihWl1g7rav",
        "colab_type": "code",
        "colab": {}
      },
      "source": [
        "types.get?"
      ],
      "execution_count": 69,
      "outputs": []
    },
    {
      "cell_type": "code",
      "metadata": {
        "id": "QCOfkXeC7yFa",
        "colab_type": "code",
        "colab": {
          "base_uri": "https://localhost:8080/",
          "height": 55
        },
        "outputId": "00d8ddd2-c265-47a9-de58-207f23891bc9"
      },
      "source": [
        "print(dir(types))"
      ],
      "execution_count": 70,
      "outputs": [
        {
          "output_type": "stream",
          "text": [
            "['__class__', '__contains__', '__delattr__', '__delitem__', '__dir__', '__doc__', '__eq__', '__format__', '__ge__', '__getattribute__', '__getitem__', '__gt__', '__hash__', '__init__', '__init_subclass__', '__iter__', '__le__', '__len__', '__lt__', '__ne__', '__new__', '__reduce__', '__reduce_ex__', '__repr__', '__setattr__', '__setitem__', '__sizeof__', '__str__', '__subclasshook__', 'clear', 'copy', 'fromkeys', 'get', 'items', 'keys', 'pop', 'popitem', 'setdefault', 'update', 'values']\n"
          ],
          "name": "stdout"
        }
      ]
    },
    {
      "cell_type": "code",
      "metadata": {
        "id": "Eg8cj2Nb74pB",
        "colab_type": "code",
        "colab": {
          "base_uri": "https://localhost:8080/",
          "height": 35
        },
        "outputId": "5ccc08a9-8e68-4317-89a0-98e9c5076409"
      },
      "source": [
        "'food' in types"
      ],
      "execution_count": 71,
      "outputs": [
        {
          "output_type": "execute_result",
          "data": {
            "text/plain": [
              "False"
            ]
          },
          "metadata": {
            "tags": []
          },
          "execution_count": 71
        }
      ]
    },
    {
      "cell_type": "markdown",
      "metadata": {
        "id": "ihAuJ4299FZb",
        "colab_type": "text"
      },
      "source": [
        "#Loopings & Comprehensions\n"
      ]
    },
    {
      "cell_type": "code",
      "metadata": {
        "id": "TwrQG5B49N4_",
        "colab_type": "code",
        "colab": {
          "base_uri": "https://localhost:8080/",
          "height": 89
        },
        "outputId": "5dccfc89-f449-41c6-e780-04d79c472e5a"
      },
      "source": [
        "for name in names:\n",
        "    print(name)"
      ],
      "execution_count": 72,
      "outputs": [
        {
          "output_type": "stream",
          "text": [
            "john\n",
            "Paul\n",
            "george\n",
            "ringo\n"
          ],
          "name": "stdout"
        }
      ]
    },
    {
      "cell_type": "code",
      "metadata": {
        "colab_type": "code",
        "id": "yGzroFuz9a8L",
        "colab": {
          "base_uri": "https://localhost:8080/",
          "height": 89
        },
        "outputId": "87a9cbd5-2291-4809-f406-8d2bd4973cf0"
      },
      "source": [
        "for name in names:\n",
        "    print(name.title())"
      ],
      "execution_count": 73,
      "outputs": [
        {
          "output_type": "stream",
          "text": [
            "John\n",
            "Paul\n",
            "George\n",
            "Ringo\n"
          ],
          "name": "stdout"
        }
      ]
    },
    {
      "cell_type": "markdown",
      "metadata": {
        "id": "DNAgfmpx-KRz",
        "colab_type": "text"
      },
      "source": [
        "Code smell in Python:"
      ]
    },
    {
      "cell_type": "code",
      "metadata": {
        "id": "DAo-zgga9aBf",
        "colab_type": "code",
        "colab": {
          "base_uri": "https://localhost:8080/",
          "height": 35
        },
        "outputId": "a1ce19e6-56b6-471c-b0a3-d5ecb1017445"
      },
      "source": [
        "names2 = []\n",
        "for name in names:\n",
        "    names2.append(name.title())\n",
        "names2"
      ],
      "execution_count": 74,
      "outputs": [
        {
          "output_type": "execute_result",
          "data": {
            "text/plain": [
              "['John', 'Paul', 'George', 'Ringo']"
            ]
          },
          "metadata": {
            "tags": []
          },
          "execution_count": 74
        }
      ]
    },
    {
      "cell_type": "markdown",
      "metadata": {
        "id": "mvj_ha9j-lW0",
        "colab_type": "text"
      },
      "source": [
        "To convert to a list comprehension, nest the for statement in your list without the : and add your fuction call or method."
      ]
    },
    {
      "cell_type": "markdown",
      "metadata": {
        "id": "tBER0O5x9_ZU",
        "colab_type": "text"
      },
      "source": [
        "List comprehensions are syntactic sugar."
      ]
    },
    {
      "cell_type": "code",
      "metadata": {
        "id": "m2FK64hk9yPP",
        "colab_type": "code",
        "colab": {
          "base_uri": "https://localhost:8080/",
          "height": 35
        },
        "outputId": "2dc25ddf-d42b-4abf-8dfc-f68cd6cc544a"
      },
      "source": [
        "names2 = [name.title() for name in names]\n",
        "names2"
      ],
      "execution_count": 75,
      "outputs": [
        {
          "output_type": "execute_result",
          "data": {
            "text/plain": [
              "['John', 'Paul', 'George', 'Ringo']"
            ]
          },
          "metadata": {
            "tags": []
          },
          "execution_count": 75
        }
      ]
    },
    {
      "cell_type": "code",
      "metadata": {
        "id": "HLhZXFqH_BJJ",
        "colab_type": "code",
        "colab": {
          "base_uri": "https://localhost:8080/",
          "height": 35
        },
        "outputId": "0d1e5a7d-6c0a-4b83-e10b-5542209177b1"
      },
      "source": [
        "types"
      ],
      "execution_count": 76,
      "outputs": [
        {
          "output_type": "execute_result",
          "data": {
            "text/plain": [
              "{'address': str, 'age': int, 'language': str, 'name': str}"
            ]
          },
          "metadata": {
            "tags": []
          },
          "execution_count": 76
        }
      ]
    },
    {
      "cell_type": "markdown",
      "metadata": {
        "id": "sq59szer_Jib",
        "colab_type": "text"
      },
      "source": [
        "When loop over a dictionary you loop over the keys. A dictionary is ordered in Python 3.6 and above."
      ]
    },
    {
      "cell_type": "code",
      "metadata": {
        "id": "z6H3iCf7_Aeo",
        "colab_type": "code",
        "colab": {
          "base_uri": "https://localhost:8080/",
          "height": 89
        },
        "outputId": "0fa54541-2469-48c5-c124-1067d709fa48"
      },
      "source": [
        "for t in types:\n",
        "    print(t)"
      ],
      "execution_count": 77,
      "outputs": [
        {
          "output_type": "stream",
          "text": [
            "name\n",
            "age\n",
            "address\n",
            "language\n"
          ],
          "name": "stdout"
        }
      ]
    },
    {
      "cell_type": "markdown",
      "metadata": {
        "id": "PQ_46UD__sxH",
        "colab_type": "text"
      },
      "source": [
        "Code smell again."
      ]
    },
    {
      "cell_type": "code",
      "metadata": {
        "id": "8N-imwS2_h67",
        "colab_type": "code",
        "colab": {
          "base_uri": "https://localhost:8080/",
          "height": 55
        },
        "outputId": "0f902476-6837-45c9-f0fd-b16143e16956"
      },
      "source": [
        "new_names = {}\n",
        "for t in types:\n",
        "    new_names[t] = t.title()\n",
        "new_names"
      ],
      "execution_count": 80,
      "outputs": [
        {
          "output_type": "execute_result",
          "data": {
            "text/plain": [
              "{'address': 'Address', 'age': 'Age', 'language': 'Language', 'name': 'Name'}"
            ]
          },
          "metadata": {
            "tags": []
          },
          "execution_count": 80
        }
      ]
    },
    {
      "cell_type": "code",
      "metadata": {
        "id": "ZRpIgywF_zcJ",
        "colab_type": "code",
        "colab": {
          "base_uri": "https://localhost:8080/",
          "height": 55
        },
        "outputId": "506453e3-ac94-4875-d82b-5d50b5feebba"
      },
      "source": [
        "new_names = {t: t.title() for t in types}\n",
        "new_names"
      ],
      "execution_count": 81,
      "outputs": [
        {
          "output_type": "execute_result",
          "data": {
            "text/plain": [
              "{'address': 'Address', 'age': 'Age', 'language': 'Language', 'name': 'Name'}"
            ]
          },
          "metadata": {
            "tags": []
          },
          "execution_count": 81
        }
      ]
    },
    {
      "cell_type": "markdown",
      "metadata": {
        "id": "7FVLy_yaAJzu",
        "colab_type": "text"
      },
      "source": [
        "#Functions and Lambdas"
      ]
    },
    {
      "cell_type": "markdown",
      "metadata": {
        "id": "0O6mmqNLBScY",
        "colab_type": "text"
      },
      "source": [
        "Everything following the colon is indented and considered a block."
      ]
    },
    {
      "cell_type": "code",
      "metadata": {
        "id": "uVISP6zAAzxR",
        "colab_type": "code",
        "colab": {}
      },
      "source": [
        "def add(x, y):\n",
        "  \"\"\"This adds two values\n",
        "  >>> add(2, 4)\n",
        "  6\n",
        "  \"\"\"\n",
        "  return x + y"
      ],
      "execution_count": 82,
      "outputs": []
    },
    {
      "cell_type": "code",
      "metadata": {
        "id": "g4qGPRM1Bib1",
        "colab_type": "code",
        "colab": {
          "base_uri": "https://localhost:8080/",
          "height": 35
        },
        "outputId": "ac252d68-0bb7-4528-f8da-26379580f8c2"
      },
      "source": [
        "add(2, 4)"
      ],
      "execution_count": 83,
      "outputs": [
        {
          "output_type": "execute_result",
          "data": {
            "text/plain": [
              "6"
            ]
          },
          "metadata": {
            "tags": []
          },
          "execution_count": 83
        }
      ]
    },
    {
      "cell_type": "code",
      "metadata": {
        "id": "GkYFnJ14Bnwm",
        "colab_type": "code",
        "colab": {
          "base_uri": "https://localhost:8080/",
          "height": 35
        },
        "outputId": "10a97bed-ead4-4581-aaa5-2e84161cd837"
      },
      "source": [
        "add"
      ],
      "execution_count": 84,
      "outputs": [
        {
          "output_type": "execute_result",
          "data": {
            "text/plain": [
              "<function __main__.add>"
            ]
          },
          "metadata": {
            "tags": []
          },
          "execution_count": 84
        }
      ]
    },
    {
      "cell_type": "code",
      "metadata": {
        "id": "V1PT_1JoBtbR",
        "colab_type": "code",
        "colab": {
          "base_uri": "https://localhost:8080/",
          "height": 143
        },
        "outputId": "351a241c-9eb0-4fd1-ac85-a5c0c71a5ac5"
      },
      "source": [
        "help(add)"
      ],
      "execution_count": 85,
      "outputs": [
        {
          "output_type": "stream",
          "text": [
            "Help on function add in module __main__:\n",
            "\n",
            "add(x, y)\n",
            "    This adds two values\n",
            "    >>> add(2, 4)\n",
            "    6\n",
            "\n"
          ],
          "name": "stdout"
        }
      ]
    },
    {
      "cell_type": "code",
      "metadata": {
        "id": "LEDxWfPOB1xg",
        "colab_type": "code",
        "colab": {}
      },
      "source": [
        "add?"
      ],
      "execution_count": 86,
      "outputs": []
    },
    {
      "cell_type": "code",
      "metadata": {
        "id": "D-aTdFEFCEkx",
        "colab_type": "code",
        "colab": {}
      },
      "source": [
        "add??"
      ],
      "execution_count": 87,
      "outputs": []
    },
    {
      "cell_type": "markdown",
      "metadata": {
        "id": "SUNS0N4mCwT7",
        "colab_type": "text"
      },
      "source": [
        "Only on else available at the end of the conditional."
      ]
    },
    {
      "cell_type": "code",
      "metadata": {
        "id": "Bwc5uEMiCNgh",
        "colab_type": "code",
        "colab": {}
      },
      "source": [
        "# conditional aside\n",
        "if name == 'paul':\n",
        "    last = 'mccartney'\n",
        "elif name == 'john':\n",
        "    last = 'lennon'\n",
        "else:\n",
        "    last = 'doe'"
      ],
      "execution_count": 88,
      "outputs": []
    },
    {
      "cell_type": "code",
      "metadata": {
        "id": "LNtSY0BeC1fC",
        "colab_type": "code",
        "colab": {
          "base_uri": "https://localhost:8080/",
          "height": 35
        },
        "outputId": "64604f8d-c87c-4514-eb3a-00b760a32636"
      },
      "source": [
        "name, last"
      ],
      "execution_count": 89,
      "outputs": [
        {
          "output_type": "execute_result",
          "data": {
            "text/plain": [
              "('ringo', 'doe')"
            ]
          },
          "metadata": {
            "tags": []
          },
          "execution_count": 89
        }
      ]
    },
    {
      "cell_type": "code",
      "metadata": {
        "id": "Gc1jekJ2C-VN",
        "colab_type": "code",
        "colab": {}
      },
      "source": [
        "def median(values):\n",
        "    \"\"\"\n",
        "    Return the middle value  (if odd)\n",
        "    or the average of the two middle values (if even)\n",
        "    >>> median([1, 4, 5])\n",
        "    4\n",
        "    >>> median([0, 2, 6, 100])\n",
        "    4.0\n",
        "    \"\"\"\n",
        "\n",
        "    values = sorted(values)\n",
        "    size = len(values)\n",
        "    if size % 2 == 0:\n",
        "        left = values[int(size/2-1)]\n",
        "        right = values[int(size/2)]\n",
        "        return (left + right)/2\n",
        "    else:\n",
        "        return values[int(size/2)]"
      ],
      "execution_count": 90,
      "outputs": []
    },
    {
      "cell_type": "code",
      "metadata": {
        "id": "FbEzRm3hFDP8",
        "colab_type": "code",
        "colab": {
          "base_uri": "https://localhost:8080/",
          "height": 35
        },
        "outputId": "f365af27-5cf8-4805-d279-fa52241ff315"
      },
      "source": [
        "median"
      ],
      "execution_count": 91,
      "outputs": [
        {
          "output_type": "execute_result",
          "data": {
            "text/plain": [
              "<function __main__.median>"
            ]
          },
          "metadata": {
            "tags": []
          },
          "execution_count": 91
        }
      ]
    },
    {
      "cell_type": "code",
      "metadata": {
        "id": "s71OWbJcFGdS",
        "colab_type": "code",
        "colab": {
          "base_uri": "https://localhost:8080/",
          "height": 35
        },
        "outputId": "b29fce1c-5ea4-4de5-bfd7-ad3b2ce7722a"
      },
      "source": [
        "median(range(100))"
      ],
      "execution_count": 92,
      "outputs": [
        {
          "output_type": "execute_result",
          "data": {
            "text/plain": [
              "49.5"
            ]
          },
          "metadata": {
            "tags": []
          },
          "execution_count": 92
        }
      ]
    },
    {
      "cell_type": "code",
      "metadata": {
        "id": "2MyCABYKFNze",
        "colab_type": "code",
        "colab": {
          "base_uri": "https://localhost:8080/",
          "height": 35
        },
        "outputId": "2fbe82c4-b314-49c0-bfa5-b10b7c140290"
      },
      "source": [
        "median([100, 1, 200])"
      ],
      "execution_count": 93,
      "outputs": [
        {
          "output_type": "execute_result",
          "data": {
            "text/plain": [
              "100"
            ]
          },
          "metadata": {
            "tags": []
          },
          "execution_count": 93
        }
      ]
    },
    {
      "cell_type": "code",
      "metadata": {
        "id": "n8DwPljPFVxM",
        "colab_type": "code",
        "colab": {}
      },
      "source": [
        "# tuples\n",
        "person = ('Paul', 'McCartney', 'Bass')"
      ],
      "execution_count": 103,
      "outputs": []
    },
    {
      "cell_type": "code",
      "metadata": {
        "id": "VEc7oODPFh21",
        "colab_type": "code",
        "colab": {
          "base_uri": "https://localhost:8080/",
          "height": 208
        },
        "outputId": "63166b72-7779-4cf6-c4b3-04bf39945870"
      },
      "source": [
        "type({person})"
      ],
      "execution_count": 104,
      "outputs": [
        {
          "output_type": "error",
          "ename": "TypeError",
          "evalue": "ignored",
          "traceback": [
            "\u001b[0;31m---------------------------------------------------------------------------\u001b[0m",
            "\u001b[0;31mTypeError\u001b[0m                                 Traceback (most recent call last)",
            "\u001b[0;32m<ipython-input-104-16d85c536917>\u001b[0m in \u001b[0;36m<module>\u001b[0;34m()\u001b[0m\n\u001b[0;32m----> 1\u001b[0;31m \u001b[0mtype\u001b[0m\u001b[0;34m(\u001b[0m\u001b[0;34m{\u001b[0m\u001b[0mperson\u001b[0m\u001b[0;34m}\u001b[0m\u001b[0;34m)\u001b[0m\u001b[0;34m\u001b[0m\u001b[0;34m\u001b[0m\u001b[0m\n\u001b[0m",
            "\u001b[0;31mTypeError\u001b[0m: 'dict' object is not callable"
          ]
        }
      ]
    },
    {
      "cell_type": "markdown",
      "metadata": {
        "id": "6Zh1ww4nGv70",
        "colab_type": "text"
      },
      "source": [
        "Tuples can be used to return multiple items from a function."
      ]
    },
    {
      "cell_type": "code",
      "metadata": {
        "id": "wCyarMtGGvfJ",
        "colab_type": "code",
        "colab": {}
      },
      "source": [
        "def roots(val):\n",
        "    return (val**.5, -(val**.5))"
      ],
      "execution_count": 105,
      "outputs": []
    },
    {
      "cell_type": "code",
      "metadata": {
        "id": "fobtDHDwHSy5",
        "colab_type": "code",
        "colab": {
          "base_uri": "https://localhost:8080/",
          "height": 35
        },
        "outputId": "b6c09d70-1f0e-4e71-bacb-35bd5b5992c9"
      },
      "source": [
        "roots(4)"
      ],
      "execution_count": 106,
      "outputs": [
        {
          "output_type": "execute_result",
          "data": {
            "text/plain": [
              "(2.0, -2.0)"
            ]
          },
          "metadata": {
            "tags": []
          },
          "execution_count": 106
        }
      ]
    },
    {
      "cell_type": "markdown",
      "metadata": {
        "id": "PhwQB53MHWy0",
        "colab_type": "text"
      },
      "source": [
        "Lambda functions returns an expression:"
      ]
    },
    {
      "cell_type": "code",
      "metadata": {
        "id": "ikpp9lX8HWBm",
        "colab_type": "code",
        "colab": {
          "base_uri": "https://localhost:8080/",
          "height": 35
        },
        "outputId": "99c020d5-a789-4fbc-89f8-680a74a03b19"
      },
      "source": [
        "adder2 = lambda x, y: x + y \n",
        "add(42, 10) == adder2(42, 10)"
      ],
      "execution_count": 108,
      "outputs": [
        {
          "output_type": "execute_result",
          "data": {
            "text/plain": [
              "True"
            ]
          },
          "metadata": {
            "tags": []
          },
          "execution_count": 108
        }
      ]
    },
    {
      "cell_type": "markdown",
      "metadata": {
        "id": "RjjW9aFqIbBk",
        "colab_type": "text"
      },
      "source": [
        "Max a variable and pass parameters."
      ]
    },
    {
      "cell_type": "code",
      "metadata": {
        "id": "lxheqp6NIGAV",
        "colab_type": "code",
        "colab": {}
      },
      "source": [
        "roots2 = lambda val: (val**.5, -(val**.5))"
      ],
      "execution_count": 109,
      "outputs": []
    },
    {
      "cell_type": "code",
      "metadata": {
        "id": "pg6fCTbKIiWE",
        "colab_type": "code",
        "colab": {
          "base_uri": "https://localhost:8080/",
          "height": 35
        },
        "outputId": "0df158b1-d6b8-48e1-faba-c59cee99451c"
      },
      "source": [
        "roots2(64)"
      ],
      "execution_count": 110,
      "outputs": [
        {
          "output_type": "execute_result",
          "data": {
            "text/plain": [
              "(8.0, -8.0)"
            ]
          },
          "metadata": {
            "tags": []
          },
          "execution_count": 110
        }
      ]
    }
  ]
}